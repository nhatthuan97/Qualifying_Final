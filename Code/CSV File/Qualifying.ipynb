{
 "cells": [
  {
   "cell_type": "code",
   "execution_count": 1,
   "id": "952915a7",
   "metadata": {
    "tags": []
   },
   "outputs": [],
   "source": [
    "import plotly.io as pio\n",
    "pio.renderers.default = \"notebook+pdf\""
   ]
  },
  {
   "cell_type": "code",
   "execution_count": 2,
   "id": "c99662a3",
   "metadata": {
    "id": "sZmBXusrfQvA",
    "papermill": {
     "duration": 1.359325,
     "end_time": "2023-01-01T21:07:24.206164",
     "exception": false,
     "start_time": "2023-01-01T21:07:22.846839",
     "status": "completed"
    },
    "tags": []
   },
   "outputs": [
    {
     "data": {
      "text/html": [
       "        <script type=\"text/javascript\">\n",
       "        window.PlotlyConfig = {MathJaxConfig: 'local'};\n",
       "        if (window.MathJax && window.MathJax.Hub && window.MathJax.Hub.Config) {window.MathJax.Hub.Config({SVG: {font: \"STIX-Web\"}});}\n",
       "        if (typeof require !== 'undefined') {\n",
       "        require.undef(\"plotly\");\n",
       "        requirejs.config({\n",
       "            paths: {\n",
       "                'plotly': ['https://cdn.plot.ly/plotly-2.12.1.min']\n",
       "            }\n",
       "        });\n",
       "        require(['plotly'], function(Plotly) {\n",
       "            window._Plotly = Plotly;\n",
       "        });\n",
       "        }\n",
       "        </script>\n",
       "        "
      ]
     },
     "metadata": {},
     "output_type": "display_data"
    }
   ],
   "source": [
    "import pandas as pd\n",
    "import numpy as np\n",
    "\n",
    "import plotly.express as px\n",
    "from plotly.subplots import make_subplots\n",
    "import plotly.graph_objects as go\n",
    "\n",
    "from sklearn.impute import SimpleImputer\n",
    "from sklearn.model_selection import StratifiedShuffleSplit\n",
    "from typing import List\n",
    "from sklearn.preprocessing import RobustScaler,StandardScaler\n",
    "from sklearn.decomposition import PCA\n",
    "from sklearn.pipeline import Pipeline\n",
    "from sklearn.linear_model import LogisticRegression\n",
    "from sklearn.metrics import accuracy_score,confusion_matrix\n",
    "from sklearn.model_selection import GridSearchCV\n",
    "from sklearn.ensemble import RandomForestClassifier, VotingClassifier\n",
    "from sklearn.neighbors import KNeighborsClassifier\n",
    "from sklearn.svm import SVC\n",
    "from sklearn.metrics import precision_recall_fscore_support\n",
    "\n",
    "from imblearn.over_sampling import SMOTE, ADASYN\n",
    "from imblearn.over_sampling import RandomOverSampler\n",
    "\n",
    "from plotly.offline import plot, iplot, init_notebook_mode\n",
    "init_notebook_mode(connected=True)\n",
    "\n",
    "import warnings\n",
    "\n",
    "warnings.filterwarnings('ignore')"
   ]
  },
  {
   "cell_type": "code",
   "execution_count": 3,
   "id": "2e6244a5",
   "metadata": {
    "id": "kjNz5IiaG4tK",
    "outputId": "860b0a7a-47fa-476a-a27e-7a6cb43573b6",
    "papermill": {
     "duration": 0.073437,
     "end_time": "2023-01-01T21:07:24.316085",
     "exception": false,
     "start_time": "2023-01-01T21:07:24.242648",
     "status": "completed"
    },
    "tags": []
   },
   "outputs": [
    {
     "data": {
      "text/html": [
       "<div>\n",
       "<style scoped>\n",
       "    .dataframe tbody tr th:only-of-type {\n",
       "        vertical-align: middle;\n",
       "    }\n",
       "\n",
       "    .dataframe tbody tr th {\n",
       "        vertical-align: top;\n",
       "    }\n",
       "\n",
       "    .dataframe thead th {\n",
       "        text-align: right;\n",
       "    }\n",
       "</style>\n",
       "<table border=\"1\" class=\"dataframe\">\n",
       "  <thead>\n",
       "    <tr style=\"text-align: right;\">\n",
       "      <th></th>\n",
       "      <th>Age</th>\n",
       "      <th>Number of sexual partners</th>\n",
       "      <th>First sexual intercourse</th>\n",
       "      <th>Num of pregnancies</th>\n",
       "      <th>Smokes</th>\n",
       "      <th>Smokes (years)</th>\n",
       "      <th>Smokes (packs/year)</th>\n",
       "      <th>Hormonal Contraceptives</th>\n",
       "      <th>Hormonal Contraceptives (years)</th>\n",
       "      <th>IUD</th>\n",
       "      <th>...</th>\n",
       "      <th>STDs: Time since first diagnosis</th>\n",
       "      <th>STDs: Time since last diagnosis</th>\n",
       "      <th>Dx:Cancer</th>\n",
       "      <th>Dx:CIN</th>\n",
       "      <th>Dx:HPV</th>\n",
       "      <th>Dx</th>\n",
       "      <th>Hinselmann</th>\n",
       "      <th>Schiller</th>\n",
       "      <th>Citology</th>\n",
       "      <th>Biopsy</th>\n",
       "    </tr>\n",
       "  </thead>\n",
       "  <tbody>\n",
       "    <tr>\n",
       "      <th>0</th>\n",
       "      <td>18</td>\n",
       "      <td>4.0</td>\n",
       "      <td>15.0</td>\n",
       "      <td>1.0</td>\n",
       "      <td>0.0</td>\n",
       "      <td>0.0</td>\n",
       "      <td>0.0</td>\n",
       "      <td>0.0</td>\n",
       "      <td>0.0</td>\n",
       "      <td>0.0</td>\n",
       "      <td>...</td>\n",
       "      <td>?</td>\n",
       "      <td>?</td>\n",
       "      <td>0</td>\n",
       "      <td>0</td>\n",
       "      <td>0</td>\n",
       "      <td>0</td>\n",
       "      <td>0</td>\n",
       "      <td>0</td>\n",
       "      <td>0</td>\n",
       "      <td>0</td>\n",
       "    </tr>\n",
       "    <tr>\n",
       "      <th>1</th>\n",
       "      <td>15</td>\n",
       "      <td>1.0</td>\n",
       "      <td>14.0</td>\n",
       "      <td>1.0</td>\n",
       "      <td>0.0</td>\n",
       "      <td>0.0</td>\n",
       "      <td>0.0</td>\n",
       "      <td>0.0</td>\n",
       "      <td>0.0</td>\n",
       "      <td>0.0</td>\n",
       "      <td>...</td>\n",
       "      <td>?</td>\n",
       "      <td>?</td>\n",
       "      <td>0</td>\n",
       "      <td>0</td>\n",
       "      <td>0</td>\n",
       "      <td>0</td>\n",
       "      <td>0</td>\n",
       "      <td>0</td>\n",
       "      <td>0</td>\n",
       "      <td>0</td>\n",
       "    </tr>\n",
       "    <tr>\n",
       "      <th>2</th>\n",
       "      <td>34</td>\n",
       "      <td>1.0</td>\n",
       "      <td>?</td>\n",
       "      <td>1.0</td>\n",
       "      <td>0.0</td>\n",
       "      <td>0.0</td>\n",
       "      <td>0.0</td>\n",
       "      <td>0.0</td>\n",
       "      <td>0.0</td>\n",
       "      <td>0.0</td>\n",
       "      <td>...</td>\n",
       "      <td>?</td>\n",
       "      <td>?</td>\n",
       "      <td>0</td>\n",
       "      <td>0</td>\n",
       "      <td>0</td>\n",
       "      <td>0</td>\n",
       "      <td>0</td>\n",
       "      <td>0</td>\n",
       "      <td>0</td>\n",
       "      <td>0</td>\n",
       "    </tr>\n",
       "    <tr>\n",
       "      <th>3</th>\n",
       "      <td>52</td>\n",
       "      <td>5.0</td>\n",
       "      <td>16.0</td>\n",
       "      <td>4.0</td>\n",
       "      <td>1.0</td>\n",
       "      <td>37.0</td>\n",
       "      <td>37.0</td>\n",
       "      <td>1.0</td>\n",
       "      <td>3.0</td>\n",
       "      <td>0.0</td>\n",
       "      <td>...</td>\n",
       "      <td>?</td>\n",
       "      <td>?</td>\n",
       "      <td>1</td>\n",
       "      <td>0</td>\n",
       "      <td>1</td>\n",
       "      <td>0</td>\n",
       "      <td>0</td>\n",
       "      <td>0</td>\n",
       "      <td>0</td>\n",
       "      <td>0</td>\n",
       "    </tr>\n",
       "    <tr>\n",
       "      <th>4</th>\n",
       "      <td>46</td>\n",
       "      <td>3.0</td>\n",
       "      <td>21.0</td>\n",
       "      <td>4.0</td>\n",
       "      <td>0.0</td>\n",
       "      <td>0.0</td>\n",
       "      <td>0.0</td>\n",
       "      <td>1.0</td>\n",
       "      <td>15.0</td>\n",
       "      <td>0.0</td>\n",
       "      <td>...</td>\n",
       "      <td>?</td>\n",
       "      <td>?</td>\n",
       "      <td>0</td>\n",
       "      <td>0</td>\n",
       "      <td>0</td>\n",
       "      <td>0</td>\n",
       "      <td>0</td>\n",
       "      <td>0</td>\n",
       "      <td>0</td>\n",
       "      <td>0</td>\n",
       "    </tr>\n",
       "  </tbody>\n",
       "</table>\n",
       "<p>5 rows × 36 columns</p>\n",
       "</div>"
      ],
      "text/plain": [
       "   Age Number of sexual partners First sexual intercourse Num of pregnancies  \\\n",
       "0   18                       4.0                     15.0                1.0   \n",
       "1   15                       1.0                     14.0                1.0   \n",
       "2   34                       1.0                        ?                1.0   \n",
       "3   52                       5.0                     16.0                4.0   \n",
       "4   46                       3.0                     21.0                4.0   \n",
       "\n",
       "  Smokes Smokes (years) Smokes (packs/year) Hormonal Contraceptives  \\\n",
       "0    0.0            0.0                 0.0                     0.0   \n",
       "1    0.0            0.0                 0.0                     0.0   \n",
       "2    0.0            0.0                 0.0                     0.0   \n",
       "3    1.0           37.0                37.0                     1.0   \n",
       "4    0.0            0.0                 0.0                     1.0   \n",
       "\n",
       "  Hormonal Contraceptives (years)  IUD  ... STDs: Time since first diagnosis  \\\n",
       "0                             0.0  0.0  ...                                ?   \n",
       "1                             0.0  0.0  ...                                ?   \n",
       "2                             0.0  0.0  ...                                ?   \n",
       "3                             3.0  0.0  ...                                ?   \n",
       "4                            15.0  0.0  ...                                ?   \n",
       "\n",
       "  STDs: Time since last diagnosis Dx:Cancer Dx:CIN Dx:HPV Dx Hinselmann  \\\n",
       "0                               ?         0      0      0  0          0   \n",
       "1                               ?         0      0      0  0          0   \n",
       "2                               ?         0      0      0  0          0   \n",
       "3                               ?         1      0      1  0          0   \n",
       "4                               ?         0      0      0  0          0   \n",
       "\n",
       "  Schiller Citology Biopsy  \n",
       "0        0        0      0  \n",
       "1        0        0      0  \n",
       "2        0        0      0  \n",
       "3        0        0      0  \n",
       "4        0        0      0  \n",
       "\n",
       "[5 rows x 36 columns]"
      ]
     },
     "execution_count": 3,
     "metadata": {},
     "output_type": "execute_result"
    }
   ],
   "source": [
    "df=pd.read_csv(\"./Data/kag_risk_factors_cervical_cancer.csv\")\n",
    "df.head()"
   ]
  },
  {
   "cell_type": "code",
   "execution_count": 4,
   "id": "68b5d337",
   "metadata": {
    "id": "wwjJKZnBHzdu",
    "papermill": {
     "duration": 0.018421,
     "end_time": "2023-01-01T21:07:24.344377",
     "exception": false,
     "start_time": "2023-01-01T21:07:24.325956",
     "status": "completed"
    },
    "tags": []
   },
   "outputs": [],
   "source": [
    "target = 'Biopsy'"
   ]
  },
  {
   "cell_type": "code",
   "execution_count": 5,
   "id": "6edeb46a",
   "metadata": {
    "id": "3IwtNVb6HC27",
    "outputId": "7c67ec2c-08da-401e-e399-89cc1297e5a2",
    "papermill": {
     "duration": 0.040407,
     "end_time": "2023-01-01T21:07:24.394781",
     "exception": false,
     "start_time": "2023-01-01T21:07:24.354374",
     "status": "completed"
    },
    "tags": []
   },
   "outputs": [
    {
     "name": "stdout",
     "output_type": "stream",
     "text": [
      "<class 'pandas.core.frame.DataFrame'>\n",
      "RangeIndex: 858 entries, 0 to 857\n",
      "Data columns (total 36 columns):\n",
      " #   Column                              Non-Null Count  Dtype \n",
      "---  ------                              --------------  ----- \n",
      " 0   Age                                 858 non-null    int64 \n",
      " 1   Number of sexual partners           858 non-null    object\n",
      " 2   First sexual intercourse            858 non-null    object\n",
      " 3   Num of pregnancies                  858 non-null    object\n",
      " 4   Smokes                              858 non-null    object\n",
      " 5   Smokes (years)                      858 non-null    object\n",
      " 6   Smokes (packs/year)                 858 non-null    object\n",
      " 7   Hormonal Contraceptives             858 non-null    object\n",
      " 8   Hormonal Contraceptives (years)     858 non-null    object\n",
      " 9   IUD                                 858 non-null    object\n",
      " 10  IUD (years)                         858 non-null    object\n",
      " 11  STDs                                858 non-null    object\n",
      " 12  STDs (number)                       858 non-null    object\n",
      " 13  STDs:condylomatosis                 858 non-null    object\n",
      " 14  STDs:cervical condylomatosis        858 non-null    object\n",
      " 15  STDs:vaginal condylomatosis         858 non-null    object\n",
      " 16  STDs:vulvo-perineal condylomatosis  858 non-null    object\n",
      " 17  STDs:syphilis                       858 non-null    object\n",
      " 18  STDs:pelvic inflammatory disease    858 non-null    object\n",
      " 19  STDs:genital herpes                 858 non-null    object\n",
      " 20  STDs:molluscum contagiosum          858 non-null    object\n",
      " 21  STDs:AIDS                           858 non-null    object\n",
      " 22  STDs:HIV                            858 non-null    object\n",
      " 23  STDs:Hepatitis B                    858 non-null    object\n",
      " 24  STDs:HPV                            858 non-null    object\n",
      " 25  STDs: Number of diagnosis           858 non-null    int64 \n",
      " 26  STDs: Time since first diagnosis    858 non-null    object\n",
      " 27  STDs: Time since last diagnosis     858 non-null    object\n",
      " 28  Dx:Cancer                           858 non-null    int64 \n",
      " 29  Dx:CIN                              858 non-null    int64 \n",
      " 30  Dx:HPV                              858 non-null    int64 \n",
      " 31  Dx                                  858 non-null    int64 \n",
      " 32  Hinselmann                          858 non-null    int64 \n",
      " 33  Schiller                            858 non-null    int64 \n",
      " 34  Citology                            858 non-null    int64 \n",
      " 35  Biopsy                              858 non-null    int64 \n",
      "dtypes: int64(10), object(26)\n",
      "memory usage: 241.4+ KB\n"
     ]
    }
   ],
   "source": [
    "df.info()"
   ]
  },
  {
   "cell_type": "markdown",
   "id": "600689d0",
   "metadata": {
    "id": "94kEK4DPEK3J",
    "papermill": {
     "duration": 0.00976,
     "end_time": "2023-01-01T21:07:24.415457",
     "exception": false,
     "start_time": "2023-01-01T21:07:24.405697",
     "status": "completed"
    },
    "tags": []
   },
   "source": [
    "Remove duplicates"
   ]
  },
  {
   "cell_type": "code",
   "execution_count": 6,
   "id": "ed1eec7c",
   "metadata": {
    "id": "9Q4zo9CHp8Nl",
    "outputId": "2ddfe988-8030-4324-eecb-aea9ca326d9c",
    "papermill": {
     "duration": 0.035734,
     "end_time": "2023-01-01T21:07:24.461071",
     "exception": false,
     "start_time": "2023-01-01T21:07:24.425337",
     "status": "completed"
    },
    "tags": []
   },
   "outputs": [
    {
     "name": "stdout",
     "output_type": "stream",
     "text": [
      "<class 'pandas.core.frame.DataFrame'>\n",
      "Int64Index: 835 entries, 0 to 857\n",
      "Data columns (total 36 columns):\n",
      " #   Column                              Non-Null Count  Dtype \n",
      "---  ------                              --------------  ----- \n",
      " 0   Age                                 835 non-null    int64 \n",
      " 1   Number of sexual partners           835 non-null    object\n",
      " 2   First sexual intercourse            835 non-null    object\n",
      " 3   Num of pregnancies                  835 non-null    object\n",
      " 4   Smokes                              835 non-null    object\n",
      " 5   Smokes (years)                      835 non-null    object\n",
      " 6   Smokes (packs/year)                 835 non-null    object\n",
      " 7   Hormonal Contraceptives             835 non-null    object\n",
      " 8   Hormonal Contraceptives (years)     835 non-null    object\n",
      " 9   IUD                                 835 non-null    object\n",
      " 10  IUD (years)                         835 non-null    object\n",
      " 11  STDs                                835 non-null    object\n",
      " 12  STDs (number)                       835 non-null    object\n",
      " 13  STDs:condylomatosis                 835 non-null    object\n",
      " 14  STDs:cervical condylomatosis        835 non-null    object\n",
      " 15  STDs:vaginal condylomatosis         835 non-null    object\n",
      " 16  STDs:vulvo-perineal condylomatosis  835 non-null    object\n",
      " 17  STDs:syphilis                       835 non-null    object\n",
      " 18  STDs:pelvic inflammatory disease    835 non-null    object\n",
      " 19  STDs:genital herpes                 835 non-null    object\n",
      " 20  STDs:molluscum contagiosum          835 non-null    object\n",
      " 21  STDs:AIDS                           835 non-null    object\n",
      " 22  STDs:HIV                            835 non-null    object\n",
      " 23  STDs:Hepatitis B                    835 non-null    object\n",
      " 24  STDs:HPV                            835 non-null    object\n",
      " 25  STDs: Number of diagnosis           835 non-null    int64 \n",
      " 26  STDs: Time since first diagnosis    835 non-null    object\n",
      " 27  STDs: Time since last diagnosis     835 non-null    object\n",
      " 28  Dx:Cancer                           835 non-null    int64 \n",
      " 29  Dx:CIN                              835 non-null    int64 \n",
      " 30  Dx:HPV                              835 non-null    int64 \n",
      " 31  Dx                                  835 non-null    int64 \n",
      " 32  Hinselmann                          835 non-null    int64 \n",
      " 33  Schiller                            835 non-null    int64 \n",
      " 34  Citology                            835 non-null    int64 \n",
      " 35  Biopsy                              835 non-null    int64 \n",
      "dtypes: int64(10), object(26)\n",
      "memory usage: 241.4+ KB\n"
     ]
    }
   ],
   "source": [
    "df=df.drop_duplicates()\n",
    "df.info()"
   ]
  },
  {
   "cell_type": "markdown",
   "id": "52c5e01f",
   "metadata": {
    "id": "Hj6nDcnlyB7L",
    "papermill": {
     "duration": 0.010035,
     "end_time": "2023-01-01T21:07:24.481877",
     "exception": false,
     "start_time": "2023-01-01T21:07:24.471842",
     "status": "completed"
    },
    "tags": []
   },
   "source": [
    "# Preprocessing"
   ]
  },
  {
   "cell_type": "markdown",
   "id": "727c2081",
   "metadata": {
    "id": "O2wZZyc7Dd5p",
    "papermill": {
     "duration": 0.010003,
     "end_time": "2023-01-01T21:07:24.502228",
     "exception": false,
     "start_time": "2023-01-01T21:07:24.492225",
     "status": "completed"
    },
    "tags": []
   },
   "source": [
    "Replace \"?\" with the median for all columns."
   ]
  },
  {
   "cell_type": "code",
   "execution_count": 7,
   "id": "233d1452",
   "metadata": {
    "id": "4CeXiTGz0BzC",
    "papermill": {
     "duration": 0.047262,
     "end_time": "2023-01-01T21:07:24.559342",
     "exception": false,
     "start_time": "2023-01-01T21:07:24.512080",
     "status": "completed"
    },
    "tags": []
   },
   "outputs": [
    {
     "name": "stdout",
     "output_type": "stream",
     "text": [
      "Check all Nan counts\n"
     ]
    },
    {
     "data": {
      "text/plain": [
       "Age                                     0\n",
       "Number of sexual partners              25\n",
       "First sexual intercourse                7\n",
       "Num of pregnancies                     56\n",
       "Smokes                                 13\n",
       "Smokes (years)                         13\n",
       "Smokes (packs/year)                    13\n",
       "Hormonal Contraceptives               103\n",
       "Hormonal Contraceptives (years)       103\n",
       "IUD                                   112\n",
       "IUD (years)                           112\n",
       "STDs                                  100\n",
       "STDs (number)                         100\n",
       "STDs:condylomatosis                   100\n",
       "STDs:cervical condylomatosis          100\n",
       "STDs:vaginal condylomatosis           100\n",
       "STDs:vulvo-perineal condylomatosis    100\n",
       "STDs:syphilis                         100\n",
       "STDs:pelvic inflammatory disease      100\n",
       "STDs:genital herpes                   100\n",
       "STDs:molluscum contagiosum            100\n",
       "STDs:AIDS                             100\n",
       "STDs:HIV                              100\n",
       "STDs:Hepatitis B                      100\n",
       "STDs:HPV                              100\n",
       "STDs: Number of diagnosis               0\n",
       "STDs: Time since first diagnosis      764\n",
       "STDs: Time since last diagnosis       764\n",
       "Dx:Cancer                               0\n",
       "Dx:CIN                                  0\n",
       "Dx:HPV                                  0\n",
       "Dx                                      0\n",
       "Hinselmann                              0\n",
       "Schiller                                0\n",
       "Citology                                0\n",
       "Biopsy                                  0\n",
       "dtype: int64"
      ]
     },
     "execution_count": 7,
     "metadata": {},
     "output_type": "execute_result"
    }
   ],
   "source": [
    "df = df.replace('?', np.nan)\n",
    "\n",
    "print(\"Check all Nan counts\")\n",
    "df.isnull().sum()"
   ]
  },
  {
   "cell_type": "code",
   "execution_count": 8,
   "id": "231de3b4",
   "metadata": {
    "id": "f0bi6_pt3tef",
    "outputId": "d3c383a3-f0d7-4b0f-b271-6b9b60abc8d0",
    "papermill": {
     "duration": 0.043999,
     "end_time": "2023-01-01T21:07:24.613646",
     "exception": false,
     "start_time": "2023-01-01T21:07:24.569647",
     "status": "completed"
    },
    "tags": []
   },
   "outputs": [
    {
     "name": "stdout",
     "output_type": "stream",
     "text": [
      "Check all Nan counts\n"
     ]
    },
    {
     "data": {
      "text/plain": [
       "Age                                   0\n",
       "Number of sexual partners             0\n",
       "First sexual intercourse              0\n",
       "Num of pregnancies                    0\n",
       "Smokes                                0\n",
       "Smokes (years)                        0\n",
       "Smokes (packs/year)                   0\n",
       "Hormonal Contraceptives               0\n",
       "Hormonal Contraceptives (years)       0\n",
       "IUD                                   0\n",
       "IUD (years)                           0\n",
       "STDs                                  0\n",
       "STDs (number)                         0\n",
       "STDs:condylomatosis                   0\n",
       "STDs:cervical condylomatosis          0\n",
       "STDs:vaginal condylomatosis           0\n",
       "STDs:vulvo-perineal condylomatosis    0\n",
       "STDs:syphilis                         0\n",
       "STDs:pelvic inflammatory disease      0\n",
       "STDs:genital herpes                   0\n",
       "STDs:molluscum contagiosum            0\n",
       "STDs:AIDS                             0\n",
       "STDs:HIV                              0\n",
       "STDs:Hepatitis B                      0\n",
       "STDs:HPV                              0\n",
       "STDs: Number of diagnosis             0\n",
       "STDs: Time since first diagnosis      0\n",
       "STDs: Time since last diagnosis       0\n",
       "Dx:Cancer                             0\n",
       "Dx:CIN                                0\n",
       "Dx:HPV                                0\n",
       "Dx                                    0\n",
       "Hinselmann                            0\n",
       "Schiller                              0\n",
       "Citology                              0\n",
       "Biopsy                                0\n",
       "dtype: int64"
      ]
     },
     "execution_count": 8,
     "metadata": {},
     "output_type": "execute_result"
    }
   ],
   "source": [
    "df=df._convert(numeric=True)\n",
    "df = df.fillna(df.median())\n",
    "\n",
    "print(\"Check all Nan counts\")\n",
    "df.isnull().sum()"
   ]
  },
  {
   "cell_type": "markdown",
   "id": "11adeb3d",
   "metadata": {},
   "source": [
    "Other tasks\n",
    "- Since Hinselmann, Schiller, Citology, Biopsy are all cancer test, create an aggreated group that count all of these information.\n",
    "- Try to create an aggregated STD column that count all STD prediction\n",
    "- Create an column for age group for easy visualization"
   ]
  },
  {
   "cell_type": "code",
   "execution_count": 9,
   "id": "4b8ce482",
   "metadata": {
    "id": "uiZl-a-pyBLR",
    "outputId": "855c8b3a-3fcf-49a2-eb8e-bf4f3effa33d",
    "papermill": {
     "duration": 0.031768,
     "end_time": "2023-01-01T21:07:24.656072",
     "exception": false,
     "start_time": "2023-01-01T21:07:24.624304",
     "status": "completed"
    },
    "tags": []
   },
   "outputs": [],
   "source": [
    "#Create age group for visualization\n",
    "def age_group(n):\n",
    "    if n < 12:\n",
    "        return \"Child\"\n",
    "    elif n < 20:\n",
    "        return \"Teen\"\n",
    "    elif n < 30:\n",
    "        return \"20's\"\n",
    "    elif n < 40:\n",
    "        return \"30's\"\n",
    "    elif n < 50:\n",
    "        return \"40's\"\n",
    "    elif n < 60:\n",
    "        return \"50's\"\n",
    "    elif n < 70:\n",
    "        return \"60's\"\n",
    "    else:\n",
    "        return \"70+\"\n",
    "\n",
    "df[\"age_cat\"] = df[\"Age\"].apply(age_group)"
   ]
  },
  {
   "cell_type": "code",
   "execution_count": 10,
   "id": "e193c25a",
   "metadata": {
    "tags": []
   },
   "outputs": [],
   "source": [
    "#Aggregated std\n",
    "std_cols = ['STDs:condylomatosis',\n",
    "            'STDs:cervical condylomatosis',\n",
    "            'STDs:vaginal condylomatosis',\n",
    "            'STDs:vulvo-perineal condylomatosis',\n",
    "            'STDs:syphilis',\n",
    "            'STDs:pelvic inflammatory disease',\n",
    "            'STDs:genital herpes',\n",
    "            'STDs:molluscum contagiosum',\n",
    "            'STDs:AIDS',\n",
    "            'STDs:HIV',\n",
    "            'STDs:Hepatitis B',\n",
    "            'STDs:HPV']\n",
    "df[\"total_std\"] = df[list(std_cols)].sum(axis=1)\n",
    "std_agg_df = df.groupby(\"age_cat\", as_index=False)[list(std_cols)].sum()"
   ]
  },
  {
   "cell_type": "code",
   "execution_count": 11,
   "id": "4e9126d4",
   "metadata": {
    "tags": []
   },
   "outputs": [],
   "source": [
    "#Aggregated test result:\n",
    "test_cols = [\"Hinselmann\", \"Schiller\", \"Citology\", \"Biopsy\"]\n",
    "df[\"total_tests\"] = df[test_cols].sum(axis = 1)"
   ]
  },
  {
   "cell_type": "code",
   "execution_count": 12,
   "id": "3dc369c4",
   "metadata": {
    "tags": []
   },
   "outputs": [
    {
     "name": "stdout",
     "output_type": "stream",
     "text": [
      "<class 'pandas.core.frame.DataFrame'>\n",
      "Int64Index: 835 entries, 0 to 857\n",
      "Data columns (total 39 columns):\n",
      " #   Column                              Non-Null Count  Dtype  \n",
      "---  ------                              --------------  -----  \n",
      " 0   Age                                 835 non-null    int64  \n",
      " 1   Number of sexual partners           835 non-null    float64\n",
      " 2   First sexual intercourse            835 non-null    float64\n",
      " 3   Num of pregnancies                  835 non-null    float64\n",
      " 4   Smokes                              835 non-null    float64\n",
      " 5   Smokes (years)                      835 non-null    float64\n",
      " 6   Smokes (packs/year)                 835 non-null    float64\n",
      " 7   Hormonal Contraceptives             835 non-null    float64\n",
      " 8   Hormonal Contraceptives (years)     835 non-null    float64\n",
      " 9   IUD                                 835 non-null    float64\n",
      " 10  IUD (years)                         835 non-null    float64\n",
      " 11  STDs                                835 non-null    float64\n",
      " 12  STDs (number)                       835 non-null    float64\n",
      " 13  STDs:condylomatosis                 835 non-null    float64\n",
      " 14  STDs:cervical condylomatosis        835 non-null    float64\n",
      " 15  STDs:vaginal condylomatosis         835 non-null    float64\n",
      " 16  STDs:vulvo-perineal condylomatosis  835 non-null    float64\n",
      " 17  STDs:syphilis                       835 non-null    float64\n",
      " 18  STDs:pelvic inflammatory disease    835 non-null    float64\n",
      " 19  STDs:genital herpes                 835 non-null    float64\n",
      " 20  STDs:molluscum contagiosum          835 non-null    float64\n",
      " 21  STDs:AIDS                           835 non-null    float64\n",
      " 22  STDs:HIV                            835 non-null    float64\n",
      " 23  STDs:Hepatitis B                    835 non-null    float64\n",
      " 24  STDs:HPV                            835 non-null    float64\n",
      " 25  STDs: Number of diagnosis           835 non-null    int64  \n",
      " 26  STDs: Time since first diagnosis    835 non-null    float64\n",
      " 27  STDs: Time since last diagnosis     835 non-null    float64\n",
      " 28  Dx:Cancer                           835 non-null    int64  \n",
      " 29  Dx:CIN                              835 non-null    int64  \n",
      " 30  Dx:HPV                              835 non-null    int64  \n",
      " 31  Dx                                  835 non-null    int64  \n",
      " 32  Hinselmann                          835 non-null    int64  \n",
      " 33  Schiller                            835 non-null    int64  \n",
      " 34  Citology                            835 non-null    int64  \n",
      " 35  Biopsy                              835 non-null    int64  \n",
      " 36  age_cat                             835 non-null    object \n",
      " 37  total_std                           835 non-null    float64\n",
      " 38  total_tests                         835 non-null    int64  \n",
      "dtypes: float64(27), int64(11), object(1)\n",
      "memory usage: 260.9+ KB\n"
     ]
    }
   ],
   "source": [
    "df.info()"
   ]
  },
  {
   "cell_type": "markdown",
   "id": "d0886933",
   "metadata": {},
   "source": [
    "# Data Exploration"
   ]
  },
  {
   "cell_type": "code",
   "execution_count": null,
   "id": "bc06a6c6",
   "metadata": {
    "tags": []
   },
   "outputs": [],
   "source": [
    "corr_matrix = df.corr()\n",
    "corr_matrix.fillna(0,inplace=True)\n",
    "corr_graph = px.imshow(corr_matrix, aspect=\"auto\",title=\"Correlation Matrix\")\n",
    "corr_graph.show()"
   ]
  },
  {
   "cell_type": "code",
   "execution_count": null,
   "id": "4a80cee4",
   "metadata": {
    "tags": []
   },
   "outputs": [],
   "source": [
    "age_dist = px.histogram(df, x=\"Age\", marginal=\"box\")\n",
    "age_dist.update_layout(title=\"Age distribution\")\n",
    "age_dist.show()"
   ]
  },
  {
   "cell_type": "code",
   "execution_count": null,
   "id": "0f259cb5",
   "metadata": {
    "tags": []
   },
   "outputs": [],
   "source": [
    "age_preg_bar = px.box(df, x=\"age_cat\", y=\"Num of pregnancies\", points=\"outliers\",\n",
    "                      category_orders=[\"Teenager\", \"Twenties\", \"Thirties\", \"Forties\", \"Fifties\",\n",
    "                                       \"Seventy and over\"])\n",
    "age_preg_bar.update_xaxes(title=\"Age Category\")\n",
    "age_preg_bar.update_yaxes(title=\"Number of Pregnancies\")\n",
    "age_preg_bar.update_layout(title=\"Distribution of number of pregnancies per age group\")\n",
    "age_preg_bar.show()"
   ]
  },
  {
   "cell_type": "code",
   "execution_count": null,
   "id": "5555a71f",
   "metadata": {
    "tags": []
   },
   "outputs": [],
   "source": [
    "diagnoses_num_partner_compare_cols = ['Dx:Cancer',\n",
    "                                      'Dx:HPV',\n",
    "                                      'Dx:CIN',\n",
    "                                      \"Number of sexual partners\",]\n",
    "corr_matrix = df[diagnoses_num_partner_compare_cols].corr()\n",
    "diagnoses_num_partner_heatmap = px.imshow(corr_matrix,\n",
    "                              aspect=\"auto\",\n",
    "                              text_auto=True,\n",
    "                                         title='Correlation between diagnostic and and number of partners',\n",
    "                                         color_continuous_scale=\"gnbu\")\n",
    "diagnoses_num_partner_heatmap.show()"
   ]
  },
  {
   "cell_type": "code",
   "execution_count": null,
   "id": "2f32b199",
   "metadata": {
    "tags": []
   },
   "outputs": [],
   "source": [
    "diagnoses_cols = ['Hinselmann','Schiller','Citology','Biopsy']\n",
    "diagnoses_corr_matrix = df[diagnoses_cols].corr()\n",
    "diagnoses_heatmap = px.imshow(diagnoses_corr_matrix, aspect=\"auto\", text_auto=True,color_continuous_scale=\"gnbu\",\n",
    "                              title='Diagnostic Correlation')\n",
    "diagnoses_heatmap.show()"
   ]
  },
  {
   "cell_type": "code",
   "execution_count": null,
   "id": "a9fb971b",
   "metadata": {
    "tags": []
   },
   "outputs": [],
   "source": [
    "fig = px.histogram(std_agg_df, x=\"age_cat\", y=list(std_cols), barmode=\"group\", histfunc=\"sum\")\n",
    "fig.update_layout(title=\"Sum of STD occurence across age categories\")\n",
    "fig.update_xaxes(title=\"Age Category\")\n",
    "fig.update_yaxes(title=\"Sum\")\n",
    "fig.show()"
   ]
  },
  {
   "cell_type": "markdown",
   "id": "c4d01ebb",
   "metadata": {
    "id": "mfG3kPKN5KK0",
    "papermill": {
     "duration": 0.010165,
     "end_time": "2023-01-01T21:07:24.677329",
     "exception": false,
     "start_time": "2023-01-01T21:07:24.667164",
     "status": "completed"
    },
    "tags": []
   },
   "source": [
    "# Distribution of Classes"
   ]
  },
  {
   "cell_type": "code",
   "execution_count": null,
   "id": "6ebdf568",
   "metadata": {
    "id": "zfN9jO1yEB2D",
    "outputId": "5912d059-5e51-4310-9d28-cae776e2074a",
    "papermill": {
     "duration": 0.021825,
     "end_time": "2023-01-01T21:07:24.709945",
     "exception": false,
     "start_time": "2023-01-01T21:07:24.688120",
     "status": "completed"
    },
    "tags": []
   },
   "outputs": [],
   "source": [
    "df[target].value_counts()"
   ]
  },
  {
   "cell_type": "code",
   "execution_count": null,
   "id": "2f5131f9",
   "metadata": {
    "id": "jSw_YfH1OzP5",
    "outputId": "51997e57-d457-46a0-d7c8-b814cc97ed74",
    "papermill": {
     "duration": 0.391917,
     "end_time": "2023-01-01T21:07:25.112754",
     "exception": false,
     "start_time": "2023-01-01T21:07:24.720837",
     "status": "completed"
    },
    "tags": []
   },
   "outputs": [],
   "source": [
    "dx_cancer = px.histogram(df, y=target)\n",
    "dx_cancer.update_layout(bargap=0.2)\n",
    "dx_cancer.update_layout(title = \"Imbalance in target variable\")\n",
    "dx_cancer.show()"
   ]
  },
  {
   "cell_type": "markdown",
   "id": "b9557c22",
   "metadata": {},
   "source": [
    "# Train - test split"
   ]
  },
  {
   "cell_type": "code",
   "execution_count": 18,
   "id": "f2a65d29",
   "metadata": {},
   "outputs": [],
   "source": [
    "X = df.drop([target, \"age_cat\"], axis=1)\n",
    "y = df[target].copy()"
   ]
  },
  {
   "cell_type": "code",
   "execution_count": 19,
   "id": "4fceaaae",
   "metadata": {
    "tags": []
   },
   "outputs": [],
   "source": [
    "from sklearn.model_selection import train_test_split\n",
    "X_train, X_test, y_train, y_test = train_test_split(X, y, test_size=0.33, random_state=42,stratify = y, shuffle=True)#stratify = y"
   ]
  },
  {
   "cell_type": "code",
   "execution_count": 20,
   "id": "2796afbc",
   "metadata": {
    "tags": []
   },
   "outputs": [
    {
     "data": {
      "text/plain": [
       "0    523\n",
       "1     36\n",
       "Name: Biopsy, dtype: int64"
      ]
     },
     "execution_count": 20,
     "metadata": {},
     "output_type": "execute_result"
    }
   ],
   "source": [
    "y_train.value_counts()"
   ]
  },
  {
   "cell_type": "code",
   "execution_count": 21,
   "id": "c33a6844",
   "metadata": {},
   "outputs": [
    {
     "data": {
      "text/plain": [
       "0    781\n",
       "1     54\n",
       "Name: Biopsy, dtype: int64"
      ]
     },
     "execution_count": 21,
     "metadata": {},
     "output_type": "execute_result"
    }
   ],
   "source": [
    "y.value_counts()"
   ]
  },
  {
   "cell_type": "code",
   "execution_count": 22,
   "id": "559306d1",
   "metadata": {},
   "outputs": [
    {
     "data": {
      "text/plain": [
       "0    258\n",
       "1     18\n",
       "Name: Biopsy, dtype: int64"
      ]
     },
     "execution_count": 22,
     "metadata": {},
     "output_type": "execute_result"
    }
   ],
   "source": [
    "y_test.value_counts()"
   ]
  },
  {
   "cell_type": "markdown",
   "id": "9346a65c",
   "metadata": {},
   "source": [
    "# SMOTE or ADASYN:\n",
    "- Since we have a issues of imbalance data set, either Smote or Adasyn can be deployed to create synthetic data to balance the dataset\n",
    "- ADASYN is used for now"
   ]
  },
  {
   "cell_type": "code",
   "execution_count": 23,
   "id": "fc4fb3e4",
   "metadata": {},
   "outputs": [],
   "source": [
    "# smote = SMOTE(random_state=42)\n",
    "# x_smote, y_smote = smote.fit_resample(X, y)\n",
    "# risk_factor_df = x_smote.join(y_smote)\n",
    "# risk_factor_df[\"age_cat\"] = risk_factor_df[\"Age\"].apply(age_cat)"
   ]
  },
  {
   "cell_type": "code",
   "execution_count": 24,
   "id": "a2ca911d",
   "metadata": {},
   "outputs": [],
   "source": [
    "adasyn = ADASYN(random_state=42)\n",
    "X_train,y_train = adasyn.fit_resample(X_train,y_train)"
   ]
  },
  {
   "cell_type": "code",
   "execution_count": 25,
   "id": "b12a31f9",
   "metadata": {},
   "outputs": [
    {
     "data": {
      "text/plain": [
       "1    525\n",
       "0    523\n",
       "Name: Biopsy, dtype: int64"
      ]
     },
     "execution_count": 25,
     "metadata": {},
     "output_type": "execute_result"
    }
   ],
   "source": [
    "y_train.value_counts()"
   ]
  },
  {
   "cell_type": "markdown",
   "id": "8b745a1d",
   "metadata": {},
   "source": [
    "# PCA\n",
    "- Principal Component Analysis is a method to reduce the dimenstion of larger dataset. This is used to increase performace. In this case 13 parameters can be used to explained 99% of the variable\n"
   ]
  },
  {
   "cell_type": "code",
   "execution_count": null,
   "id": "57c9c26f",
   "metadata": {
    "tags": []
   },
   "outputs": [],
   "source": [
    "XT = RobustScaler().fit_transform(X_train)\n",
    "pca = PCA(n_components=0.99)\n",
    "XT = pca.fit_transform(XT)\n",
    "\n",
    "dimensions = px.bar(x=range(pca.n_components_), y=pca.explained_variance_ratio_,\n",
    "                    color_discrete_sequence=[\"blue\"],\n",
    "                    labels={\"x\":\"PCA Feature\",\"y\":\"Explained Variance\"})\n",
    "dimensions.show()\n",
    "exp_var_cumul = np.cumsum(pca.explained_variance_ratio_)\n",
    "\n",
    "explained_variance = px.area(\n",
    "    x=range(1, exp_var_cumul.shape[0] + 1),\n",
    "    y=exp_var_cumul,\n",
    "    labels={\"x\": \"# Components\", \"y\": \"Explained Variance\"},\n",
    "    color_discrete_sequence=[\"blue\"]\n",
    ")\n",
    "explained_variance.show()"
   ]
  },
  {
   "cell_type": "markdown",
   "id": "4871677b",
   "metadata": {},
   "source": [
    "# Model Application SkLearn\n",
    "- 5 models are considered for this project\n",
    "    - Logistic Regression\n",
    "    - Random forest Classifier\n",
    "    - KNeighbor Classifier\n",
    "    - Support Vector Machine\n",
    "    - CatBoost"
   ]
  },
  {
   "cell_type": "code",
   "execution_count": null,
   "id": "a001d1f1",
   "metadata": {
    "tags": []
   },
   "outputs": [],
   "source": [
    "pipeline = Pipeline([\n",
    "    (\"scaler\", RobustScaler()),\n",
    "    (\"pca\", PCA(n_components=13))\n",
    "])\n",
    "X_train = pipeline.fit_transform(X_train)\n",
    "X_test = pipeline.transform(X_test)"
   ]
  },
  {
   "cell_type": "code",
   "execution_count": null,
   "id": "4c7b6440",
   "metadata": {
    "tags": []
   },
   "outputs": [],
   "source": [
    "param_grid = {'C': np.logspace(-5, 8, 15)}\n",
    "logreg = LogisticRegression()\n",
    "logreg_cv = GridSearchCV(logreg, param_grid, cv=10)"
   ]
  },
  {
   "cell_type": "code",
   "execution_count": null,
   "id": "7f65ceec",
   "metadata": {
    "tags": []
   },
   "outputs": [],
   "source": [
    "rnd_clf = RandomForestClassifier(n_estimators=500, max_leaf_nodes=2, n_jobs=-1,\n",
    "                                 max_features=\"sqrt\")"
   ]
  },
  {
   "cell_type": "code",
   "execution_count": null,
   "id": "c1d856fb",
   "metadata": {
    "tags": []
   },
   "outputs": [],
   "source": [
    "knn_clf = KNeighborsClassifier()\n",
    "knn_param_grid = {\"n_neighbors\": list(np.arange(1, 10, 2))}\n",
    "knn_clf_cv = GridSearchCV(knn_clf, knn_param_grid, cv=10)"
   ]
  },
  {
   "cell_type": "code",
   "execution_count": null,
   "id": "14187ae3",
   "metadata": {
    "tags": []
   },
   "outputs": [],
   "source": [
    "svm_clf = SVC()\n",
    "svc_param_grid = {'C': np.logspace(-3, 2, 6), 'gamma': np.logspace(-3, 2, 6), }\n",
    "svm_clf_cv = GridSearchCV(svm_clf, svc_param_grid, cv=5)"
   ]
  },
  {
   "cell_type": "code",
   "execution_count": null,
   "id": "b8070fc8",
   "metadata": {
    "tags": []
   },
   "outputs": [],
   "source": [
    "col_names = [\"Classifier Name\", \"Accuracy Score\", \"Precision Score\",\n",
    "             \"Recall Score\", \"F1 Score\"]\n",
    "summary_df = pd.DataFrame(columns=col_names)\n",
    "\n",
    "est_name = []\n",
    "est_acc = []\n",
    "precision_score = []\n",
    "recall_score = []\n",
    "f1score = []\n",
    "est_conf_matrix = []\n",
    "\n",
    "estimators = [\n",
    "    (\"LogisticRegression\", logreg_cv),\n",
    "    (\"RandomForestClassifier \", rnd_clf),\n",
    "    (\"KNeighborsClassifier\", knn_clf_cv),\n",
    "    (\"SupportVectorClassifier\", svm_clf_cv),\n",
    "    ]\n",
    "\n",
    "for i in range(0, len(estimators)):\n",
    "    clf_name = estimators[i][0]\n",
    "    clf = estimators[i][1]\n",
    "    if clf_name!=\"CatBoost\":\n",
    "        clf.fit(X_train, y_train)\n",
    "    y_pred = clf.predict(X_test)\n",
    "    # print(pd.crosstab(y_test,y_pred,rownames=[\"Actual\"],colnames=[\"predicted\"],margins=True))\n",
    "    est_name.append(estimators[i][0])\n",
    "    est_acc.append(accuracy_score(y_test, y_pred))\n",
    "    scores = precision_recall_fscore_support(y_test, y_pred, average=\"weighted\")\n",
    "    precision_score.append(scores[0])\n",
    "    recall_score.append(scores[1])\n",
    "    f1score.append(scores[2])\n",
    "    est_conf_matrix.append(confusion_matrix(y_test,y_pred))\n",
    "\n",
    "\n",
    "summary_df[col_names[0]] = est_name\n",
    "summary_df[col_names[1]] = est_acc\n",
    "summary_df[col_names[2]] = precision_score\n",
    "summary_df[col_names[3]] = recall_score\n",
    "summary_df[col_names[4]] = f1score\n"
   ]
  },
  {
   "cell_type": "code",
   "execution_count": null,
   "id": "3ca0c15b",
   "metadata": {
    "tags": []
   },
   "outputs": [],
   "source": [
    "color_scales = [\"agsunset\",\"teal\",\"purp\",\"viridis\",\"fall\"]\n",
    "for i in range(0,len(est_conf_matrix)):\n",
    "    heatmap = px.imshow(est_conf_matrix[i],aspect=\"auto\",\n",
    "                        text_auto=True,\n",
    "                        color_continuous_scale=color_scales[i])\n",
    "    heatmap.update_layout(title = est_name[i])\n",
    "    heatmap.update_xaxes(title=\"Predicted\")\n",
    "    heatmap.update_yaxes(title=\"Actual\")\n",
    "    heatmap.show()"
   ]
  },
  {
   "cell_type": "code",
   "execution_count": null,
   "id": "0c94f3d7",
   "metadata": {
    "tags": []
   },
   "outputs": [],
   "source": [
    "acc_comparison = px.bar(summary_df, x=\"Classifier Name\",\n",
    "                        y=col_names[1:len(col_names)],\n",
    "                        color_discrete_sequence=[\"deeppink\",\n",
    "                                                 \"deepskyblue\",\n",
    "                                                 \"darkviolet\",\n",
    "                                                 \"black\"],\n",
    "                        barmode=\"group\")\n",
    "acc_comparison.show()"
   ]
  },
  {
   "cell_type": "code",
   "execution_count": null,
   "id": "15eb88e5-c151-4730-9162-70695b3e2384",
   "metadata": {
    "tags": []
   },
   "outputs": [],
   "source": [
    "summary_df"
   ]
  },
  {
   "cell_type": "markdown",
   "id": "2243ca32",
   "metadata": {},
   "source": [
    "# Application Spark\n",
    "Spark tend to perform faster when reading from csv compared to using pandas dataframe thus, the X and y df has been made into X and y csv file"
   ]
  },
  {
   "cell_type": "code",
   "execution_count": 19,
   "id": "4a4f1963",
   "metadata": {},
   "outputs": [
    {
     "name": "stderr",
     "output_type": "stream",
     "text": [
      "24/01/17 13:36:56 WARN Utils: Your hostname, Thuans-MacBook-Pro.local resolves to a loopback address: 127.0.0.1; using 192.168.68.51 instead (on interface en0)\n",
      "24/01/17 13:36:56 WARN Utils: Set SPARK_LOCAL_IP if you need to bind to another address\n",
      "Setting default log level to \"WARN\".\n",
      "To adjust logging level use sc.setLogLevel(newLevel). For SparkR, use setLogLevel(newLevel).\n",
      "24/01/17 13:36:57 WARN NativeCodeLoader: Unable to load native-hadoop library for your platform... using builtin-java classes where applicable\n"
     ]
    }
   ],
   "source": [
    "import findspark\n",
    "findspark.init()\n",
    "findspark.find()\n",
    "\n",
    "from pyspark.sql import SparkSession\n",
    "from pyspark.conf import SparkConf\n",
    "conf = SparkConf().setAppName(\"MyApp\").set(\"spark.executor.cores\", \"2\")\n",
    "\n",
    "\n",
    "spark = SparkSession.builder.config(conf=conf).getOrCreate()\n"
   ]
  },
  {
   "cell_type": "markdown",
   "id": "b4b90f47",
   "metadata": {},
   "source": [
    "\n"
   ]
  },
  {
   "cell_type": "code",
   "execution_count": 20,
   "id": "1bc7e5a4",
   "metadata": {},
   "outputs": [],
   "source": [
    "#Create a new seperate training set\n",
    "df_train=X_train\n",
    "df_train[target]=y_train\n",
    "df_spark_train=spark.createDataFrame(df_train)\n",
    "#Create a sepearte testing set:\n",
    "df_test=X_test\n",
    "df_test[target]=y_test\n",
    "df_spark_test=spark.createDataFrame(df_test)\n"
   ]
  },
  {
   "cell_type": "code",
   "execution_count": 21,
   "id": "fdfb7d91",
   "metadata": {},
   "outputs": [
    {
     "name": "stderr",
     "output_type": "stream",
     "text": [
      "24/01/17 13:37:01 WARN package: Truncated the string representation of a plan since it was too large. This behavior can be adjusted by setting 'spark.sql.debug.maxToStringFields'.\n",
      "[Stage 0:>                                                          (0 + 8) / 8]\r"
     ]
    },
    {
     "name": "stdout",
     "output_type": "stream",
     "text": [
      "+-------+------------------+-------------------------+------------------------+------------------+-------------------+------------------+-------------------+-----------------------+-------------------------------+-------------------+------------------+-------------------+-------------------+--------------------+----------------------------+---------------------------+----------------------------------+-------------------+--------------------------------+--------------------+--------------------------+---------+-------------------+--------------------+--------------------+-------------------------+--------------------------------+-------------------------------+--------------------+--------------------+--------------------+--------------------+-------------------+------------------+-------------------+-------------------+------------------+------------------+\n",
      "|summary|               Age|Number of sexual partners|First sexual intercourse|Num of pregnancies|             Smokes|    Smokes (years)|Smokes (packs/year)|Hormonal Contraceptives|Hormonal Contraceptives (years)|                IUD|       IUD (years)|               STDs|      STDs (number)| STDs:condylomatosis|STDs:cervical condylomatosis|STDs:vaginal condylomatosis|STDs:vulvo-perineal condylomatosis|      STDs:syphilis|STDs:pelvic inflammatory disease| STDs:genital herpes|STDs:molluscum contagiosum|STDs:AIDS|           STDs:HIV|    STDs:Hepatitis B|            STDs:HPV|STDs: Number of diagnosis|STDs: Time since first diagnosis|STDs: Time since last diagnosis|           Dx:Cancer|              Dx:CIN|              Dx:HPV|                  Dx|         Hinselmann|          Schiller|           Citology|          total_std|       total_tests|            Biopsy|\n",
      "+-------+------------------+-------------------------+------------------------+------------------+-------------------+------------------+-------------------+-----------------------+-------------------------------+-------------------+------------------+-------------------+-------------------+--------------------+----------------------------+---------------------------+----------------------------------+-------------------+--------------------------------+--------------------+--------------------------+---------+-------------------+--------------------+--------------------+-------------------------+--------------------------------+-------------------------------+--------------------+--------------------+--------------------+--------------------+-------------------+------------------+-------------------+-------------------+------------------+------------------+\n",
      "|  count|              1048|                     1048|                    1048|              1048|               1048|              1048|               1048|                   1048|                           1048|               1048|              1048|               1048|               1048|                1048|                        1048|                       1048|                              1048|               1048|                            1048|                1048|                      1048|     1048|               1048|                1048|                1048|                     1048|                            1048|                           1048|                1048|                1048|                1048|                1048|               1048|              1048|               1048|               1048|              1048|              1048|\n",
      "|   mean|27.732824427480917|       2.4769992762015183|      17.072088130522687|2.4815855052224625|0.14441211314739497| 1.727088609897082| 0.4967172476275981|     0.7183735717734487|              2.595280153884107|0.11761992099936876|0.6120691852722825|0.13001122060859072|0.19582645643189342|0.059135846510325614|                         0.0|       0.002862595419847...|               0.05818164803704317|0.01049618320610687|            9.541984732824427E-4|0.010720979249949334|      9.541984732824427E-4|      0.0|0.05061241011549133|9.541984732824427E-4|9.541984732824427E-4|      0.06202290076335878|               4.133253576810775|             3.2316894194251944|0.013358778625954198|0.006679389312977099|0.012404580152671756|0.020038167938931296|0.10400763358778627|0.4150763358778626|0.04770992366412214|0.19582645643189342|1.1956106870229009|0.5009541984732825|\n",
      "| stddev| 8.251259105660404|       1.4536273559532398|        2.52390790867067|1.2505265134196122| 0.3340805630571124|5.1641980133717365|  2.001946541596564|     0.4210043912016248|              4.079672212512176| 0.3006908591198083|1.9724213726087256|0.30760708282791527| 0.5065371700806294| 0.21163406579011432|                         0.0|        0.05345210223886446|                0.2096328196117954|0.10196044884036914|             0.03089010316076077| 0.08609157715882045|       0.03089010316076077|      0.0| 0.1961719466353963|0.030890103160760775|0.030890103160760775|      0.26035115411365295|               1.609302863766118|             1.6346971058523545| 0.11486039489074185| 0.08149301816919002|  0.1107357544528673| 0.14019769938340523| 0.3054161954983949|0.4929704458199202|0.21325356036735763| 0.5065371700806294|1.2450090655167987|0.5002378095416808|\n",
      "|    min|                13|                      1.0|                    10.0|               0.0|                0.0|               0.0|                0.0|                    0.0|                            0.0|                0.0|               0.0|                0.0|                0.0|                 0.0|                         0.0|                        0.0|                               0.0|                0.0|                             0.0|                 0.0|                       0.0|      0.0|                0.0|                 0.0|                 0.0|                        0|                             1.0|                            1.0|                   0|                   0|                   0|                   0|                  0|                 0|                  0|                0.0|                 0|                 0|\n",
      "|    25%|                21|       1.9632225394406113|      15.338761184424541|1.6732085563878412|                0.0|               0.0|                0.0|     0.2850951686938471|            0.10259920674741538|                0.0|               0.0|                0.0|                0.0|                 0.0|                         0.0|                        0.0|                               0.0|                0.0|                             0.0|                 0.0|                       0.0|      0.0|                0.0|                 0.0|                 0.0|                        0|                             4.0|                            3.0|                   0|                   0|                   0|                   0|                  0|                 0|                  0|                0.0|                 0|                 0|\n",
      "|    50%|                26|                      2.0|                    17.0|               2.0|                0.0|               0.0|                0.0|                    1.0|             0.5489163388347718|                0.0|               0.0|                0.0|                0.0|                 0.0|                         0.0|                        0.0|                               0.0|                0.0|                             0.0|                 0.0|                       0.0|      0.0|                0.0|                 0.0|                 0.0|                        0|                             4.0|                            3.0|                   0|                   0|                   0|                   0|                  0|                 0|                  0|                0.0|                 1|                 1|\n",
      "|    75%|                33|                      3.0|                    18.0|3.1906877206636666|                0.0|               0.0|                0.0|                    1.0|                            3.0|                0.0|               0.0|                0.0|                0.0|                 0.0|                         0.0|                        0.0|                               0.0|                0.0|                             0.0|                 0.0|                       0.0|      0.0|                0.0|                 0.0|                 0.0|                        0|                             4.0|                            3.0|                   0|                   0|                   0|                   0|                  0|                 1|                  0|                0.0|                 2|                 1|\n",
      "|    max|                79|                     28.0|                    32.0|               8.0|                1.0|              37.0|               37.0|                    1.0|                           20.0|                1.0|              19.0|                1.0|                4.0|                 1.0|                         0.0|                        1.0|                               1.0|                1.0|                             1.0|                 1.0|                       1.0|      0.0|                1.0|                 1.0|                 1.0|                        3|                            21.0|                           21.0|                   1|                   1|                   1|                   1|                  1|                 1|                  1|                4.0|                 4|                 1|\n",
      "+-------+------------------+-------------------------+------------------------+------------------+-------------------+------------------+-------------------+-----------------------+-------------------------------+-------------------+------------------+-------------------+-------------------+--------------------+----------------------------+---------------------------+----------------------------------+-------------------+--------------------------------+--------------------+--------------------------+---------+-------------------+--------------------+--------------------+-------------------------+--------------------------------+-------------------------------+--------------------+--------------------+--------------------+--------------------+-------------------+------------------+-------------------+-------------------+------------------+------------------+\n",
      "\n"
     ]
    },
    {
     "name": "stderr",
     "output_type": "stream",
     "text": [
      "                                                                                \r"
     ]
    }
   ],
   "source": [
    "df_spark_train.summary().show()"
   ]
  },
  {
   "cell_type": "code",
   "execution_count": 22,
   "id": "454eea6d",
   "metadata": {},
   "outputs": [
    {
     "name": "stdout",
     "output_type": "stream",
     "text": [
      "+-------+------------------+-------------------------+------------------------+------------------+-------------------+------------------+-------------------+-----------------------+-------------------------------+-------------------+------------------+-------------------+-------------------+-------------------+----------------------------+---------------------------+----------------------------------+--------------------+--------------------------------+-------------------+--------------------------+---------+--------------------+----------------+--------------------+-------------------------+--------------------------------+-------------------------------+--------------------+--------------------+--------------------+--------------------+-------------------+-------------------+-------------------+-------------------+------------------+-------------------+\n",
      "|summary|               Age|Number of sexual partners|First sexual intercourse|Num of pregnancies|             Smokes|    Smokes (years)|Smokes (packs/year)|Hormonal Contraceptives|Hormonal Contraceptives (years)|                IUD|       IUD (years)|               STDs|      STDs (number)|STDs:condylomatosis|STDs:cervical condylomatosis|STDs:vaginal condylomatosis|STDs:vulvo-perineal condylomatosis|       STDs:syphilis|STDs:pelvic inflammatory disease|STDs:genital herpes|STDs:molluscum contagiosum|STDs:AIDS|            STDs:HIV|STDs:Hepatitis B|            STDs:HPV|STDs: Number of diagnosis|STDs: Time since first diagnosis|STDs: Time since last diagnosis|           Dx:Cancer|              Dx:CIN|              Dx:HPV|                  Dx|         Hinselmann|           Schiller|           Citology|          total_std|       total_tests|             Biopsy|\n",
      "+-------+------------------+-------------------------+------------------------+------------------+-------------------+------------------+-------------------+-----------------------+-------------------------------+-------------------+------------------+-------------------+-------------------+-------------------+----------------------------+---------------------------+----------------------------------+--------------------+--------------------------------+-------------------+--------------------------+---------+--------------------+----------------+--------------------+-------------------------+--------------------------------+-------------------------------+--------------------+--------------------+--------------------+--------------------+-------------------+-------------------+-------------------+-------------------+------------------+-------------------+\n",
      "|  count|               276|                      276|                     276|               276|                276|               276|                276|                    276|                            276|                276|               276|                276|                276|                276|                         276|                        276|                               276|                 276|                             276|                276|                       276|      276|                 276|             276|                 276|                      276|                             276|                            276|                 276|                 276|                 276|                 276|                276|                276|                276|                276|               276|                276|\n",
      "|   mean|26.880434782608695|       2.4528985507246377|       16.93840579710145| 2.260869565217391|0.17753623188405798| 1.086339598152174| 0.3796537156971015|     0.6920289855072463|             2.0446376811594202|0.09782608695652174|0.4106159420289855|0.10869565217391304|0.18115942028985507|0.06159420289855073|                         0.0|       0.003623188405797...|               0.06159420289855073|0.025362318840579712|                             0.0|                0.0|                       0.0|      0.0|0.025362318840579712|             0.0|0.003623188405797...|      0.09782608695652174|               4.344202898550725|             3.4420289855072466|0.018115942028985508|0.007246376811594203|0.021739130434782608|0.025362318840579712|0.04710144927536232|0.09057971014492754|0.06884057971014493|0.18115942028985507|0.2717391304347826|0.06521739130434782|\n",
      "| stddev| 9.043944100954281|       1.3380959079085208|      2.5197062588908152|1.4835061556441187|0.38281599965462243|3.4844385988968902|  1.520587860707404|    0.46249310075685923|             3.8493228040872167| 0.2976190099755293| 1.653771222267298| 0.3118223878765405| 0.5622746950331056|0.24085377344864917|                         0.0|         0.0601929265428846|               0.24085377344864917|  0.1575086002629229|                             0.0|                0.0|                       0.0|      0.0| 0.15750860026292293|             0.0|  0.0601929265428846|       0.2976190099755293|               2.233872076289941|              2.387903198714201| 0.13361301365381598|  0.0849707382012251|  0.1460954260673022| 0.15750860026292293|0.21224069663234446| 0.2875318622431375| 0.2536427622787411| 0.5622746950331056|0.7737031735688524|0.24735757670018552|\n",
      "|    min|                14|                      1.0|                    11.0|               0.0|                0.0|               0.0|                0.0|                    0.0|                            0.0|                0.0|               0.0|                0.0|                0.0|                0.0|                         0.0|                        0.0|                               0.0|                 0.0|                             0.0|                0.0|                       0.0|      0.0|                 0.0|             0.0|                 0.0|                        0|                             1.0|                            1.0|                   0|                   0|                   0|                   0|                  0|                  0|                  0|                0.0|                 0|                  0|\n",
      "|    25%|                20|                      2.0|                    15.0|               1.0|                0.0|               0.0|                0.0|                    0.0|                            0.0|                0.0|               0.0|                0.0|                0.0|                0.0|                         0.0|                        0.0|                               0.0|                 0.0|                             0.0|                0.0|                       0.0|      0.0|                 0.0|             0.0|                 0.0|                        0|                             4.0|                            3.0|                   0|                   0|                   0|                   0|                  0|                  0|                  0|                0.0|                 0|                  0|\n",
      "|    50%|                25|                      2.0|                    17.0|               2.0|                0.0|               0.0|                0.0|                    1.0|                            0.5|                0.0|               0.0|                0.0|                0.0|                0.0|                         0.0|                        0.0|                               0.0|                 0.0|                             0.0|                0.0|                       0.0|      0.0|                 0.0|             0.0|                 0.0|                        0|                             4.0|                            3.0|                   0|                   0|                   0|                   0|                  0|                  0|                  0|                0.0|                 0|                  0|\n",
      "|    75%|                31|                      3.0|                    18.0|               3.0|                0.0|               0.0|                0.0|                    1.0|                            2.0|                0.0|               0.0|                0.0|                0.0|                0.0|                         0.0|                        0.0|                               0.0|                 0.0|                             0.0|                0.0|                       0.0|      0.0|                 0.0|             0.0|                 0.0|                        0|                             4.0|                            3.0|                   0|                   0|                   0|                   0|                  0|                  0|                  0|                0.0|                 0|                  0|\n",
      "|    max|                84|                      9.0|                    29.0|              11.0|                1.0|              28.0|               15.0|                    1.0|                           30.0|                1.0|              15.0|                1.0|                3.0|                1.0|                         0.0|                        1.0|                               1.0|                 1.0|                             0.0|                0.0|                       0.0|      0.0|                 1.0|             0.0|                 1.0|                        1|                            22.0|                           22.0|                   1|                   1|                   1|                   1|                  1|                  1|                  1|                3.0|                 4|                  1|\n",
      "+-------+------------------+-------------------------+------------------------+------------------+-------------------+------------------+-------------------+-----------------------+-------------------------------+-------------------+------------------+-------------------+-------------------+-------------------+----------------------------+---------------------------+----------------------------------+--------------------+--------------------------------+-------------------+--------------------------+---------+--------------------+----------------+--------------------+-------------------------+--------------------------------+-------------------------------+--------------------+--------------------+--------------------+--------------------+-------------------+-------------------+-------------------+-------------------+------------------+-------------------+\n",
      "\n"
     ]
    }
   ],
   "source": [
    "df_spark_test.summary().show()"
   ]
  },
  {
   "cell_type": "code",
   "execution_count": 23,
   "id": "2507d597",
   "metadata": {},
   "outputs": [],
   "source": [
    "from pyspark.ml.classification import LogisticRegression as LogisticRegression_Spark\n",
    "from pyspark.ml.classification import DecisionTreeClassifier as DecisionTreeClassifier_Spark\n",
    "from pyspark.ml.classification import RandomForestClassifier as RandomForestClassifier_Spark\n",
    "from pyspark.ml.classification import GBTClassifier as GBTClassifier_Spark\n",
    "from pyspark.ml.classification import LinearSVC as LinearSVC_Spark\n",
    "from pyspark.ml.classification import NaiveBayes as NaiveBayes_Spark\n",
    "from pyspark.ml.classification import FMClassifier as FMClassifier_Spark\n",
    "from pyspark.ml.feature import VectorAssembler\n",
    "from pyspark.ml.evaluation import MulticlassClassificationEvaluator\n",
    "\n"
   ]
  },
  {
   "cell_type": "code",
   "execution_count": 24,
   "id": "64d98159",
   "metadata": {},
   "outputs": [],
   "source": [
    "model_list=[]\n",
    "model_list.append((\"LogRegression\",LogisticRegression_Spark(featuresCol=\"features\", labelCol=target)))\n",
    "model_list.append((\"DecTree\",DecisionTreeClassifier_Spark(featuresCol=\"features\", labelCol=target)))\n",
    "model_list.append((\"RandomForrest\",RandomForestClassifier_Spark(featuresCol=\"features\", labelCol=target)))\n",
    "model_list.append((\"GBTClassifier\",GBTClassifier_Spark(featuresCol=\"features\", labelCol=target)))\n",
    "model_list.append((\"LinearSVC\",LinearSVC_Spark(featuresCol=\"features\", labelCol=target)))\n",
    "model_list.append((\"NaiveBayes\",NaiveBayes_Spark(featuresCol=\"features\", labelCol=target)))\n",
    "model_list.append((\"FMClassifier\",FMClassifier_Spark(featuresCol=\"features\", labelCol=target)))\n"
   ]
  },
  {
   "cell_type": "code",
   "execution_count": 25,
   "id": "06791956",
   "metadata": {},
   "outputs": [],
   "source": [
    "Assembler=VectorAssembler(inputCols=df_spark_train.columns[:-1],\n",
    "                           outputCol='features')\n",
    "df_spark_train=Assembler.transform(df_spark_train)\n",
    "df_spark_test=Assembler.transform(df_spark_test)\n"
   ]
  },
  {
   "cell_type": "code",
   "execution_count": 26,
   "id": "55ca1a7c",
   "metadata": {},
   "outputs": [],
   "source": [
    "df_spark_train=df_spark_train.select('features',target)\n",
    "df_spark_test=df_spark_test.select('features',target)\n",
    "\n"
   ]
  },
  {
   "cell_type": "code",
   "execution_count": 27,
   "id": "e8f5f98d",
   "metadata": {},
   "outputs": [
    {
     "name": "stdout",
     "output_type": "stream",
     "text": [
      "+--------------------+------+\n",
      "|            features|Biopsy|\n",
      "+--------------------+------+\n",
      "|(37,[0,1,2,3,26,2...|     0|\n",
      "|(37,[0,1,2,3,9,10...|     0|\n",
      "|(37,[0,1,2,3,4,5,...|     0|\n",
      "|(37,[0,1,2,3,7,8,...|     0|\n",
      "|(37,[0,1,2,3,26,2...|     0|\n",
      "|(37,[0,1,2,3,7,8,...|     0|\n",
      "|(37,[0,1,2,3,7,8,...|     0|\n",
      "|(37,[0,1,2,3,26,2...|     0|\n",
      "|(37,[0,1,2,3,7,8,...|     0|\n",
      "|(37,[0,1,2,3,7,8,...|     0|\n",
      "|(37,[0,1,2,3,26,2...|     0|\n",
      "|(37,[0,1,2,3,4,5,...|     0|\n",
      "|(37,[0,1,2,3,11,1...|     0|\n",
      "|(37,[0,1,2,3,4,5,...|     0|\n",
      "|(37,[0,1,2,3,7,8,...|     0|\n",
      "|(37,[0,1,2,3,7,8,...|     0|\n",
      "|(37,[0,1,2,3,26,2...|     0|\n",
      "|(37,[0,1,2,3,26,2...|     0|\n",
      "|(37,[0,1,2,3,7,8,...|     0|\n",
      "|(37,[0,1,2,3,9,10...|     1|\n",
      "+--------------------+------+\n",
      "only showing top 20 rows\n",
      "\n"
     ]
    }
   ],
   "source": [
    "df_spark_train.show()"
   ]
  },
  {
   "cell_type": "code",
   "execution_count": 28,
   "id": "504e4c74",
   "metadata": {},
   "outputs": [
    {
     "name": "stdout",
     "output_type": "stream",
     "text": [
      "+--------------------+------+\n",
      "|            features|Biopsy|\n",
      "+--------------------+------+\n",
      "|(37,[0,1,2,3,4,5,...|     0|\n",
      "|(37,[0,1,2,3,26,2...|     0|\n",
      "|(37,[0,1,2,3,7,8,...|     0|\n",
      "|(37,[0,1,2,3,7,8,...|     0|\n",
      "|(37,[0,1,2,3,7,8,...|     0|\n",
      "|(37,[0,1,2,3,26,2...|     0|\n",
      "|(37,[0,1,2,3,26,2...|     0|\n",
      "|(37,[0,1,2,3,7,8,...|     0|\n",
      "|(37,[0,1,2,3,4,5,...|     0|\n",
      "|(37,[0,1,2,3,7,8,...|     0|\n",
      "|(37,[0,1,2,3,4,5,...|     0|\n",
      "|(37,[0,1,2,3,26,2...|     1|\n",
      "|(37,[0,1,2,3,7,8,...|     0|\n",
      "|(37,[0,1,2,3,7,8,...|     0|\n",
      "|(37,[0,1,2,7,8,26...|     0|\n",
      "|(37,[0,1,2,3,7,8,...|     0|\n",
      "|(37,[0,1,2,3,7,8,...|     0|\n",
      "|(37,[0,1,2,3,4,5,...|     0|\n",
      "|(37,[0,1,2,3,7,8,...|     0|\n",
      "|(37,[0,1,2,3,26,2...|     0|\n",
      "+--------------------+------+\n",
      "only showing top 20 rows\n",
      "\n"
     ]
    }
   ],
   "source": [
    "df_spark_test.show()"
   ]
  },
  {
   "cell_type": "code",
   "execution_count": 29,
   "id": "fa753d90",
   "metadata": {},
   "outputs": [],
   "source": [
    "import timeit\n",
    "\n",
    "performance_metrics=['accuracy','precisionByLabel','recallByLabel','f1']\n",
    "cols_name=['Name']\n",
    "\n",
    "for  p in performance_metrics:\n",
    "    cols_name.append(p)\n",
    "cols_name.append('time(s)')\n",
    "performance_df_spark = pd.DataFrame(columns = cols_name)\n"
   ]
  },
  {
   "cell_type": "code",
   "execution_count": 31,
   "id": "5dc419eb",
   "metadata": {},
   "outputs": [
    {
     "name": "stderr",
     "output_type": "stream",
     "text": [
      "24/01/17 13:38:15 WARN InstanceBuilder: Failed to load implementation from:dev.ludovic.netlib.blas.JNIBLAS\n"
     ]
    },
    {
     "name": "stdout",
     "output_type": "stream",
     "text": [
      "LogisticRegressionModel: uid=LogisticRegression_ac6ff82db137, numClasses=2, numFeatures=37 3.545406167002511\n",
      "DecisionTreeClassificationModel: uid=DecisionTreeClassifier_15ea463fcca1, depth=5, numNodes=13, numClasses=2, numFeatures=37 1.406615875006537\n",
      "RandomForestClassificationModel: uid=RandomForestClassifier_35b622b4f7f5, numTrees=20, numClasses=2, numFeatures=37 1.1746191669953987\n",
      "GBTClassificationModel: uid = GBTClassifier_5f5fbd77eec3, numTrees=20, numClasses=2, numFeatures=37 3.6890229580021696\n",
      "LinearSVCModel: uid=LinearSVC_703a8d407b9a, numClasses=2, numFeatures=37 1.664654124993831\n",
      "NaiveBayesModel: uid=NaiveBayes_d17360357a7f, modelType=multinomial, numClasses=2, numFeatures=37 0.7193327080021845\n",
      "FMClassificationModel: uid=FMClassifier_c61f9658fdbd, numClasses=2, numFeatures=37, factorSize=8, fitLinear=true, fitIntercept=true 2.9692272920074174\n"
     ]
    }
   ],
   "source": [
    "for itteration in range(1):\n",
    "    trainDF=df_spark_train\n",
    "    testDF=df_spark_test\n",
    "    \n",
    "    #Handle all normal model\n",
    "    for model in model_list:\n",
    "        start_time = timeit.default_timer()\n",
    "        cur_model=model[1]\n",
    "        cur_model=cur_model.fit(trainDF)\n",
    "        pred=cur_model.transform(testDF)\n",
    "        temp = [model[0]]\n",
    "        \n",
    "        for p in performance_metrics:\n",
    "            evaluator = MulticlassClassificationEvaluator(predictionCol='prediction', labelCol=target, metricName=p)\n",
    "            temp.append(evaluator.evaluate(pred))\n",
    "            \n",
    "        end_time=timeit.default_timer()-start_time\n",
    "        \n",
    "        temp.append(end_time)\n",
    "        performance_df_spark.loc[len(performance_df_spark.index)] = temp\n",
    "        print(cur_model,end_time)\n",
    "    \n"
   ]
  },
  {
   "cell_type": "code",
   "execution_count": 32,
   "id": "978799d5",
   "metadata": {},
   "outputs": [
    {
     "data": {
      "application/vnd.plotly.v1+json": {
       "config": {
        "plotlyServerURL": "https://plot.ly"
       },
       "data": [
        {
         "alignmentgroup": "True",
         "hovertemplate": "variable=accuracy<br>Name=%{x}<br>value=%{y}<extra></extra>",
         "legendgroup": "accuracy",
         "marker": {
          "color": "#636efa",
          "pattern": {
           "shape": ""
          }
         },
         "name": "accuracy",
         "offsetgroup": "accuracy",
         "orientation": "v",
         "showlegend": true,
         "textposition": "auto",
         "type": "bar",
         "x": [
          "DecTree",
          "FMClassifier",
          "GBTClassifier",
          "LinearSVC",
          "LogRegression",
          "NaiveBayes",
          "RandomForrest"
         ],
         "xaxis": "x",
         "y": [
          0.9637681159420289,
          0.9565217391304348,
          0.9637681159420289,
          0.9963768115942029,
          1,
          0.8695652173913043,
          0.9456521739130435
         ],
         "yaxis": "y"
        },
        {
         "alignmentgroup": "True",
         "hovertemplate": "variable=precisionByLabel<br>Name=%{x}<br>value=%{y}<extra></extra>",
         "legendgroup": "precisionByLabel",
         "marker": {
          "color": "#EF553B",
          "pattern": {
           "shape": ""
          }
         },
         "name": "precisionByLabel",
         "offsetgroup": "precisionByLabel",
         "orientation": "v",
         "showlegend": true,
         "textposition": "auto",
         "type": "bar",
         "x": [
          "DecTree",
          "FMClassifier",
          "GBTClassifier",
          "LinearSVC",
          "LogRegression",
          "NaiveBayes",
          "RandomForrest"
         ],
         "xaxis": "x",
         "y": [
          0.9920634920634921,
          0.9767441860465116,
          0.9806201550387597,
          0.9961389961389961,
          1,
          0.9911504424778761,
          0.9919028340080972
         ],
         "yaxis": "y"
        },
        {
         "alignmentgroup": "True",
         "hovertemplate": "variable=recallByLabel<br>Name=%{x}<br>value=%{y}<extra></extra>",
         "legendgroup": "recallByLabel",
         "marker": {
          "color": "#00cc96",
          "pattern": {
           "shape": ""
          }
         },
         "name": "recallByLabel",
         "offsetgroup": "recallByLabel",
         "orientation": "v",
         "showlegend": true,
         "textposition": "auto",
         "type": "bar",
         "x": [
          "DecTree",
          "FMClassifier",
          "GBTClassifier",
          "LinearSVC",
          "LogRegression",
          "NaiveBayes",
          "RandomForrest"
         ],
         "xaxis": "x",
         "y": [
          0.9689922480620154,
          0.9767441860465116,
          0.9806201550387597,
          1,
          1,
          0.8682170542635659,
          0.9496124031007752
         ],
         "yaxis": "y"
        },
        {
         "alignmentgroup": "True",
         "hovertemplate": "variable=f1<br>Name=%{x}<br>value=%{y}<extra></extra>",
         "legendgroup": "f1",
         "marker": {
          "color": "#ab63fa",
          "pattern": {
           "shape": ""
          }
         },
         "name": "f1",
         "offsetgroup": "f1",
         "orientation": "v",
         "showlegend": true,
         "textposition": "auto",
         "type": "bar",
         "x": [
          "DecTree",
          "FMClassifier",
          "GBTClassifier",
          "LinearSVC",
          "LogRegression",
          "NaiveBayes",
          "RandomForrest"
         ],
         "xaxis": "x",
         "y": [
          0.9661429789307027,
          0.9565217391304347,
          0.9637681159420289,
          0.996328555810517,
          1,
          0.8959438608357464,
          0.951420118885154
         ],
         "yaxis": "y"
        }
       ],
       "layout": {
        "barmode": "group",
        "legend": {
         "title": {
          "text": "variable"
         },
         "tracegroupgap": 0
        },
        "margin": {
         "t": 60
        },
        "template": {
         "data": {
          "bar": [
           {
            "error_x": {
             "color": "#2a3f5f"
            },
            "error_y": {
             "color": "#2a3f5f"
            },
            "marker": {
             "line": {
              "color": "#E5ECF6",
              "width": 0.5
             },
             "pattern": {
              "fillmode": "overlay",
              "size": 10,
              "solidity": 0.2
             }
            },
            "type": "bar"
           }
          ],
          "barpolar": [
           {
            "marker": {
             "line": {
              "color": "#E5ECF6",
              "width": 0.5
             },
             "pattern": {
              "fillmode": "overlay",
              "size": 10,
              "solidity": 0.2
             }
            },
            "type": "barpolar"
           }
          ],
          "carpet": [
           {
            "aaxis": {
             "endlinecolor": "#2a3f5f",
             "gridcolor": "white",
             "linecolor": "white",
             "minorgridcolor": "white",
             "startlinecolor": "#2a3f5f"
            },
            "baxis": {
             "endlinecolor": "#2a3f5f",
             "gridcolor": "white",
             "linecolor": "white",
             "minorgridcolor": "white",
             "startlinecolor": "#2a3f5f"
            },
            "type": "carpet"
           }
          ],
          "choropleth": [
           {
            "colorbar": {
             "outlinewidth": 0,
             "ticks": ""
            },
            "type": "choropleth"
           }
          ],
          "contour": [
           {
            "colorbar": {
             "outlinewidth": 0,
             "ticks": ""
            },
            "colorscale": [
             [
              0,
              "#0d0887"
             ],
             [
              0.1111111111111111,
              "#46039f"
             ],
             [
              0.2222222222222222,
              "#7201a8"
             ],
             [
              0.3333333333333333,
              "#9c179e"
             ],
             [
              0.4444444444444444,
              "#bd3786"
             ],
             [
              0.5555555555555556,
              "#d8576b"
             ],
             [
              0.6666666666666666,
              "#ed7953"
             ],
             [
              0.7777777777777778,
              "#fb9f3a"
             ],
             [
              0.8888888888888888,
              "#fdca26"
             ],
             [
              1,
              "#f0f921"
             ]
            ],
            "type": "contour"
           }
          ],
          "contourcarpet": [
           {
            "colorbar": {
             "outlinewidth": 0,
             "ticks": ""
            },
            "type": "contourcarpet"
           }
          ],
          "heatmap": [
           {
            "colorbar": {
             "outlinewidth": 0,
             "ticks": ""
            },
            "colorscale": [
             [
              0,
              "#0d0887"
             ],
             [
              0.1111111111111111,
              "#46039f"
             ],
             [
              0.2222222222222222,
              "#7201a8"
             ],
             [
              0.3333333333333333,
              "#9c179e"
             ],
             [
              0.4444444444444444,
              "#bd3786"
             ],
             [
              0.5555555555555556,
              "#d8576b"
             ],
             [
              0.6666666666666666,
              "#ed7953"
             ],
             [
              0.7777777777777778,
              "#fb9f3a"
             ],
             [
              0.8888888888888888,
              "#fdca26"
             ],
             [
              1,
              "#f0f921"
             ]
            ],
            "type": "heatmap"
           }
          ],
          "heatmapgl": [
           {
            "colorbar": {
             "outlinewidth": 0,
             "ticks": ""
            },
            "colorscale": [
             [
              0,
              "#0d0887"
             ],
             [
              0.1111111111111111,
              "#46039f"
             ],
             [
              0.2222222222222222,
              "#7201a8"
             ],
             [
              0.3333333333333333,
              "#9c179e"
             ],
             [
              0.4444444444444444,
              "#bd3786"
             ],
             [
              0.5555555555555556,
              "#d8576b"
             ],
             [
              0.6666666666666666,
              "#ed7953"
             ],
             [
              0.7777777777777778,
              "#fb9f3a"
             ],
             [
              0.8888888888888888,
              "#fdca26"
             ],
             [
              1,
              "#f0f921"
             ]
            ],
            "type": "heatmapgl"
           }
          ],
          "histogram": [
           {
            "marker": {
             "pattern": {
              "fillmode": "overlay",
              "size": 10,
              "solidity": 0.2
             }
            },
            "type": "histogram"
           }
          ],
          "histogram2d": [
           {
            "colorbar": {
             "outlinewidth": 0,
             "ticks": ""
            },
            "colorscale": [
             [
              0,
              "#0d0887"
             ],
             [
              0.1111111111111111,
              "#46039f"
             ],
             [
              0.2222222222222222,
              "#7201a8"
             ],
             [
              0.3333333333333333,
              "#9c179e"
             ],
             [
              0.4444444444444444,
              "#bd3786"
             ],
             [
              0.5555555555555556,
              "#d8576b"
             ],
             [
              0.6666666666666666,
              "#ed7953"
             ],
             [
              0.7777777777777778,
              "#fb9f3a"
             ],
             [
              0.8888888888888888,
              "#fdca26"
             ],
             [
              1,
              "#f0f921"
             ]
            ],
            "type": "histogram2d"
           }
          ],
          "histogram2dcontour": [
           {
            "colorbar": {
             "outlinewidth": 0,
             "ticks": ""
            },
            "colorscale": [
             [
              0,
              "#0d0887"
             ],
             [
              0.1111111111111111,
              "#46039f"
             ],
             [
              0.2222222222222222,
              "#7201a8"
             ],
             [
              0.3333333333333333,
              "#9c179e"
             ],
             [
              0.4444444444444444,
              "#bd3786"
             ],
             [
              0.5555555555555556,
              "#d8576b"
             ],
             [
              0.6666666666666666,
              "#ed7953"
             ],
             [
              0.7777777777777778,
              "#fb9f3a"
             ],
             [
              0.8888888888888888,
              "#fdca26"
             ],
             [
              1,
              "#f0f921"
             ]
            ],
            "type": "histogram2dcontour"
           }
          ],
          "mesh3d": [
           {
            "colorbar": {
             "outlinewidth": 0,
             "ticks": ""
            },
            "type": "mesh3d"
           }
          ],
          "parcoords": [
           {
            "line": {
             "colorbar": {
              "outlinewidth": 0,
              "ticks": ""
             }
            },
            "type": "parcoords"
           }
          ],
          "pie": [
           {
            "automargin": true,
            "type": "pie"
           }
          ],
          "scatter": [
           {
            "fillpattern": {
             "fillmode": "overlay",
             "size": 10,
             "solidity": 0.2
            },
            "type": "scatter"
           }
          ],
          "scatter3d": [
           {
            "line": {
             "colorbar": {
              "outlinewidth": 0,
              "ticks": ""
             }
            },
            "marker": {
             "colorbar": {
              "outlinewidth": 0,
              "ticks": ""
             }
            },
            "type": "scatter3d"
           }
          ],
          "scattercarpet": [
           {
            "marker": {
             "colorbar": {
              "outlinewidth": 0,
              "ticks": ""
             }
            },
            "type": "scattercarpet"
           }
          ],
          "scattergeo": [
           {
            "marker": {
             "colorbar": {
              "outlinewidth": 0,
              "ticks": ""
             }
            },
            "type": "scattergeo"
           }
          ],
          "scattergl": [
           {
            "marker": {
             "colorbar": {
              "outlinewidth": 0,
              "ticks": ""
             }
            },
            "type": "scattergl"
           }
          ],
          "scattermapbox": [
           {
            "marker": {
             "colorbar": {
              "outlinewidth": 0,
              "ticks": ""
             }
            },
            "type": "scattermapbox"
           }
          ],
          "scatterpolar": [
           {
            "marker": {
             "colorbar": {
              "outlinewidth": 0,
              "ticks": ""
             }
            },
            "type": "scatterpolar"
           }
          ],
          "scatterpolargl": [
           {
            "marker": {
             "colorbar": {
              "outlinewidth": 0,
              "ticks": ""
             }
            },
            "type": "scatterpolargl"
           }
          ],
          "scatterternary": [
           {
            "marker": {
             "colorbar": {
              "outlinewidth": 0,
              "ticks": ""
             }
            },
            "type": "scatterternary"
           }
          ],
          "surface": [
           {
            "colorbar": {
             "outlinewidth": 0,
             "ticks": ""
            },
            "colorscale": [
             [
              0,
              "#0d0887"
             ],
             [
              0.1111111111111111,
              "#46039f"
             ],
             [
              0.2222222222222222,
              "#7201a8"
             ],
             [
              0.3333333333333333,
              "#9c179e"
             ],
             [
              0.4444444444444444,
              "#bd3786"
             ],
             [
              0.5555555555555556,
              "#d8576b"
             ],
             [
              0.6666666666666666,
              "#ed7953"
             ],
             [
              0.7777777777777778,
              "#fb9f3a"
             ],
             [
              0.8888888888888888,
              "#fdca26"
             ],
             [
              1,
              "#f0f921"
             ]
            ],
            "type": "surface"
           }
          ],
          "table": [
           {
            "cells": {
             "fill": {
              "color": "#EBF0F8"
             },
             "line": {
              "color": "white"
             }
            },
            "header": {
             "fill": {
              "color": "#C8D4E3"
             },
             "line": {
              "color": "white"
             }
            },
            "type": "table"
           }
          ]
         },
         "layout": {
          "annotationdefaults": {
           "arrowcolor": "#2a3f5f",
           "arrowhead": 0,
           "arrowwidth": 1
          },
          "autotypenumbers": "strict",
          "coloraxis": {
           "colorbar": {
            "outlinewidth": 0,
            "ticks": ""
           }
          },
          "colorscale": {
           "diverging": [
            [
             0,
             "#8e0152"
            ],
            [
             0.1,
             "#c51b7d"
            ],
            [
             0.2,
             "#de77ae"
            ],
            [
             0.3,
             "#f1b6da"
            ],
            [
             0.4,
             "#fde0ef"
            ],
            [
             0.5,
             "#f7f7f7"
            ],
            [
             0.6,
             "#e6f5d0"
            ],
            [
             0.7,
             "#b8e186"
            ],
            [
             0.8,
             "#7fbc41"
            ],
            [
             0.9,
             "#4d9221"
            ],
            [
             1,
             "#276419"
            ]
           ],
           "sequential": [
            [
             0,
             "#0d0887"
            ],
            [
             0.1111111111111111,
             "#46039f"
            ],
            [
             0.2222222222222222,
             "#7201a8"
            ],
            [
             0.3333333333333333,
             "#9c179e"
            ],
            [
             0.4444444444444444,
             "#bd3786"
            ],
            [
             0.5555555555555556,
             "#d8576b"
            ],
            [
             0.6666666666666666,
             "#ed7953"
            ],
            [
             0.7777777777777778,
             "#fb9f3a"
            ],
            [
             0.8888888888888888,
             "#fdca26"
            ],
            [
             1,
             "#f0f921"
            ]
           ],
           "sequentialminus": [
            [
             0,
             "#0d0887"
            ],
            [
             0.1111111111111111,
             "#46039f"
            ],
            [
             0.2222222222222222,
             "#7201a8"
            ],
            [
             0.3333333333333333,
             "#9c179e"
            ],
            [
             0.4444444444444444,
             "#bd3786"
            ],
            [
             0.5555555555555556,
             "#d8576b"
            ],
            [
             0.6666666666666666,
             "#ed7953"
            ],
            [
             0.7777777777777778,
             "#fb9f3a"
            ],
            [
             0.8888888888888888,
             "#fdca26"
            ],
            [
             1,
             "#f0f921"
            ]
           ]
          },
          "colorway": [
           "#636efa",
           "#EF553B",
           "#00cc96",
           "#ab63fa",
           "#FFA15A",
           "#19d3f3",
           "#FF6692",
           "#B6E880",
           "#FF97FF",
           "#FECB52"
          ],
          "font": {
           "color": "#2a3f5f"
          },
          "geo": {
           "bgcolor": "white",
           "lakecolor": "white",
           "landcolor": "#E5ECF6",
           "showlakes": true,
           "showland": true,
           "subunitcolor": "white"
          },
          "hoverlabel": {
           "align": "left"
          },
          "hovermode": "closest",
          "mapbox": {
           "style": "light"
          },
          "paper_bgcolor": "white",
          "plot_bgcolor": "#E5ECF6",
          "polar": {
           "angularaxis": {
            "gridcolor": "white",
            "linecolor": "white",
            "ticks": ""
           },
           "bgcolor": "#E5ECF6",
           "radialaxis": {
            "gridcolor": "white",
            "linecolor": "white",
            "ticks": ""
           }
          },
          "scene": {
           "xaxis": {
            "backgroundcolor": "#E5ECF6",
            "gridcolor": "white",
            "gridwidth": 2,
            "linecolor": "white",
            "showbackground": true,
            "ticks": "",
            "zerolinecolor": "white"
           },
           "yaxis": {
            "backgroundcolor": "#E5ECF6",
            "gridcolor": "white",
            "gridwidth": 2,
            "linecolor": "white",
            "showbackground": true,
            "ticks": "",
            "zerolinecolor": "white"
           },
           "zaxis": {
            "backgroundcolor": "#E5ECF6",
            "gridcolor": "white",
            "gridwidth": 2,
            "linecolor": "white",
            "showbackground": true,
            "ticks": "",
            "zerolinecolor": "white"
           }
          },
          "shapedefaults": {
           "line": {
            "color": "#2a3f5f"
           }
          },
          "ternary": {
           "aaxis": {
            "gridcolor": "white",
            "linecolor": "white",
            "ticks": ""
           },
           "baxis": {
            "gridcolor": "white",
            "linecolor": "white",
            "ticks": ""
           },
           "bgcolor": "#E5ECF6",
           "caxis": {
            "gridcolor": "white",
            "linecolor": "white",
            "ticks": ""
           }
          },
          "title": {
           "x": 0.05
          },
          "xaxis": {
           "automargin": true,
           "gridcolor": "white",
           "linecolor": "white",
           "ticks": "",
           "title": {
            "standoff": 15
           },
           "zerolinecolor": "white",
           "zerolinewidth": 2
          },
          "yaxis": {
           "automargin": true,
           "gridcolor": "white",
           "linecolor": "white",
           "ticks": "",
           "title": {
            "standoff": 15
           },
           "zerolinecolor": "white",
           "zerolinewidth": 2
          }
         }
        },
        "xaxis": {
         "anchor": "y",
         "domain": [
          0,
          1
         ],
         "title": {
          "text": "Name"
         }
        },
        "yaxis": {
         "anchor": "x",
         "domain": [
          0,
          1
         ],
         "title": {
          "text": "value"
         }
        }
       }
      },
      "text/html": [
       "<div>                            <div id=\"dcb1868d-fd6c-4041-90a7-b64c991efb15\" class=\"plotly-graph-div\" style=\"height:525px; width:100%;\"></div>            <script type=\"text/javascript\">                require([\"plotly\"], function(Plotly) {                    window.PLOTLYENV=window.PLOTLYENV || {};                                    if (document.getElementById(\"dcb1868d-fd6c-4041-90a7-b64c991efb15\")) {                    Plotly.newPlot(                        \"dcb1868d-fd6c-4041-90a7-b64c991efb15\",                        [{\"alignmentgroup\":\"True\",\"hovertemplate\":\"variable=accuracy<br>Name=%{x}<br>value=%{y}<extra></extra>\",\"legendgroup\":\"accuracy\",\"marker\":{\"color\":\"#636efa\",\"pattern\":{\"shape\":\"\"}},\"name\":\"accuracy\",\"offsetgroup\":\"accuracy\",\"orientation\":\"v\",\"showlegend\":true,\"textposition\":\"auto\",\"x\":[\"DecTree\",\"FMClassifier\",\"GBTClassifier\",\"LinearSVC\",\"LogRegression\",\"NaiveBayes\",\"RandomForrest\"],\"xaxis\":\"x\",\"y\":[0.9637681159420289,0.9565217391304348,0.9637681159420289,0.9963768115942029,1.0,0.8695652173913043,0.9456521739130435],\"yaxis\":\"y\",\"type\":\"bar\"},{\"alignmentgroup\":\"True\",\"hovertemplate\":\"variable=precisionByLabel<br>Name=%{x}<br>value=%{y}<extra></extra>\",\"legendgroup\":\"precisionByLabel\",\"marker\":{\"color\":\"#EF553B\",\"pattern\":{\"shape\":\"\"}},\"name\":\"precisionByLabel\",\"offsetgroup\":\"precisionByLabel\",\"orientation\":\"v\",\"showlegend\":true,\"textposition\":\"auto\",\"x\":[\"DecTree\",\"FMClassifier\",\"GBTClassifier\",\"LinearSVC\",\"LogRegression\",\"NaiveBayes\",\"RandomForrest\"],\"xaxis\":\"x\",\"y\":[0.9920634920634921,0.9767441860465116,0.9806201550387597,0.9961389961389961,1.0,0.9911504424778761,0.9919028340080972],\"yaxis\":\"y\",\"type\":\"bar\"},{\"alignmentgroup\":\"True\",\"hovertemplate\":\"variable=recallByLabel<br>Name=%{x}<br>value=%{y}<extra></extra>\",\"legendgroup\":\"recallByLabel\",\"marker\":{\"color\":\"#00cc96\",\"pattern\":{\"shape\":\"\"}},\"name\":\"recallByLabel\",\"offsetgroup\":\"recallByLabel\",\"orientation\":\"v\",\"showlegend\":true,\"textposition\":\"auto\",\"x\":[\"DecTree\",\"FMClassifier\",\"GBTClassifier\",\"LinearSVC\",\"LogRegression\",\"NaiveBayes\",\"RandomForrest\"],\"xaxis\":\"x\",\"y\":[0.9689922480620154,0.9767441860465116,0.9806201550387597,1.0,1.0,0.8682170542635659,0.9496124031007752],\"yaxis\":\"y\",\"type\":\"bar\"},{\"alignmentgroup\":\"True\",\"hovertemplate\":\"variable=f1<br>Name=%{x}<br>value=%{y}<extra></extra>\",\"legendgroup\":\"f1\",\"marker\":{\"color\":\"#ab63fa\",\"pattern\":{\"shape\":\"\"}},\"name\":\"f1\",\"offsetgroup\":\"f1\",\"orientation\":\"v\",\"showlegend\":true,\"textposition\":\"auto\",\"x\":[\"DecTree\",\"FMClassifier\",\"GBTClassifier\",\"LinearSVC\",\"LogRegression\",\"NaiveBayes\",\"RandomForrest\"],\"xaxis\":\"x\",\"y\":[0.9661429789307027,0.9565217391304347,0.9637681159420289,0.996328555810517,1.0,0.8959438608357464,0.951420118885154],\"yaxis\":\"y\",\"type\":\"bar\"}],                        {\"template\":{\"data\":{\"histogram2dcontour\":[{\"type\":\"histogram2dcontour\",\"colorbar\":{\"outlinewidth\":0,\"ticks\":\"\"},\"colorscale\":[[0.0,\"#0d0887\"],[0.1111111111111111,\"#46039f\"],[0.2222222222222222,\"#7201a8\"],[0.3333333333333333,\"#9c179e\"],[0.4444444444444444,\"#bd3786\"],[0.5555555555555556,\"#d8576b\"],[0.6666666666666666,\"#ed7953\"],[0.7777777777777778,\"#fb9f3a\"],[0.8888888888888888,\"#fdca26\"],[1.0,\"#f0f921\"]]}],\"choropleth\":[{\"type\":\"choropleth\",\"colorbar\":{\"outlinewidth\":0,\"ticks\":\"\"}}],\"histogram2d\":[{\"type\":\"histogram2d\",\"colorbar\":{\"outlinewidth\":0,\"ticks\":\"\"},\"colorscale\":[[0.0,\"#0d0887\"],[0.1111111111111111,\"#46039f\"],[0.2222222222222222,\"#7201a8\"],[0.3333333333333333,\"#9c179e\"],[0.4444444444444444,\"#bd3786\"],[0.5555555555555556,\"#d8576b\"],[0.6666666666666666,\"#ed7953\"],[0.7777777777777778,\"#fb9f3a\"],[0.8888888888888888,\"#fdca26\"],[1.0,\"#f0f921\"]]}],\"heatmap\":[{\"type\":\"heatmap\",\"colorbar\":{\"outlinewidth\":0,\"ticks\":\"\"},\"colorscale\":[[0.0,\"#0d0887\"],[0.1111111111111111,\"#46039f\"],[0.2222222222222222,\"#7201a8\"],[0.3333333333333333,\"#9c179e\"],[0.4444444444444444,\"#bd3786\"],[0.5555555555555556,\"#d8576b\"],[0.6666666666666666,\"#ed7953\"],[0.7777777777777778,\"#fb9f3a\"],[0.8888888888888888,\"#fdca26\"],[1.0,\"#f0f921\"]]}],\"heatmapgl\":[{\"type\":\"heatmapgl\",\"colorbar\":{\"outlinewidth\":0,\"ticks\":\"\"},\"colorscale\":[[0.0,\"#0d0887\"],[0.1111111111111111,\"#46039f\"],[0.2222222222222222,\"#7201a8\"],[0.3333333333333333,\"#9c179e\"],[0.4444444444444444,\"#bd3786\"],[0.5555555555555556,\"#d8576b\"],[0.6666666666666666,\"#ed7953\"],[0.7777777777777778,\"#fb9f3a\"],[0.8888888888888888,\"#fdca26\"],[1.0,\"#f0f921\"]]}],\"contourcarpet\":[{\"type\":\"contourcarpet\",\"colorbar\":{\"outlinewidth\":0,\"ticks\":\"\"}}],\"contour\":[{\"type\":\"contour\",\"colorbar\":{\"outlinewidth\":0,\"ticks\":\"\"},\"colorscale\":[[0.0,\"#0d0887\"],[0.1111111111111111,\"#46039f\"],[0.2222222222222222,\"#7201a8\"],[0.3333333333333333,\"#9c179e\"],[0.4444444444444444,\"#bd3786\"],[0.5555555555555556,\"#d8576b\"],[0.6666666666666666,\"#ed7953\"],[0.7777777777777778,\"#fb9f3a\"],[0.8888888888888888,\"#fdca26\"],[1.0,\"#f0f921\"]]}],\"surface\":[{\"type\":\"surface\",\"colorbar\":{\"outlinewidth\":0,\"ticks\":\"\"},\"colorscale\":[[0.0,\"#0d0887\"],[0.1111111111111111,\"#46039f\"],[0.2222222222222222,\"#7201a8\"],[0.3333333333333333,\"#9c179e\"],[0.4444444444444444,\"#bd3786\"],[0.5555555555555556,\"#d8576b\"],[0.6666666666666666,\"#ed7953\"],[0.7777777777777778,\"#fb9f3a\"],[0.8888888888888888,\"#fdca26\"],[1.0,\"#f0f921\"]]}],\"mesh3d\":[{\"type\":\"mesh3d\",\"colorbar\":{\"outlinewidth\":0,\"ticks\":\"\"}}],\"scatter\":[{\"fillpattern\":{\"fillmode\":\"overlay\",\"size\":10,\"solidity\":0.2},\"type\":\"scatter\"}],\"parcoords\":[{\"type\":\"parcoords\",\"line\":{\"colorbar\":{\"outlinewidth\":0,\"ticks\":\"\"}}}],\"scatterpolargl\":[{\"type\":\"scatterpolargl\",\"marker\":{\"colorbar\":{\"outlinewidth\":0,\"ticks\":\"\"}}}],\"bar\":[{\"error_x\":{\"color\":\"#2a3f5f\"},\"error_y\":{\"color\":\"#2a3f5f\"},\"marker\":{\"line\":{\"color\":\"#E5ECF6\",\"width\":0.5},\"pattern\":{\"fillmode\":\"overlay\",\"size\":10,\"solidity\":0.2}},\"type\":\"bar\"}],\"scattergeo\":[{\"type\":\"scattergeo\",\"marker\":{\"colorbar\":{\"outlinewidth\":0,\"ticks\":\"\"}}}],\"scatterpolar\":[{\"type\":\"scatterpolar\",\"marker\":{\"colorbar\":{\"outlinewidth\":0,\"ticks\":\"\"}}}],\"histogram\":[{\"marker\":{\"pattern\":{\"fillmode\":\"overlay\",\"size\":10,\"solidity\":0.2}},\"type\":\"histogram\"}],\"scattergl\":[{\"type\":\"scattergl\",\"marker\":{\"colorbar\":{\"outlinewidth\":0,\"ticks\":\"\"}}}],\"scatter3d\":[{\"type\":\"scatter3d\",\"line\":{\"colorbar\":{\"outlinewidth\":0,\"ticks\":\"\"}},\"marker\":{\"colorbar\":{\"outlinewidth\":0,\"ticks\":\"\"}}}],\"scattermapbox\":[{\"type\":\"scattermapbox\",\"marker\":{\"colorbar\":{\"outlinewidth\":0,\"ticks\":\"\"}}}],\"scatterternary\":[{\"type\":\"scatterternary\",\"marker\":{\"colorbar\":{\"outlinewidth\":0,\"ticks\":\"\"}}}],\"scattercarpet\":[{\"type\":\"scattercarpet\",\"marker\":{\"colorbar\":{\"outlinewidth\":0,\"ticks\":\"\"}}}],\"carpet\":[{\"aaxis\":{\"endlinecolor\":\"#2a3f5f\",\"gridcolor\":\"white\",\"linecolor\":\"white\",\"minorgridcolor\":\"white\",\"startlinecolor\":\"#2a3f5f\"},\"baxis\":{\"endlinecolor\":\"#2a3f5f\",\"gridcolor\":\"white\",\"linecolor\":\"white\",\"minorgridcolor\":\"white\",\"startlinecolor\":\"#2a3f5f\"},\"type\":\"carpet\"}],\"table\":[{\"cells\":{\"fill\":{\"color\":\"#EBF0F8\"},\"line\":{\"color\":\"white\"}},\"header\":{\"fill\":{\"color\":\"#C8D4E3\"},\"line\":{\"color\":\"white\"}},\"type\":\"table\"}],\"barpolar\":[{\"marker\":{\"line\":{\"color\":\"#E5ECF6\",\"width\":0.5},\"pattern\":{\"fillmode\":\"overlay\",\"size\":10,\"solidity\":0.2}},\"type\":\"barpolar\"}],\"pie\":[{\"automargin\":true,\"type\":\"pie\"}]},\"layout\":{\"autotypenumbers\":\"strict\",\"colorway\":[\"#636efa\",\"#EF553B\",\"#00cc96\",\"#ab63fa\",\"#FFA15A\",\"#19d3f3\",\"#FF6692\",\"#B6E880\",\"#FF97FF\",\"#FECB52\"],\"font\":{\"color\":\"#2a3f5f\"},\"hovermode\":\"closest\",\"hoverlabel\":{\"align\":\"left\"},\"paper_bgcolor\":\"white\",\"plot_bgcolor\":\"#E5ECF6\",\"polar\":{\"bgcolor\":\"#E5ECF6\",\"angularaxis\":{\"gridcolor\":\"white\",\"linecolor\":\"white\",\"ticks\":\"\"},\"radialaxis\":{\"gridcolor\":\"white\",\"linecolor\":\"white\",\"ticks\":\"\"}},\"ternary\":{\"bgcolor\":\"#E5ECF6\",\"aaxis\":{\"gridcolor\":\"white\",\"linecolor\":\"white\",\"ticks\":\"\"},\"baxis\":{\"gridcolor\":\"white\",\"linecolor\":\"white\",\"ticks\":\"\"},\"caxis\":{\"gridcolor\":\"white\",\"linecolor\":\"white\",\"ticks\":\"\"}},\"coloraxis\":{\"colorbar\":{\"outlinewidth\":0,\"ticks\":\"\"}},\"colorscale\":{\"sequential\":[[0.0,\"#0d0887\"],[0.1111111111111111,\"#46039f\"],[0.2222222222222222,\"#7201a8\"],[0.3333333333333333,\"#9c179e\"],[0.4444444444444444,\"#bd3786\"],[0.5555555555555556,\"#d8576b\"],[0.6666666666666666,\"#ed7953\"],[0.7777777777777778,\"#fb9f3a\"],[0.8888888888888888,\"#fdca26\"],[1.0,\"#f0f921\"]],\"sequentialminus\":[[0.0,\"#0d0887\"],[0.1111111111111111,\"#46039f\"],[0.2222222222222222,\"#7201a8\"],[0.3333333333333333,\"#9c179e\"],[0.4444444444444444,\"#bd3786\"],[0.5555555555555556,\"#d8576b\"],[0.6666666666666666,\"#ed7953\"],[0.7777777777777778,\"#fb9f3a\"],[0.8888888888888888,\"#fdca26\"],[1.0,\"#f0f921\"]],\"diverging\":[[0,\"#8e0152\"],[0.1,\"#c51b7d\"],[0.2,\"#de77ae\"],[0.3,\"#f1b6da\"],[0.4,\"#fde0ef\"],[0.5,\"#f7f7f7\"],[0.6,\"#e6f5d0\"],[0.7,\"#b8e186\"],[0.8,\"#7fbc41\"],[0.9,\"#4d9221\"],[1,\"#276419\"]]},\"xaxis\":{\"gridcolor\":\"white\",\"linecolor\":\"white\",\"ticks\":\"\",\"title\":{\"standoff\":15},\"zerolinecolor\":\"white\",\"automargin\":true,\"zerolinewidth\":2},\"yaxis\":{\"gridcolor\":\"white\",\"linecolor\":\"white\",\"ticks\":\"\",\"title\":{\"standoff\":15},\"zerolinecolor\":\"white\",\"automargin\":true,\"zerolinewidth\":2},\"scene\":{\"xaxis\":{\"backgroundcolor\":\"#E5ECF6\",\"gridcolor\":\"white\",\"linecolor\":\"white\",\"showbackground\":true,\"ticks\":\"\",\"zerolinecolor\":\"white\",\"gridwidth\":2},\"yaxis\":{\"backgroundcolor\":\"#E5ECF6\",\"gridcolor\":\"white\",\"linecolor\":\"white\",\"showbackground\":true,\"ticks\":\"\",\"zerolinecolor\":\"white\",\"gridwidth\":2},\"zaxis\":{\"backgroundcolor\":\"#E5ECF6\",\"gridcolor\":\"white\",\"linecolor\":\"white\",\"showbackground\":true,\"ticks\":\"\",\"zerolinecolor\":\"white\",\"gridwidth\":2}},\"shapedefaults\":{\"line\":{\"color\":\"#2a3f5f\"}},\"annotationdefaults\":{\"arrowcolor\":\"#2a3f5f\",\"arrowhead\":0,\"arrowwidth\":1},\"geo\":{\"bgcolor\":\"white\",\"landcolor\":\"#E5ECF6\",\"subunitcolor\":\"white\",\"showland\":true,\"showlakes\":true,\"lakecolor\":\"white\"},\"title\":{\"x\":0.05},\"mapbox\":{\"style\":\"light\"}}},\"xaxis\":{\"anchor\":\"y\",\"domain\":[0.0,1.0],\"title\":{\"text\":\"Name\"}},\"yaxis\":{\"anchor\":\"x\",\"domain\":[0.0,1.0],\"title\":{\"text\":\"value\"}},\"legend\":{\"title\":{\"text\":\"variable\"},\"tracegroupgap\":0},\"margin\":{\"t\":60},\"barmode\":\"group\"},                        {\"responsive\": true}                    ).then(function(){\n",
       "                            \n",
       "var gd = document.getElementById('dcb1868d-fd6c-4041-90a7-b64c991efb15');\n",
       "var x = new MutationObserver(function (mutations, observer) {{\n",
       "        var display = window.getComputedStyle(gd).display;\n",
       "        if (!display || display === 'none') {{\n",
       "            console.log([gd, 'removed!']);\n",
       "            Plotly.purge(gd);\n",
       "            observer.disconnect();\n",
       "        }}\n",
       "}});\n",
       "\n",
       "// Listen for the removal of the full notebook cells\n",
       "var notebookContainer = gd.closest('#notebook-container');\n",
       "if (notebookContainer) {{\n",
       "    x.observe(notebookContainer, {childList: true});\n",
       "}}\n",
       "\n",
       "// Listen for the clearing of the current output cell\n",
       "var outputEl = gd.closest('.output');\n",
       "if (outputEl) {{\n",
       "    x.observe(outputEl, {childList: true});\n",
       "}}\n",
       "\n",
       "                        })                };                });            </script>        </div>"
      ]
     },
     "metadata": {},
     "output_type": "display_data"
    }
   ],
   "source": [
    "avg_df=performance_df_spark.groupby('Name',as_index=False)[performance_metrics].mean()\n",
    "acc_comparison = px.bar(avg_df, x=\"Name\",\n",
    "                        y=performance_metrics,\n",
    "                        barmode=\"group\")\n",
    "acc_comparison.show()\n"
   ]
  },
  {
   "cell_type": "code",
   "execution_count": 33,
   "id": "6f403bfc",
   "metadata": {},
   "outputs": [
    {
     "data": {
      "application/vnd.plotly.v1+json": {
       "config": {
        "plotlyServerURL": "https://plot.ly"
       },
       "data": [
        {
         "alignmentgroup": "True",
         "hovertemplate": "Name=%{x}<br>value=%{y}<extra></extra>",
         "legendgroup": "DecTree",
         "marker": {
          "color": "#636efa",
          "pattern": {
           "shape": ""
          }
         },
         "name": "DecTree",
         "offsetgroup": "DecTree",
         "orientation": "v",
         "showlegend": true,
         "textposition": "auto",
         "type": "bar",
         "x": [
          "DecTree"
         ],
         "xaxis": "x",
         "y": [
          1.406615875006537
         ],
         "yaxis": "y"
        },
        {
         "alignmentgroup": "True",
         "hovertemplate": "Name=%{x}<br>value=%{y}<extra></extra>",
         "legendgroup": "FMClassifier",
         "marker": {
          "color": "#EF553B",
          "pattern": {
           "shape": ""
          }
         },
         "name": "FMClassifier",
         "offsetgroup": "FMClassifier",
         "orientation": "v",
         "showlegend": true,
         "textposition": "auto",
         "type": "bar",
         "x": [
          "FMClassifier"
         ],
         "xaxis": "x",
         "y": [
          2.9692272920074174
         ],
         "yaxis": "y"
        },
        {
         "alignmentgroup": "True",
         "hovertemplate": "Name=%{x}<br>value=%{y}<extra></extra>",
         "legendgroup": "GBTClassifier",
         "marker": {
          "color": "#00cc96",
          "pattern": {
           "shape": ""
          }
         },
         "name": "GBTClassifier",
         "offsetgroup": "GBTClassifier",
         "orientation": "v",
         "showlegend": true,
         "textposition": "auto",
         "type": "bar",
         "x": [
          "GBTClassifier"
         ],
         "xaxis": "x",
         "y": [
          3.6890229580021696
         ],
         "yaxis": "y"
        },
        {
         "alignmentgroup": "True",
         "hovertemplate": "Name=%{x}<br>value=%{y}<extra></extra>",
         "legendgroup": "LinearSVC",
         "marker": {
          "color": "#ab63fa",
          "pattern": {
           "shape": ""
          }
         },
         "name": "LinearSVC",
         "offsetgroup": "LinearSVC",
         "orientation": "v",
         "showlegend": true,
         "textposition": "auto",
         "type": "bar",
         "x": [
          "LinearSVC"
         ],
         "xaxis": "x",
         "y": [
          1.664654124993831
         ],
         "yaxis": "y"
        },
        {
         "alignmentgroup": "True",
         "hovertemplate": "Name=%{x}<br>value=%{y}<extra></extra>",
         "legendgroup": "LogRegression",
         "marker": {
          "color": "#FFA15A",
          "pattern": {
           "shape": ""
          }
         },
         "name": "LogRegression",
         "offsetgroup": "LogRegression",
         "orientation": "v",
         "showlegend": true,
         "textposition": "auto",
         "type": "bar",
         "x": [
          "LogRegression"
         ],
         "xaxis": "x",
         "y": [
          3.545406167002511
         ],
         "yaxis": "y"
        },
        {
         "alignmentgroup": "True",
         "hovertemplate": "Name=%{x}<br>value=%{y}<extra></extra>",
         "legendgroup": "NaiveBayes",
         "marker": {
          "color": "#19d3f3",
          "pattern": {
           "shape": ""
          }
         },
         "name": "NaiveBayes",
         "offsetgroup": "NaiveBayes",
         "orientation": "v",
         "showlegend": true,
         "textposition": "auto",
         "type": "bar",
         "x": [
          "NaiveBayes"
         ],
         "xaxis": "x",
         "y": [
          0.7193327080021845
         ],
         "yaxis": "y"
        },
        {
         "alignmentgroup": "True",
         "hovertemplate": "Name=%{x}<br>value=%{y}<extra></extra>",
         "legendgroup": "RandomForrest",
         "marker": {
          "color": "#FF6692",
          "pattern": {
           "shape": ""
          }
         },
         "name": "RandomForrest",
         "offsetgroup": "RandomForrest",
         "orientation": "v",
         "showlegend": true,
         "textposition": "auto",
         "type": "bar",
         "x": [
          "RandomForrest"
         ],
         "xaxis": "x",
         "y": [
          1.1746191669953987
         ],
         "yaxis": "y"
        }
       ],
       "layout": {
        "barmode": "relative",
        "legend": {
         "title": {
          "text": "Name"
         },
         "tracegroupgap": 0
        },
        "margin": {
         "t": 60
        },
        "template": {
         "data": {
          "bar": [
           {
            "error_x": {
             "color": "#2a3f5f"
            },
            "error_y": {
             "color": "#2a3f5f"
            },
            "marker": {
             "line": {
              "color": "#E5ECF6",
              "width": 0.5
             },
             "pattern": {
              "fillmode": "overlay",
              "size": 10,
              "solidity": 0.2
             }
            },
            "type": "bar"
           }
          ],
          "barpolar": [
           {
            "marker": {
             "line": {
              "color": "#E5ECF6",
              "width": 0.5
             },
             "pattern": {
              "fillmode": "overlay",
              "size": 10,
              "solidity": 0.2
             }
            },
            "type": "barpolar"
           }
          ],
          "carpet": [
           {
            "aaxis": {
             "endlinecolor": "#2a3f5f",
             "gridcolor": "white",
             "linecolor": "white",
             "minorgridcolor": "white",
             "startlinecolor": "#2a3f5f"
            },
            "baxis": {
             "endlinecolor": "#2a3f5f",
             "gridcolor": "white",
             "linecolor": "white",
             "minorgridcolor": "white",
             "startlinecolor": "#2a3f5f"
            },
            "type": "carpet"
           }
          ],
          "choropleth": [
           {
            "colorbar": {
             "outlinewidth": 0,
             "ticks": ""
            },
            "type": "choropleth"
           }
          ],
          "contour": [
           {
            "colorbar": {
             "outlinewidth": 0,
             "ticks": ""
            },
            "colorscale": [
             [
              0,
              "#0d0887"
             ],
             [
              0.1111111111111111,
              "#46039f"
             ],
             [
              0.2222222222222222,
              "#7201a8"
             ],
             [
              0.3333333333333333,
              "#9c179e"
             ],
             [
              0.4444444444444444,
              "#bd3786"
             ],
             [
              0.5555555555555556,
              "#d8576b"
             ],
             [
              0.6666666666666666,
              "#ed7953"
             ],
             [
              0.7777777777777778,
              "#fb9f3a"
             ],
             [
              0.8888888888888888,
              "#fdca26"
             ],
             [
              1,
              "#f0f921"
             ]
            ],
            "type": "contour"
           }
          ],
          "contourcarpet": [
           {
            "colorbar": {
             "outlinewidth": 0,
             "ticks": ""
            },
            "type": "contourcarpet"
           }
          ],
          "heatmap": [
           {
            "colorbar": {
             "outlinewidth": 0,
             "ticks": ""
            },
            "colorscale": [
             [
              0,
              "#0d0887"
             ],
             [
              0.1111111111111111,
              "#46039f"
             ],
             [
              0.2222222222222222,
              "#7201a8"
             ],
             [
              0.3333333333333333,
              "#9c179e"
             ],
             [
              0.4444444444444444,
              "#bd3786"
             ],
             [
              0.5555555555555556,
              "#d8576b"
             ],
             [
              0.6666666666666666,
              "#ed7953"
             ],
             [
              0.7777777777777778,
              "#fb9f3a"
             ],
             [
              0.8888888888888888,
              "#fdca26"
             ],
             [
              1,
              "#f0f921"
             ]
            ],
            "type": "heatmap"
           }
          ],
          "heatmapgl": [
           {
            "colorbar": {
             "outlinewidth": 0,
             "ticks": ""
            },
            "colorscale": [
             [
              0,
              "#0d0887"
             ],
             [
              0.1111111111111111,
              "#46039f"
             ],
             [
              0.2222222222222222,
              "#7201a8"
             ],
             [
              0.3333333333333333,
              "#9c179e"
             ],
             [
              0.4444444444444444,
              "#bd3786"
             ],
             [
              0.5555555555555556,
              "#d8576b"
             ],
             [
              0.6666666666666666,
              "#ed7953"
             ],
             [
              0.7777777777777778,
              "#fb9f3a"
             ],
             [
              0.8888888888888888,
              "#fdca26"
             ],
             [
              1,
              "#f0f921"
             ]
            ],
            "type": "heatmapgl"
           }
          ],
          "histogram": [
           {
            "marker": {
             "pattern": {
              "fillmode": "overlay",
              "size": 10,
              "solidity": 0.2
             }
            },
            "type": "histogram"
           }
          ],
          "histogram2d": [
           {
            "colorbar": {
             "outlinewidth": 0,
             "ticks": ""
            },
            "colorscale": [
             [
              0,
              "#0d0887"
             ],
             [
              0.1111111111111111,
              "#46039f"
             ],
             [
              0.2222222222222222,
              "#7201a8"
             ],
             [
              0.3333333333333333,
              "#9c179e"
             ],
             [
              0.4444444444444444,
              "#bd3786"
             ],
             [
              0.5555555555555556,
              "#d8576b"
             ],
             [
              0.6666666666666666,
              "#ed7953"
             ],
             [
              0.7777777777777778,
              "#fb9f3a"
             ],
             [
              0.8888888888888888,
              "#fdca26"
             ],
             [
              1,
              "#f0f921"
             ]
            ],
            "type": "histogram2d"
           }
          ],
          "histogram2dcontour": [
           {
            "colorbar": {
             "outlinewidth": 0,
             "ticks": ""
            },
            "colorscale": [
             [
              0,
              "#0d0887"
             ],
             [
              0.1111111111111111,
              "#46039f"
             ],
             [
              0.2222222222222222,
              "#7201a8"
             ],
             [
              0.3333333333333333,
              "#9c179e"
             ],
             [
              0.4444444444444444,
              "#bd3786"
             ],
             [
              0.5555555555555556,
              "#d8576b"
             ],
             [
              0.6666666666666666,
              "#ed7953"
             ],
             [
              0.7777777777777778,
              "#fb9f3a"
             ],
             [
              0.8888888888888888,
              "#fdca26"
             ],
             [
              1,
              "#f0f921"
             ]
            ],
            "type": "histogram2dcontour"
           }
          ],
          "mesh3d": [
           {
            "colorbar": {
             "outlinewidth": 0,
             "ticks": ""
            },
            "type": "mesh3d"
           }
          ],
          "parcoords": [
           {
            "line": {
             "colorbar": {
              "outlinewidth": 0,
              "ticks": ""
             }
            },
            "type": "parcoords"
           }
          ],
          "pie": [
           {
            "automargin": true,
            "type": "pie"
           }
          ],
          "scatter": [
           {
            "fillpattern": {
             "fillmode": "overlay",
             "size": 10,
             "solidity": 0.2
            },
            "type": "scatter"
           }
          ],
          "scatter3d": [
           {
            "line": {
             "colorbar": {
              "outlinewidth": 0,
              "ticks": ""
             }
            },
            "marker": {
             "colorbar": {
              "outlinewidth": 0,
              "ticks": ""
             }
            },
            "type": "scatter3d"
           }
          ],
          "scattercarpet": [
           {
            "marker": {
             "colorbar": {
              "outlinewidth": 0,
              "ticks": ""
             }
            },
            "type": "scattercarpet"
           }
          ],
          "scattergeo": [
           {
            "marker": {
             "colorbar": {
              "outlinewidth": 0,
              "ticks": ""
             }
            },
            "type": "scattergeo"
           }
          ],
          "scattergl": [
           {
            "marker": {
             "colorbar": {
              "outlinewidth": 0,
              "ticks": ""
             }
            },
            "type": "scattergl"
           }
          ],
          "scattermapbox": [
           {
            "marker": {
             "colorbar": {
              "outlinewidth": 0,
              "ticks": ""
             }
            },
            "type": "scattermapbox"
           }
          ],
          "scatterpolar": [
           {
            "marker": {
             "colorbar": {
              "outlinewidth": 0,
              "ticks": ""
             }
            },
            "type": "scatterpolar"
           }
          ],
          "scatterpolargl": [
           {
            "marker": {
             "colorbar": {
              "outlinewidth": 0,
              "ticks": ""
             }
            },
            "type": "scatterpolargl"
           }
          ],
          "scatterternary": [
           {
            "marker": {
             "colorbar": {
              "outlinewidth": 0,
              "ticks": ""
             }
            },
            "type": "scatterternary"
           }
          ],
          "surface": [
           {
            "colorbar": {
             "outlinewidth": 0,
             "ticks": ""
            },
            "colorscale": [
             [
              0,
              "#0d0887"
             ],
             [
              0.1111111111111111,
              "#46039f"
             ],
             [
              0.2222222222222222,
              "#7201a8"
             ],
             [
              0.3333333333333333,
              "#9c179e"
             ],
             [
              0.4444444444444444,
              "#bd3786"
             ],
             [
              0.5555555555555556,
              "#d8576b"
             ],
             [
              0.6666666666666666,
              "#ed7953"
             ],
             [
              0.7777777777777778,
              "#fb9f3a"
             ],
             [
              0.8888888888888888,
              "#fdca26"
             ],
             [
              1,
              "#f0f921"
             ]
            ],
            "type": "surface"
           }
          ],
          "table": [
           {
            "cells": {
             "fill": {
              "color": "#EBF0F8"
             },
             "line": {
              "color": "white"
             }
            },
            "header": {
             "fill": {
              "color": "#C8D4E3"
             },
             "line": {
              "color": "white"
             }
            },
            "type": "table"
           }
          ]
         },
         "layout": {
          "annotationdefaults": {
           "arrowcolor": "#2a3f5f",
           "arrowhead": 0,
           "arrowwidth": 1
          },
          "autotypenumbers": "strict",
          "coloraxis": {
           "colorbar": {
            "outlinewidth": 0,
            "ticks": ""
           }
          },
          "colorscale": {
           "diverging": [
            [
             0,
             "#8e0152"
            ],
            [
             0.1,
             "#c51b7d"
            ],
            [
             0.2,
             "#de77ae"
            ],
            [
             0.3,
             "#f1b6da"
            ],
            [
             0.4,
             "#fde0ef"
            ],
            [
             0.5,
             "#f7f7f7"
            ],
            [
             0.6,
             "#e6f5d0"
            ],
            [
             0.7,
             "#b8e186"
            ],
            [
             0.8,
             "#7fbc41"
            ],
            [
             0.9,
             "#4d9221"
            ],
            [
             1,
             "#276419"
            ]
           ],
           "sequential": [
            [
             0,
             "#0d0887"
            ],
            [
             0.1111111111111111,
             "#46039f"
            ],
            [
             0.2222222222222222,
             "#7201a8"
            ],
            [
             0.3333333333333333,
             "#9c179e"
            ],
            [
             0.4444444444444444,
             "#bd3786"
            ],
            [
             0.5555555555555556,
             "#d8576b"
            ],
            [
             0.6666666666666666,
             "#ed7953"
            ],
            [
             0.7777777777777778,
             "#fb9f3a"
            ],
            [
             0.8888888888888888,
             "#fdca26"
            ],
            [
             1,
             "#f0f921"
            ]
           ],
           "sequentialminus": [
            [
             0,
             "#0d0887"
            ],
            [
             0.1111111111111111,
             "#46039f"
            ],
            [
             0.2222222222222222,
             "#7201a8"
            ],
            [
             0.3333333333333333,
             "#9c179e"
            ],
            [
             0.4444444444444444,
             "#bd3786"
            ],
            [
             0.5555555555555556,
             "#d8576b"
            ],
            [
             0.6666666666666666,
             "#ed7953"
            ],
            [
             0.7777777777777778,
             "#fb9f3a"
            ],
            [
             0.8888888888888888,
             "#fdca26"
            ],
            [
             1,
             "#f0f921"
            ]
           ]
          },
          "colorway": [
           "#636efa",
           "#EF553B",
           "#00cc96",
           "#ab63fa",
           "#FFA15A",
           "#19d3f3",
           "#FF6692",
           "#B6E880",
           "#FF97FF",
           "#FECB52"
          ],
          "font": {
           "color": "#2a3f5f"
          },
          "geo": {
           "bgcolor": "white",
           "lakecolor": "white",
           "landcolor": "#E5ECF6",
           "showlakes": true,
           "showland": true,
           "subunitcolor": "white"
          },
          "hoverlabel": {
           "align": "left"
          },
          "hovermode": "closest",
          "mapbox": {
           "style": "light"
          },
          "paper_bgcolor": "white",
          "plot_bgcolor": "#E5ECF6",
          "polar": {
           "angularaxis": {
            "gridcolor": "white",
            "linecolor": "white",
            "ticks": ""
           },
           "bgcolor": "#E5ECF6",
           "radialaxis": {
            "gridcolor": "white",
            "linecolor": "white",
            "ticks": ""
           }
          },
          "scene": {
           "xaxis": {
            "backgroundcolor": "#E5ECF6",
            "gridcolor": "white",
            "gridwidth": 2,
            "linecolor": "white",
            "showbackground": true,
            "ticks": "",
            "zerolinecolor": "white"
           },
           "yaxis": {
            "backgroundcolor": "#E5ECF6",
            "gridcolor": "white",
            "gridwidth": 2,
            "linecolor": "white",
            "showbackground": true,
            "ticks": "",
            "zerolinecolor": "white"
           },
           "zaxis": {
            "backgroundcolor": "#E5ECF6",
            "gridcolor": "white",
            "gridwidth": 2,
            "linecolor": "white",
            "showbackground": true,
            "ticks": "",
            "zerolinecolor": "white"
           }
          },
          "shapedefaults": {
           "line": {
            "color": "#2a3f5f"
           }
          },
          "ternary": {
           "aaxis": {
            "gridcolor": "white",
            "linecolor": "white",
            "ticks": ""
           },
           "baxis": {
            "gridcolor": "white",
            "linecolor": "white",
            "ticks": ""
           },
           "bgcolor": "#E5ECF6",
           "caxis": {
            "gridcolor": "white",
            "linecolor": "white",
            "ticks": ""
           }
          },
          "title": {
           "x": 0.05
          },
          "xaxis": {
           "automargin": true,
           "gridcolor": "white",
           "linecolor": "white",
           "ticks": "",
           "title": {
            "standoff": 15
           },
           "zerolinecolor": "white",
           "zerolinewidth": 2
          },
          "yaxis": {
           "automargin": true,
           "gridcolor": "white",
           "linecolor": "white",
           "ticks": "",
           "title": {
            "standoff": 15
           },
           "zerolinecolor": "white",
           "zerolinewidth": 2
          }
         }
        },
        "xaxis": {
         "anchor": "y",
         "categoryarray": [
          "DecTree",
          "FMClassifier",
          "GBTClassifier",
          "LinearSVC",
          "LogRegression",
          "NaiveBayes",
          "RandomForrest"
         ],
         "categoryorder": "array",
         "domain": [
          0,
          1
         ],
         "title": {
          "text": "Name"
         }
        },
        "yaxis": {
         "anchor": "x",
         "domain": [
          0,
          1
         ],
         "title": {
          "text": "value"
         }
        }
       }
      },
      "text/html": [
       "<div>                            <div id=\"acd7f8cc-e688-42f2-a742-c6bb788b7266\" class=\"plotly-graph-div\" style=\"height:525px; width:100%;\"></div>            <script type=\"text/javascript\">                require([\"plotly\"], function(Plotly) {                    window.PLOTLYENV=window.PLOTLYENV || {};                                    if (document.getElementById(\"acd7f8cc-e688-42f2-a742-c6bb788b7266\")) {                    Plotly.newPlot(                        \"acd7f8cc-e688-42f2-a742-c6bb788b7266\",                        [{\"alignmentgroup\":\"True\",\"hovertemplate\":\"Name=%{x}<br>value=%{y}<extra></extra>\",\"legendgroup\":\"DecTree\",\"marker\":{\"color\":\"#636efa\",\"pattern\":{\"shape\":\"\"}},\"name\":\"DecTree\",\"offsetgroup\":\"DecTree\",\"orientation\":\"v\",\"showlegend\":true,\"textposition\":\"auto\",\"x\":[\"DecTree\"],\"xaxis\":\"x\",\"y\":[1.406615875006537],\"yaxis\":\"y\",\"type\":\"bar\"},{\"alignmentgroup\":\"True\",\"hovertemplate\":\"Name=%{x}<br>value=%{y}<extra></extra>\",\"legendgroup\":\"FMClassifier\",\"marker\":{\"color\":\"#EF553B\",\"pattern\":{\"shape\":\"\"}},\"name\":\"FMClassifier\",\"offsetgroup\":\"FMClassifier\",\"orientation\":\"v\",\"showlegend\":true,\"textposition\":\"auto\",\"x\":[\"FMClassifier\"],\"xaxis\":\"x\",\"y\":[2.9692272920074174],\"yaxis\":\"y\",\"type\":\"bar\"},{\"alignmentgroup\":\"True\",\"hovertemplate\":\"Name=%{x}<br>value=%{y}<extra></extra>\",\"legendgroup\":\"GBTClassifier\",\"marker\":{\"color\":\"#00cc96\",\"pattern\":{\"shape\":\"\"}},\"name\":\"GBTClassifier\",\"offsetgroup\":\"GBTClassifier\",\"orientation\":\"v\",\"showlegend\":true,\"textposition\":\"auto\",\"x\":[\"GBTClassifier\"],\"xaxis\":\"x\",\"y\":[3.6890229580021696],\"yaxis\":\"y\",\"type\":\"bar\"},{\"alignmentgroup\":\"True\",\"hovertemplate\":\"Name=%{x}<br>value=%{y}<extra></extra>\",\"legendgroup\":\"LinearSVC\",\"marker\":{\"color\":\"#ab63fa\",\"pattern\":{\"shape\":\"\"}},\"name\":\"LinearSVC\",\"offsetgroup\":\"LinearSVC\",\"orientation\":\"v\",\"showlegend\":true,\"textposition\":\"auto\",\"x\":[\"LinearSVC\"],\"xaxis\":\"x\",\"y\":[1.664654124993831],\"yaxis\":\"y\",\"type\":\"bar\"},{\"alignmentgroup\":\"True\",\"hovertemplate\":\"Name=%{x}<br>value=%{y}<extra></extra>\",\"legendgroup\":\"LogRegression\",\"marker\":{\"color\":\"#FFA15A\",\"pattern\":{\"shape\":\"\"}},\"name\":\"LogRegression\",\"offsetgroup\":\"LogRegression\",\"orientation\":\"v\",\"showlegend\":true,\"textposition\":\"auto\",\"x\":[\"LogRegression\"],\"xaxis\":\"x\",\"y\":[3.545406167002511],\"yaxis\":\"y\",\"type\":\"bar\"},{\"alignmentgroup\":\"True\",\"hovertemplate\":\"Name=%{x}<br>value=%{y}<extra></extra>\",\"legendgroup\":\"NaiveBayes\",\"marker\":{\"color\":\"#19d3f3\",\"pattern\":{\"shape\":\"\"}},\"name\":\"NaiveBayes\",\"offsetgroup\":\"NaiveBayes\",\"orientation\":\"v\",\"showlegend\":true,\"textposition\":\"auto\",\"x\":[\"NaiveBayes\"],\"xaxis\":\"x\",\"y\":[0.7193327080021845],\"yaxis\":\"y\",\"type\":\"bar\"},{\"alignmentgroup\":\"True\",\"hovertemplate\":\"Name=%{x}<br>value=%{y}<extra></extra>\",\"legendgroup\":\"RandomForrest\",\"marker\":{\"color\":\"#FF6692\",\"pattern\":{\"shape\":\"\"}},\"name\":\"RandomForrest\",\"offsetgroup\":\"RandomForrest\",\"orientation\":\"v\",\"showlegend\":true,\"textposition\":\"auto\",\"x\":[\"RandomForrest\"],\"xaxis\":\"x\",\"y\":[1.1746191669953987],\"yaxis\":\"y\",\"type\":\"bar\"}],                        {\"template\":{\"data\":{\"histogram2dcontour\":[{\"type\":\"histogram2dcontour\",\"colorbar\":{\"outlinewidth\":0,\"ticks\":\"\"},\"colorscale\":[[0.0,\"#0d0887\"],[0.1111111111111111,\"#46039f\"],[0.2222222222222222,\"#7201a8\"],[0.3333333333333333,\"#9c179e\"],[0.4444444444444444,\"#bd3786\"],[0.5555555555555556,\"#d8576b\"],[0.6666666666666666,\"#ed7953\"],[0.7777777777777778,\"#fb9f3a\"],[0.8888888888888888,\"#fdca26\"],[1.0,\"#f0f921\"]]}],\"choropleth\":[{\"type\":\"choropleth\",\"colorbar\":{\"outlinewidth\":0,\"ticks\":\"\"}}],\"histogram2d\":[{\"type\":\"histogram2d\",\"colorbar\":{\"outlinewidth\":0,\"ticks\":\"\"},\"colorscale\":[[0.0,\"#0d0887\"],[0.1111111111111111,\"#46039f\"],[0.2222222222222222,\"#7201a8\"],[0.3333333333333333,\"#9c179e\"],[0.4444444444444444,\"#bd3786\"],[0.5555555555555556,\"#d8576b\"],[0.6666666666666666,\"#ed7953\"],[0.7777777777777778,\"#fb9f3a\"],[0.8888888888888888,\"#fdca26\"],[1.0,\"#f0f921\"]]}],\"heatmap\":[{\"type\":\"heatmap\",\"colorbar\":{\"outlinewidth\":0,\"ticks\":\"\"},\"colorscale\":[[0.0,\"#0d0887\"],[0.1111111111111111,\"#46039f\"],[0.2222222222222222,\"#7201a8\"],[0.3333333333333333,\"#9c179e\"],[0.4444444444444444,\"#bd3786\"],[0.5555555555555556,\"#d8576b\"],[0.6666666666666666,\"#ed7953\"],[0.7777777777777778,\"#fb9f3a\"],[0.8888888888888888,\"#fdca26\"],[1.0,\"#f0f921\"]]}],\"heatmapgl\":[{\"type\":\"heatmapgl\",\"colorbar\":{\"outlinewidth\":0,\"ticks\":\"\"},\"colorscale\":[[0.0,\"#0d0887\"],[0.1111111111111111,\"#46039f\"],[0.2222222222222222,\"#7201a8\"],[0.3333333333333333,\"#9c179e\"],[0.4444444444444444,\"#bd3786\"],[0.5555555555555556,\"#d8576b\"],[0.6666666666666666,\"#ed7953\"],[0.7777777777777778,\"#fb9f3a\"],[0.8888888888888888,\"#fdca26\"],[1.0,\"#f0f921\"]]}],\"contourcarpet\":[{\"type\":\"contourcarpet\",\"colorbar\":{\"outlinewidth\":0,\"ticks\":\"\"}}],\"contour\":[{\"type\":\"contour\",\"colorbar\":{\"outlinewidth\":0,\"ticks\":\"\"},\"colorscale\":[[0.0,\"#0d0887\"],[0.1111111111111111,\"#46039f\"],[0.2222222222222222,\"#7201a8\"],[0.3333333333333333,\"#9c179e\"],[0.4444444444444444,\"#bd3786\"],[0.5555555555555556,\"#d8576b\"],[0.6666666666666666,\"#ed7953\"],[0.7777777777777778,\"#fb9f3a\"],[0.8888888888888888,\"#fdca26\"],[1.0,\"#f0f921\"]]}],\"surface\":[{\"type\":\"surface\",\"colorbar\":{\"outlinewidth\":0,\"ticks\":\"\"},\"colorscale\":[[0.0,\"#0d0887\"],[0.1111111111111111,\"#46039f\"],[0.2222222222222222,\"#7201a8\"],[0.3333333333333333,\"#9c179e\"],[0.4444444444444444,\"#bd3786\"],[0.5555555555555556,\"#d8576b\"],[0.6666666666666666,\"#ed7953\"],[0.7777777777777778,\"#fb9f3a\"],[0.8888888888888888,\"#fdca26\"],[1.0,\"#f0f921\"]]}],\"mesh3d\":[{\"type\":\"mesh3d\",\"colorbar\":{\"outlinewidth\":0,\"ticks\":\"\"}}],\"scatter\":[{\"fillpattern\":{\"fillmode\":\"overlay\",\"size\":10,\"solidity\":0.2},\"type\":\"scatter\"}],\"parcoords\":[{\"type\":\"parcoords\",\"line\":{\"colorbar\":{\"outlinewidth\":0,\"ticks\":\"\"}}}],\"scatterpolargl\":[{\"type\":\"scatterpolargl\",\"marker\":{\"colorbar\":{\"outlinewidth\":0,\"ticks\":\"\"}}}],\"bar\":[{\"error_x\":{\"color\":\"#2a3f5f\"},\"error_y\":{\"color\":\"#2a3f5f\"},\"marker\":{\"line\":{\"color\":\"#E5ECF6\",\"width\":0.5},\"pattern\":{\"fillmode\":\"overlay\",\"size\":10,\"solidity\":0.2}},\"type\":\"bar\"}],\"scattergeo\":[{\"type\":\"scattergeo\",\"marker\":{\"colorbar\":{\"outlinewidth\":0,\"ticks\":\"\"}}}],\"scatterpolar\":[{\"type\":\"scatterpolar\",\"marker\":{\"colorbar\":{\"outlinewidth\":0,\"ticks\":\"\"}}}],\"histogram\":[{\"marker\":{\"pattern\":{\"fillmode\":\"overlay\",\"size\":10,\"solidity\":0.2}},\"type\":\"histogram\"}],\"scattergl\":[{\"type\":\"scattergl\",\"marker\":{\"colorbar\":{\"outlinewidth\":0,\"ticks\":\"\"}}}],\"scatter3d\":[{\"type\":\"scatter3d\",\"line\":{\"colorbar\":{\"outlinewidth\":0,\"ticks\":\"\"}},\"marker\":{\"colorbar\":{\"outlinewidth\":0,\"ticks\":\"\"}}}],\"scattermapbox\":[{\"type\":\"scattermapbox\",\"marker\":{\"colorbar\":{\"outlinewidth\":0,\"ticks\":\"\"}}}],\"scatterternary\":[{\"type\":\"scatterternary\",\"marker\":{\"colorbar\":{\"outlinewidth\":0,\"ticks\":\"\"}}}],\"scattercarpet\":[{\"type\":\"scattercarpet\",\"marker\":{\"colorbar\":{\"outlinewidth\":0,\"ticks\":\"\"}}}],\"carpet\":[{\"aaxis\":{\"endlinecolor\":\"#2a3f5f\",\"gridcolor\":\"white\",\"linecolor\":\"white\",\"minorgridcolor\":\"white\",\"startlinecolor\":\"#2a3f5f\"},\"baxis\":{\"endlinecolor\":\"#2a3f5f\",\"gridcolor\":\"white\",\"linecolor\":\"white\",\"minorgridcolor\":\"white\",\"startlinecolor\":\"#2a3f5f\"},\"type\":\"carpet\"}],\"table\":[{\"cells\":{\"fill\":{\"color\":\"#EBF0F8\"},\"line\":{\"color\":\"white\"}},\"header\":{\"fill\":{\"color\":\"#C8D4E3\"},\"line\":{\"color\":\"white\"}},\"type\":\"table\"}],\"barpolar\":[{\"marker\":{\"line\":{\"color\":\"#E5ECF6\",\"width\":0.5},\"pattern\":{\"fillmode\":\"overlay\",\"size\":10,\"solidity\":0.2}},\"type\":\"barpolar\"}],\"pie\":[{\"automargin\":true,\"type\":\"pie\"}]},\"layout\":{\"autotypenumbers\":\"strict\",\"colorway\":[\"#636efa\",\"#EF553B\",\"#00cc96\",\"#ab63fa\",\"#FFA15A\",\"#19d3f3\",\"#FF6692\",\"#B6E880\",\"#FF97FF\",\"#FECB52\"],\"font\":{\"color\":\"#2a3f5f\"},\"hovermode\":\"closest\",\"hoverlabel\":{\"align\":\"left\"},\"paper_bgcolor\":\"white\",\"plot_bgcolor\":\"#E5ECF6\",\"polar\":{\"bgcolor\":\"#E5ECF6\",\"angularaxis\":{\"gridcolor\":\"white\",\"linecolor\":\"white\",\"ticks\":\"\"},\"radialaxis\":{\"gridcolor\":\"white\",\"linecolor\":\"white\",\"ticks\":\"\"}},\"ternary\":{\"bgcolor\":\"#E5ECF6\",\"aaxis\":{\"gridcolor\":\"white\",\"linecolor\":\"white\",\"ticks\":\"\"},\"baxis\":{\"gridcolor\":\"white\",\"linecolor\":\"white\",\"ticks\":\"\"},\"caxis\":{\"gridcolor\":\"white\",\"linecolor\":\"white\",\"ticks\":\"\"}},\"coloraxis\":{\"colorbar\":{\"outlinewidth\":0,\"ticks\":\"\"}},\"colorscale\":{\"sequential\":[[0.0,\"#0d0887\"],[0.1111111111111111,\"#46039f\"],[0.2222222222222222,\"#7201a8\"],[0.3333333333333333,\"#9c179e\"],[0.4444444444444444,\"#bd3786\"],[0.5555555555555556,\"#d8576b\"],[0.6666666666666666,\"#ed7953\"],[0.7777777777777778,\"#fb9f3a\"],[0.8888888888888888,\"#fdca26\"],[1.0,\"#f0f921\"]],\"sequentialminus\":[[0.0,\"#0d0887\"],[0.1111111111111111,\"#46039f\"],[0.2222222222222222,\"#7201a8\"],[0.3333333333333333,\"#9c179e\"],[0.4444444444444444,\"#bd3786\"],[0.5555555555555556,\"#d8576b\"],[0.6666666666666666,\"#ed7953\"],[0.7777777777777778,\"#fb9f3a\"],[0.8888888888888888,\"#fdca26\"],[1.0,\"#f0f921\"]],\"diverging\":[[0,\"#8e0152\"],[0.1,\"#c51b7d\"],[0.2,\"#de77ae\"],[0.3,\"#f1b6da\"],[0.4,\"#fde0ef\"],[0.5,\"#f7f7f7\"],[0.6,\"#e6f5d0\"],[0.7,\"#b8e186\"],[0.8,\"#7fbc41\"],[0.9,\"#4d9221\"],[1,\"#276419\"]]},\"xaxis\":{\"gridcolor\":\"white\",\"linecolor\":\"white\",\"ticks\":\"\",\"title\":{\"standoff\":15},\"zerolinecolor\":\"white\",\"automargin\":true,\"zerolinewidth\":2},\"yaxis\":{\"gridcolor\":\"white\",\"linecolor\":\"white\",\"ticks\":\"\",\"title\":{\"standoff\":15},\"zerolinecolor\":\"white\",\"automargin\":true,\"zerolinewidth\":2},\"scene\":{\"xaxis\":{\"backgroundcolor\":\"#E5ECF6\",\"gridcolor\":\"white\",\"linecolor\":\"white\",\"showbackground\":true,\"ticks\":\"\",\"zerolinecolor\":\"white\",\"gridwidth\":2},\"yaxis\":{\"backgroundcolor\":\"#E5ECF6\",\"gridcolor\":\"white\",\"linecolor\":\"white\",\"showbackground\":true,\"ticks\":\"\",\"zerolinecolor\":\"white\",\"gridwidth\":2},\"zaxis\":{\"backgroundcolor\":\"#E5ECF6\",\"gridcolor\":\"white\",\"linecolor\":\"white\",\"showbackground\":true,\"ticks\":\"\",\"zerolinecolor\":\"white\",\"gridwidth\":2}},\"shapedefaults\":{\"line\":{\"color\":\"#2a3f5f\"}},\"annotationdefaults\":{\"arrowcolor\":\"#2a3f5f\",\"arrowhead\":0,\"arrowwidth\":1},\"geo\":{\"bgcolor\":\"white\",\"landcolor\":\"#E5ECF6\",\"subunitcolor\":\"white\",\"showland\":true,\"showlakes\":true,\"lakecolor\":\"white\"},\"title\":{\"x\":0.05},\"mapbox\":{\"style\":\"light\"}}},\"xaxis\":{\"anchor\":\"y\",\"domain\":[0.0,1.0],\"title\":{\"text\":\"Name\"},\"categoryorder\":\"array\",\"categoryarray\":[\"DecTree\",\"FMClassifier\",\"GBTClassifier\",\"LinearSVC\",\"LogRegression\",\"NaiveBayes\",\"RandomForrest\"]},\"yaxis\":{\"anchor\":\"x\",\"domain\":[0.0,1.0],\"title\":{\"text\":\"value\"}},\"legend\":{\"title\":{\"text\":\"Name\"},\"tracegroupgap\":0},\"margin\":{\"t\":60},\"barmode\":\"relative\"},                        {\"responsive\": true}                    ).then(function(){\n",
       "                            \n",
       "var gd = document.getElementById('acd7f8cc-e688-42f2-a742-c6bb788b7266');\n",
       "var x = new MutationObserver(function (mutations, observer) {{\n",
       "        var display = window.getComputedStyle(gd).display;\n",
       "        if (!display || display === 'none') {{\n",
       "            console.log([gd, 'removed!']);\n",
       "            Plotly.purge(gd);\n",
       "            observer.disconnect();\n",
       "        }}\n",
       "}});\n",
       "\n",
       "// Listen for the removal of the full notebook cells\n",
       "var notebookContainer = gd.closest('#notebook-container');\n",
       "if (notebookContainer) {{\n",
       "    x.observe(notebookContainer, {childList: true});\n",
       "}}\n",
       "\n",
       "// Listen for the clearing of the current output cell\n",
       "var outputEl = gd.closest('.output');\n",
       "if (outputEl) {{\n",
       "    x.observe(outputEl, {childList: true});\n",
       "}}\n",
       "\n",
       "                        })                };                });            </script>        </div>"
      ]
     },
     "metadata": {},
     "output_type": "display_data"
    }
   ],
   "source": [
    "px.bar(performance_df_spark.groupby('Name',as_index=False)['time(s)'].mean(),x=\"Name\",y=[\"time(s)\"],color='Name')\n"
   ]
  },
  {
   "cell_type": "code",
   "execution_count": 34,
   "id": "ef5bb6df",
   "metadata": {},
   "outputs": [
    {
     "data": {
      "text/html": [
       "<div>\n",
       "<style scoped>\n",
       "    .dataframe tbody tr th:only-of-type {\n",
       "        vertical-align: middle;\n",
       "    }\n",
       "\n",
       "    .dataframe tbody tr th {\n",
       "        vertical-align: top;\n",
       "    }\n",
       "\n",
       "    .dataframe thead th {\n",
       "        text-align: right;\n",
       "    }\n",
       "</style>\n",
       "<table border=\"1\" class=\"dataframe\">\n",
       "  <thead>\n",
       "    <tr style=\"text-align: right;\">\n",
       "      <th></th>\n",
       "      <th>Name</th>\n",
       "      <th>accuracy</th>\n",
       "      <th>precisionByLabel</th>\n",
       "      <th>recallByLabel</th>\n",
       "      <th>f1</th>\n",
       "      <th>time(s)</th>\n",
       "    </tr>\n",
       "  </thead>\n",
       "  <tbody>\n",
       "    <tr>\n",
       "      <th>0</th>\n",
       "      <td>DecTree</td>\n",
       "      <td>0.963768</td>\n",
       "      <td>0.992063</td>\n",
       "      <td>0.968992</td>\n",
       "      <td>0.966143</td>\n",
       "      <td>1.406616</td>\n",
       "    </tr>\n",
       "    <tr>\n",
       "      <th>1</th>\n",
       "      <td>FMClassifier</td>\n",
       "      <td>0.956522</td>\n",
       "      <td>0.976744</td>\n",
       "      <td>0.976744</td>\n",
       "      <td>0.956522</td>\n",
       "      <td>2.969227</td>\n",
       "    </tr>\n",
       "    <tr>\n",
       "      <th>2</th>\n",
       "      <td>GBTClassifier</td>\n",
       "      <td>0.963768</td>\n",
       "      <td>0.980620</td>\n",
       "      <td>0.980620</td>\n",
       "      <td>0.963768</td>\n",
       "      <td>3.689023</td>\n",
       "    </tr>\n",
       "    <tr>\n",
       "      <th>3</th>\n",
       "      <td>LinearSVC</td>\n",
       "      <td>0.996377</td>\n",
       "      <td>0.996139</td>\n",
       "      <td>1.000000</td>\n",
       "      <td>0.996329</td>\n",
       "      <td>1.664654</td>\n",
       "    </tr>\n",
       "    <tr>\n",
       "      <th>4</th>\n",
       "      <td>LogRegression</td>\n",
       "      <td>1.000000</td>\n",
       "      <td>1.000000</td>\n",
       "      <td>1.000000</td>\n",
       "      <td>1.000000</td>\n",
       "      <td>3.545406</td>\n",
       "    </tr>\n",
       "    <tr>\n",
       "      <th>5</th>\n",
       "      <td>NaiveBayes</td>\n",
       "      <td>0.869565</td>\n",
       "      <td>0.991150</td>\n",
       "      <td>0.868217</td>\n",
       "      <td>0.895944</td>\n",
       "      <td>0.719333</td>\n",
       "    </tr>\n",
       "    <tr>\n",
       "      <th>6</th>\n",
       "      <td>RandomForrest</td>\n",
       "      <td>0.945652</td>\n",
       "      <td>0.991903</td>\n",
       "      <td>0.949612</td>\n",
       "      <td>0.951420</td>\n",
       "      <td>1.174619</td>\n",
       "    </tr>\n",
       "  </tbody>\n",
       "</table>\n",
       "</div>"
      ],
      "text/plain": [
       "            Name  accuracy  precisionByLabel  recallByLabel        f1  \\\n",
       "0        DecTree  0.963768          0.992063       0.968992  0.966143   \n",
       "1   FMClassifier  0.956522          0.976744       0.976744  0.956522   \n",
       "2  GBTClassifier  0.963768          0.980620       0.980620  0.963768   \n",
       "3      LinearSVC  0.996377          0.996139       1.000000  0.996329   \n",
       "4  LogRegression  1.000000          1.000000       1.000000  1.000000   \n",
       "5     NaiveBayes  0.869565          0.991150       0.868217  0.895944   \n",
       "6  RandomForrest  0.945652          0.991903       0.949612  0.951420   \n",
       "\n",
       "    time(s)  \n",
       "0  1.406616  \n",
       "1  2.969227  \n",
       "2  3.689023  \n",
       "3  1.664654  \n",
       "4  3.545406  \n",
       "5  0.719333  \n",
       "6  1.174619  "
      ]
     },
     "execution_count": 34,
     "metadata": {},
     "output_type": "execute_result"
    }
   ],
   "source": [
    "performance_df_spark.groupby('Name',as_index=False).mean()\n"
   ]
  },
  {
   "cell_type": "code",
   "execution_count": 35,
   "id": "9bf75cfa",
   "metadata": {},
   "outputs": [
    {
     "data": {
      "text/html": [
       "<div>\n",
       "<style scoped>\n",
       "    .dataframe tbody tr th:only-of-type {\n",
       "        vertical-align: middle;\n",
       "    }\n",
       "\n",
       "    .dataframe tbody tr th {\n",
       "        vertical-align: top;\n",
       "    }\n",
       "\n",
       "    .dataframe thead th {\n",
       "        text-align: right;\n",
       "    }\n",
       "</style>\n",
       "<table border=\"1\" class=\"dataframe\">\n",
       "  <thead>\n",
       "    <tr style=\"text-align: right;\">\n",
       "      <th></th>\n",
       "      <th>Name</th>\n",
       "      <th>accuracy</th>\n",
       "      <th>precisionByLabel</th>\n",
       "      <th>recallByLabel</th>\n",
       "      <th>f1</th>\n",
       "      <th>time(s)</th>\n",
       "    </tr>\n",
       "  </thead>\n",
       "  <tbody>\n",
       "    <tr>\n",
       "      <th>0</th>\n",
       "      <td>LogRegression</td>\n",
       "      <td>1.000000</td>\n",
       "      <td>1.000000</td>\n",
       "      <td>1.000000</td>\n",
       "      <td>1.000000</td>\n",
       "      <td>3.545406</td>\n",
       "    </tr>\n",
       "    <tr>\n",
       "      <th>1</th>\n",
       "      <td>DecTree</td>\n",
       "      <td>0.963768</td>\n",
       "      <td>0.992063</td>\n",
       "      <td>0.968992</td>\n",
       "      <td>0.966143</td>\n",
       "      <td>1.406616</td>\n",
       "    </tr>\n",
       "    <tr>\n",
       "      <th>2</th>\n",
       "      <td>RandomForrest</td>\n",
       "      <td>0.945652</td>\n",
       "      <td>0.991903</td>\n",
       "      <td>0.949612</td>\n",
       "      <td>0.951420</td>\n",
       "      <td>1.174619</td>\n",
       "    </tr>\n",
       "    <tr>\n",
       "      <th>3</th>\n",
       "      <td>GBTClassifier</td>\n",
       "      <td>0.963768</td>\n",
       "      <td>0.980620</td>\n",
       "      <td>0.980620</td>\n",
       "      <td>0.963768</td>\n",
       "      <td>3.689023</td>\n",
       "    </tr>\n",
       "    <tr>\n",
       "      <th>4</th>\n",
       "      <td>LinearSVC</td>\n",
       "      <td>0.996377</td>\n",
       "      <td>0.996139</td>\n",
       "      <td>1.000000</td>\n",
       "      <td>0.996329</td>\n",
       "      <td>1.664654</td>\n",
       "    </tr>\n",
       "    <tr>\n",
       "      <th>5</th>\n",
       "      <td>NaiveBayes</td>\n",
       "      <td>0.869565</td>\n",
       "      <td>0.991150</td>\n",
       "      <td>0.868217</td>\n",
       "      <td>0.895944</td>\n",
       "      <td>0.719333</td>\n",
       "    </tr>\n",
       "    <tr>\n",
       "      <th>6</th>\n",
       "      <td>FMClassifier</td>\n",
       "      <td>0.956522</td>\n",
       "      <td>0.976744</td>\n",
       "      <td>0.976744</td>\n",
       "      <td>0.956522</td>\n",
       "      <td>2.969227</td>\n",
       "    </tr>\n",
       "  </tbody>\n",
       "</table>\n",
       "</div>"
      ],
      "text/plain": [
       "            Name  accuracy  precisionByLabel  recallByLabel        f1  \\\n",
       "0  LogRegression  1.000000          1.000000       1.000000  1.000000   \n",
       "1        DecTree  0.963768          0.992063       0.968992  0.966143   \n",
       "2  RandomForrest  0.945652          0.991903       0.949612  0.951420   \n",
       "3  GBTClassifier  0.963768          0.980620       0.980620  0.963768   \n",
       "4      LinearSVC  0.996377          0.996139       1.000000  0.996329   \n",
       "5     NaiveBayes  0.869565          0.991150       0.868217  0.895944   \n",
       "6   FMClassifier  0.956522          0.976744       0.976744  0.956522   \n",
       "\n",
       "    time(s)  \n",
       "0  3.545406  \n",
       "1  1.406616  \n",
       "2  1.174619  \n",
       "3  3.689023  \n",
       "4  1.664654  \n",
       "5  0.719333  \n",
       "6  2.969227  "
      ]
     },
     "execution_count": 35,
     "metadata": {},
     "output_type": "execute_result"
    }
   ],
   "source": [
    "performance_df_spark\n"
   ]
  },
  {
   "cell_type": "code",
   "execution_count": null,
   "id": "bf4fef2d",
   "metadata": {},
   "outputs": [],
   "source": []
  }
 ],
 "metadata": {
  "kernelspec": {
   "display_name": "Python 3 (ipykernel)",
   "language": "python",
   "name": "python3"
  },
  "language_info": {
   "codemirror_mode": {
    "name": "ipython",
    "version": 3
   },
   "file_extension": ".py",
   "mimetype": "text/x-python",
   "name": "python",
   "nbconvert_exporter": "python",
   "pygments_lexer": "ipython3",
   "version": "3.11.3"
  },
  "papermill": {
   "default_parameters": {},
   "duration": 40.357664,
   "end_time": "2023-01-01T21:07:54.895300",
   "environment_variables": {},
   "exception": null,
   "input_path": "__notebook__.ipynb",
   "output_path": "__notebook__.ipynb",
   "parameters": {},
   "start_time": "2023-01-01T21:07:14.537636",
   "version": "2.3.4"
  }
 },
 "nbformat": 4,
 "nbformat_minor": 5
}
