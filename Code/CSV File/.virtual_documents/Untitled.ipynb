from pyspark.sql import SparkSession
from pyspark.ml.classification import LogisticRegression
from pyspark.ml.linalg import Vectors
from pyspark.ml.feature import VectorAssembler
from pyspark.ml.evaluation import BinaryClassificationEvaluator

# Initialize a Spark session
spark = SparkSession.builder.appName("LogisticRegressionExample").getOrCreate()

# Sample data
data = [
    (0, Vectors.dense([0.5, 0.5]), 0.0),
    (1, Vectors.dense([1.5, 1.5]), 1.0),
    (2, Vectors.dense([1.0, 2.0]), 1.0),
    (3, Vectors.dense([2.0, 1.0]), 0.0),
    (4, Vectors.dense([2.0, 2.0]), 1.0),
    (5, Vectors.dense([1.0, 1.0]), 0.0)
]

# Create a DataFrame
schema = ["id", "features", "label"]
df = spark.createDataFrame(data, schema=schema)

# Define the logistic regression model
lr = LogisticRegression(maxIter=10, regParam=0.01)

# Fit the model
model = lr.fit(df)

# Make predictions
predictions = model.transform(df)

# Evaluate the model
evaluator = BinaryClassificationEvaluator()
accuracy = evaluator.evaluate(predictions)

print("Accuracy:", accuracy)

# Stop the Spark session
spark.stop()




