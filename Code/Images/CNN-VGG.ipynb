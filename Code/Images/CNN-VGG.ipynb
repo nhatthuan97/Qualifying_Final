{
 "cells": [
  {
   "cell_type": "code",
   "execution_count": 20,
   "id": "dd1fdd99-e75c-436f-ba15-237b7926ad46",
   "metadata": {
    "tags": []
   },
   "outputs": [],
   "source": [
    "#Code was heavily based on this implementation: CBIR-NewCode-CNN Model on Kaggle that can be found on this website\n",
    "#https://www.kaggle.com/code/sjha999/cbir-newcode-cnn-model"
   ]
  },
  {
   "cell_type": "code",
   "execution_count": 1,
   "id": "e9e5942e",
   "metadata": {
    "_cell_guid": "b1076dfc-b9ad-4769-8c92-a6c4dae69d19",
    "_uuid": "8f2839f25d086af736a60e9eeb907d3b93b6e0e5",
    "papermill": {
     "duration": 0.167061,
     "end_time": "2022-04-28T16:34:36.787854",
     "exception": false,
     "start_time": "2022-04-28T16:34:36.620793",
     "status": "completed"
    },
    "scrolled": true,
    "tags": []
   },
   "outputs": [],
   "source": [
    "# Importing Necessary Libraries\n",
    "import cv2\n",
    "import os\n",
    "import shutil \n",
    "import math\n",
    "import random\n",
    "import numpy as np\n",
    "import pandas as pd \n",
    "import matplotlib.pyplot as plt\n",
    "\n",
    "import warnings\n",
    "warnings.filterwarnings(\"ignore\")"
   ]
  },
  {
   "cell_type": "code",
   "execution_count": 2,
   "id": "8872df98",
   "metadata": {
    "papermill": {
     "duration": 0.043115,
     "end_time": "2022-04-28T16:35:06.251810",
     "exception": false,
     "start_time": "2022-04-28T16:35:06.208695",
     "status": "completed"
    },
    "scrolled": true,
    "tags": []
   },
   "outputs": [
    {
     "name": "stdout",
     "output_type": "stream",
     "text": [
      "{'Dyskeratotic': 813, 'Koilocytotic': 825, 'Metaplastic': 793, 'Parabasal': 787, 'Superficial-Intermediate': 831}\n"
     ]
    }
   ],
   "source": [
    "root_dir = \"./SparkData\"\n",
    "classes = [\"Dyskeratotic\",\"Koilocytotic\",\"Metaplastic\",\"Parabasal\",\"Superficial-Intermediate\"]\n",
    "\n",
    "def GetDatasetSize(path, classes):\n",
    "    num_of_image = {}\n",
    "    for cls in classes:\n",
    "        # Counting the Number of Files in the Folder\n",
    "        num_of_image[cls] = len(os.listdir(os.path.join(path, cls)));\n",
    "    return num_of_image;\n",
    "\n",
    "print(GetDatasetSize(root_dir, classes));"
   ]
  },
  {
   "cell_type": "markdown",
   "id": "0bf5ae8e",
   "metadata": {
    "papermill": {
     "duration": 0.033593,
     "end_time": "2022-04-28T16:35:06.319922",
     "exception": false,
     "start_time": "2022-04-28T16:35:06.286329",
     "status": "completed"
    },
    "tags": []
   },
   "source": [
    "### Split the Dataset such that we have\n",
    "* 70% for Train Data\n",
    "* 15% for Validation Data\n",
    "* 15% for Testing Data"
   ]
  },
  {
   "cell_type": "code",
   "execution_count": 3,
   "id": "3a28d63d",
   "metadata": {
    "papermill": {
     "duration": 0.393898,
     "end_time": "2022-04-28T16:35:06.795679",
     "exception": false,
     "start_time": "2022-04-28T16:35:06.401781",
     "status": "completed"
    },
    "scrolled": true,
    "tags": []
   },
   "outputs": [
    {
     "name": "stdout",
     "output_type": "stream",
     "text": [
      "Dyskeratotic :\n",
      "Total images:  813\n",
      "Training:  569\n",
      "Validation:  122\n",
      "Testing:  122\n",
      "\n",
      "Koilocytotic :\n",
      "Total images:  825\n",
      "Training:  577\n",
      "Validation:  124\n",
      "Testing:  124\n",
      "\n",
      "Metaplastic :\n",
      "Total images:  793\n",
      "Training:  555\n",
      "Validation:  119\n",
      "Testing:  119\n",
      "\n",
      "Parabasal :\n",
      "Total images:  787\n",
      "Training:  550\n",
      "Validation:  118\n",
      "Testing:  119\n",
      "\n",
      "Superficial-Intermediate :\n",
      "Total images:  831\n",
      "Training:  581\n",
      "Validation:  125\n",
      "Testing:  125\n",
      "\n"
     ]
    }
   ],
   "source": [
    "# Function for Creating Train / Validation / Test folders (One time use Only)\n",
    "\n",
    "def TrainValTestSplit(root_dir, classes_dir, val_ratio = 0.15, test_ratio = 0.15):\n",
    "    for cls in classes_dir:\n",
    "        # Creating Split Folders\n",
    "        os.makedirs('train/' + cls)\n",
    "        os.makedirs('val/' + cls)\n",
    "        os.makedirs('test/' + cls)\n",
    "\n",
    "        # Folder to copy images from\n",
    "        src = os.path.join(root_dir, cls);\n",
    "\n",
    "        # Spliting the Files in the Given ratio\n",
    "        allFileNames = os.listdir(src)\n",
    "        np.random.shuffle(allFileNames)\n",
    "        train_FileNames, val_FileNames, test_FileNames = np.split(np.array(allFileNames), [int(len(allFileNames)* (1 - (val_ratio + test_ratio))), int(len(allFileNames)* (1 - test_ratio))])\n",
    "\n",
    "        train_FileNames = [src+'/'+ name for name in train_FileNames.tolist()]\n",
    "        val_FileNames = [src+'/' + name for name in val_FileNames.tolist()]\n",
    "        test_FileNames = [src+'/' + name for name in test_FileNames.tolist()]\n",
    "\n",
    "        # Printing the Split Details\n",
    "        print(cls,':')\n",
    "        print('Total images: ', len(allFileNames))\n",
    "        print('Training: ', len(train_FileNames))\n",
    "        print('Validation: ', len(val_FileNames))\n",
    "        print('Testing: ', len(test_FileNames))\n",
    "\n",
    "        # Copy-pasting images\n",
    "        for name in train_FileNames:\n",
    "            shutil.copy(name, 'train/' + cls)\n",
    "\n",
    "        for name in val_FileNames:\n",
    "            shutil.copy(name, 'val/' + cls)\n",
    "\n",
    "        for name in test_FileNames:\n",
    "            shutil.copy(name, 'test/' + cls)\n",
    "        print();\n",
    "        \n",
    "\n",
    "# Preforming Train / Validation / Test Split\n",
    "root_dir = \"./SparkData\"               # Dataset Root Folder\n",
    "classes_dir = [\"Dyskeratotic\", \"Koilocytotic\", \"Metaplastic\", \"Parabasal\", \"Superficial-Intermediate\"]   # Classes\n",
    "TrainValTestSplit(root_dir, classes_dir);"
   ]
  },
  {
   "cell_type": "markdown",
   "id": "fbda7f68",
   "metadata": {
    "papermill": {
     "duration": 0.033784,
     "end_time": "2022-04-28T16:35:06.865111",
     "exception": false,
     "start_time": "2022-04-28T16:35:06.831327",
     "status": "completed"
    },
    "tags": []
   },
   "source": [
    "### Building Model \n"
   ]
  },
  {
   "cell_type": "code",
   "execution_count": 4,
   "id": "def41cb3",
   "metadata": {
    "papermill": {
     "duration": 4.427107,
     "end_time": "2022-04-28T16:35:11.325893",
     "exception": false,
     "start_time": "2022-04-28T16:35:06.898786",
     "status": "completed"
    },
    "scrolled": true,
    "tags": []
   },
   "outputs": [],
   "source": [
    "# Importing Keras for Image Classification\n",
    "import tensorflow as tf \n",
    "import tensorflow.keras\n",
    "from tensorflow.keras.layers import Dense,Conv2D, Flatten, MaxPool2D, Dropout\n",
    "from tensorflow.keras.models import Sequential\n",
    "from tensorflow.keras.preprocessing import image\n",
    "from tensorflow.keras.callbacks import ModelCheckpoint, EarlyStopping\n",
    "from tensorflow.keras.models import load_model\n",
    "from tensorflow.keras.preprocessing.image import ImageDataGenerator \n",
    "from tensorflow.keras import layers \n",
    "from tensorflow.keras import Model"
   ]
  },
  {
   "cell_type": "code",
   "execution_count": 5,
   "id": "e816eece",
   "metadata": {
    "papermill": {
     "duration": 2.225387,
     "end_time": "2022-04-28T16:35:13.585577",
     "exception": false,
     "start_time": "2022-04-28T16:35:11.360190",
     "status": "completed"
    },
    "scrolled": true,
    "tags": []
   },
   "outputs": [
    {
     "name": "stdout",
     "output_type": "stream",
     "text": [
      "Model: \"sequential\"\n",
      "_________________________________________________________________\n",
      " Layer (type)                Output Shape              Param #   \n",
      "=================================================================\n",
      " conv2d (Conv2D)             (None, 73, 73, 32)        896       \n",
      "                                                                 \n",
      " conv2d_1 (Conv2D)           (None, 71, 71, 32)        9248      \n",
      "                                                                 \n",
      " max_pooling2d (MaxPooling2  (None, 35, 35, 32)        0         \n",
      " D)                                                              \n",
      "                                                                 \n",
      " conv2d_2 (Conv2D)           (None, 33, 33, 64)        18496     \n",
      "                                                                 \n",
      " max_pooling2d_1 (MaxPoolin  (None, 16, 16, 64)        0         \n",
      " g2D)                                                            \n",
      "                                                                 \n",
      " conv2d_3 (Conv2D)           (None, 14, 14, 128)       73856     \n",
      "                                                                 \n",
      " max_pooling2d_2 (MaxPoolin  (None, 7, 7, 128)         0         \n",
      " g2D)                                                            \n",
      "                                                                 \n",
      " flatten (Flatten)           (None, 6272)              0         \n",
      "                                                                 \n",
      " dense (Dense)               (None, 128)               802944    \n",
      "                                                                 \n",
      " dense_1 (Dense)             (None, 128)               16512     \n",
      "                                                                 \n",
      " dense_2 (Dense)             (None, 5)                 645       \n",
      "                                                                 \n",
      "=================================================================\n",
      "Total params: 922597 (3.52 MB)\n",
      "Trainable params: 922597 (3.52 MB)\n",
      "Non-trainable params: 0 (0.00 Byte)\n",
      "_________________________________________________________________\n"
     ]
    }
   ],
   "source": [
    "# CNN Model \n",
    "\n",
    "model = Sequential() \n",
    "\n",
    "# Convolutional Layer with input shape (64,64,3)\n",
    "model.add(Conv2D(filters=32, kernel_size= (3,3), activation= 'relu', input_shape=(75,75,3)) )\n",
    "\n",
    "model.add(Conv2D(filters=32, kernel_size=(3,3), activation='relu' ))\n",
    "model.add(MaxPool2D(pool_size=(2,2)))\n",
    "\n",
    "model.add(Conv2D(filters=64, kernel_size=(3,3), activation='relu' ))\n",
    "model.add(MaxPool2D(pool_size=(2,2)))\n",
    "\n",
    "model.add(Conv2D(filters=128, kernel_size=(3,3), activation='relu' ))\n",
    "model.add(MaxPool2D(pool_size=(2,2)))\n",
    "\n",
    "\n",
    "\n",
    "model.add(Flatten())\n",
    "model.add(Dense(units=128, activation='relu'))\n",
    "model.add(Dense(units=128, activation='relu'))\n",
    "model.add(Dense(units=5, activation='sigmoid'))\n",
    "\n",
    "# model.compile(optimizer=tf.keras.optimizers.Adam(learning_rate=0.002),\n",
    "#               loss='binary_crossentropy', metrics=['accuracy'])\n",
    "\n",
    "model.compile(optimizer='adam', loss='categorical_crossentropy', metrics=['accuracy']  )\n",
    "\n",
    "model.summary()"
   ]
  },
  {
   "cell_type": "markdown",
   "id": "2accdea0",
   "metadata": {
    "papermill": {
     "duration": 0.034578,
     "end_time": "2022-04-28T16:35:13.655985",
     "exception": false,
     "start_time": "2022-04-28T16:35:13.621407",
     "status": "completed"
    },
    "tags": []
   },
   "source": [
    "### Preparing data using data generator "
   ]
  },
  {
   "cell_type": "code",
   "execution_count": 6,
   "id": "296a172b",
   "metadata": {
    "papermill": {
     "duration": 0.042388,
     "end_time": "2022-04-28T16:35:13.733226",
     "exception": false,
     "start_time": "2022-04-28T16:35:13.690838",
     "status": "completed"
    },
    "scrolled": true,
    "tags": []
   },
   "outputs": [],
   "source": [
    "# Expand the size of dataset with new transformed images from the original dataset using ImageDataGenerator.\n",
    "train_datagen = image.ImageDataGenerator(zoom_range = 0.2, shear_range = 0.2 , rescale = 1./255 , horizontal_flip=True)\n",
    "val_datagen = image.ImageDataGenerator(rescale = 1./255)\n",
    "test_datagen = image.ImageDataGenerator(rescale = 1./255)"
   ]
  },
  {
   "cell_type": "code",
   "execution_count": 7,
   "id": "20c56a7f",
   "metadata": {
    "papermill": {
     "duration": 0.259305,
     "end_time": "2022-04-28T16:35:14.027248",
     "exception": false,
     "start_time": "2022-04-28T16:35:13.767943",
     "status": "completed"
    },
    "scrolled": true,
    "tags": []
   },
   "outputs": [
    {
     "name": "stdout",
     "output_type": "stream",
     "text": [
      "Found 2832 images belonging to 5 classes.\n"
     ]
    }
   ],
   "source": [
    "train_data = train_datagen.flow_from_directory(directory= \"./train\", target_size=(75, 75), batch_size=100, class_mode = 'categorical')"
   ]
  },
  {
   "cell_type": "code",
   "execution_count": 8,
   "id": "0d4ee363",
   "metadata": {
    "papermill": {
     "duration": 0.045154,
     "end_time": "2022-04-28T16:35:14.108176",
     "exception": false,
     "start_time": "2022-04-28T16:35:14.063022",
     "status": "completed"
    },
    "scrolled": true,
    "tags": []
   },
   "outputs": [
    {
     "data": {
      "text/plain": [
       "{'Dyskeratotic': 0,\n",
       " 'Koilocytotic': 1,\n",
       " 'Metaplastic': 2,\n",
       " 'Parabasal': 3,\n",
       " 'Superficial-Intermediate': 4}"
      ]
     },
     "execution_count": 8,
     "metadata": {},
     "output_type": "execute_result"
    }
   ],
   "source": [
    "train_data.class_indices"
   ]
  },
  {
   "cell_type": "code",
   "execution_count": 9,
   "id": "3afa9629",
   "metadata": {
    "papermill": {
     "duration": 0.145267,
     "end_time": "2022-04-28T16:35:14.288601",
     "exception": false,
     "start_time": "2022-04-28T16:35:14.143334",
     "status": "completed"
    },
    "scrolled": true,
    "tags": []
   },
   "outputs": [
    {
     "name": "stdout",
     "output_type": "stream",
     "text": [
      "Found 608 images belonging to 5 classes.\n"
     ]
    }
   ],
   "source": [
    "val_data = val_datagen.flow_from_directory(directory= \"./val\", target_size=(75, 75), batch_size=100, class_mode = 'categorical')"
   ]
  },
  {
   "cell_type": "code",
   "execution_count": 10,
   "id": "39142112",
   "metadata": {
    "papermill": {
     "duration": 0.14613,
     "end_time": "2022-04-28T16:35:14.471075",
     "exception": false,
     "start_time": "2022-04-28T16:35:14.324945",
     "status": "completed"
    },
    "scrolled": true,
    "tags": []
   },
   "outputs": [
    {
     "name": "stdout",
     "output_type": "stream",
     "text": [
      "Found 609 images belonging to 5 classes.\n"
     ]
    }
   ],
   "source": [
    "test_data = test_datagen.flow_from_directory(directory= \"./test\", target_size=(75, 75), batch_size=100, class_mode = 'categorical')"
   ]
  },
  {
   "cell_type": "code",
   "execution_count": 11,
   "id": "66a7840e",
   "metadata": {
    "papermill": {
     "duration": 0.074734,
     "end_time": "2022-04-28T16:35:14.612093",
     "exception": false,
     "start_time": "2022-04-28T16:35:14.537359",
     "status": "completed"
    },
    "scrolled": true,
    "tags": []
   },
   "outputs": [],
   "source": [
    "# Adding Model check point Callback\n",
    "mc = ModelCheckpoint(filepath=\"cervical_cancer_best_model.hdf5\", monitor= 'val_accuracy', verbose= 1, save_best_only= True, mode = 'auto');\n",
    "call_back = [ mc ];"
   ]
  },
  {
   "cell_type": "code",
   "execution_count": 12,
   "id": "7eae81a2",
   "metadata": {
    "papermill": {
     "duration": 236.42046,
     "end_time": "2022-04-28T16:39:11.090568",
     "exception": false,
     "start_time": "2022-04-28T16:35:14.670108",
     "status": "completed"
    },
    "tags": []
   },
   "outputs": [
    {
     "name": "stdout",
     "output_type": "stream",
     "text": [
      "Epoch 1/32\n",
      "28/28 [==============================] - ETA: 0s - loss: 1.4065 - accuracy: 0.3591\n",
      "Epoch 1: val_accuracy improved from -inf to 0.44500, saving model to cervical_cancer_best_model.hdf5\n",
      "28/28 [==============================] - 7s 232ms/step - loss: 1.4065 - accuracy: 0.3591 - val_loss: 1.2538 - val_accuracy: 0.4450\n",
      "Epoch 2/32\n",
      "28/28 [==============================] - ETA: 0s - loss: 1.1110 - accuracy: 0.5307\n",
      "Epoch 2: val_accuracy improved from 0.44500 to 0.52167, saving model to cervical_cancer_best_model.hdf5\n",
      "28/28 [==============================] - 7s 242ms/step - loss: 1.1110 - accuracy: 0.5307 - val_loss: 1.0973 - val_accuracy: 0.5217\n",
      "Epoch 3/32\n",
      "28/28 [==============================] - ETA: 0s - loss: 0.9888 - accuracy: 0.6193\n",
      "Epoch 3: val_accuracy improved from 0.52167 to 0.68333, saving model to cervical_cancer_best_model.hdf5\n",
      "28/28 [==============================] - 6s 228ms/step - loss: 0.9888 - accuracy: 0.6193 - val_loss: 0.8823 - val_accuracy: 0.6833\n",
      "Epoch 4/32\n",
      "28/28 [==============================] - ETA: 0s - loss: 0.8452 - accuracy: 0.7046\n",
      "Epoch 4: val_accuracy improved from 0.68333 to 0.70167, saving model to cervical_cancer_best_model.hdf5\n",
      "28/28 [==============================] - 7s 230ms/step - loss: 0.8452 - accuracy: 0.7046 - val_loss: 0.7852 - val_accuracy: 0.7017\n",
      "Epoch 5/32\n",
      "28/28 [==============================] - ETA: 0s - loss: 0.7380 - accuracy: 0.7317\n",
      "Epoch 5: val_accuracy improved from 0.70167 to 0.71167, saving model to cervical_cancer_best_model.hdf5\n",
      "28/28 [==============================] - 7s 231ms/step - loss: 0.7380 - accuracy: 0.7317 - val_loss: 0.7550 - val_accuracy: 0.7117\n",
      "Epoch 6/32\n",
      "28/28 [==============================] - ETA: 0s - loss: 0.6954 - accuracy: 0.7434\n",
      "Epoch 6: val_accuracy improved from 0.71167 to 0.79000, saving model to cervical_cancer_best_model.hdf5\n",
      "28/28 [==============================] - 6s 227ms/step - loss: 0.6954 - accuracy: 0.7434 - val_loss: 0.6099 - val_accuracy: 0.7900\n",
      "Epoch 7/32\n",
      "28/28 [==============================] - ETA: 0s - loss: 0.5897 - accuracy: 0.7870\n",
      "Epoch 7: val_accuracy did not improve from 0.79000\n",
      "28/28 [==============================] - 6s 229ms/step - loss: 0.5897 - accuracy: 0.7870 - val_loss: 0.7033 - val_accuracy: 0.7367\n",
      "Epoch 8/32\n",
      "28/28 [==============================] - ETA: 0s - loss: 0.5844 - accuracy: 0.7848\n",
      "Epoch 8: val_accuracy improved from 0.79000 to 0.85000, saving model to cervical_cancer_best_model.hdf5\n",
      "28/28 [==============================] - 6s 229ms/step - loss: 0.5844 - accuracy: 0.7848 - val_loss: 0.4804 - val_accuracy: 0.8500\n",
      "Epoch 9/32\n",
      "28/28 [==============================] - ETA: 0s - loss: 0.5214 - accuracy: 0.8130\n",
      "Epoch 9: val_accuracy did not improve from 0.85000\n",
      "28/28 [==============================] - 7s 248ms/step - loss: 0.5214 - accuracy: 0.8130 - val_loss: 0.5122 - val_accuracy: 0.8267\n",
      "Epoch 10/32\n",
      "28/28 [==============================] - ETA: 0s - loss: 0.4952 - accuracy: 0.8232\n",
      "Epoch 10: val_accuracy did not improve from 0.85000\n",
      "28/28 [==============================] - 7s 233ms/step - loss: 0.4952 - accuracy: 0.8232 - val_loss: 0.4464 - val_accuracy: 0.8317\n",
      "Epoch 11/32\n",
      "28/28 [==============================] - ETA: 0s - loss: 0.4998 - accuracy: 0.8071\n",
      "Epoch 11: val_accuracy did not improve from 0.85000\n",
      "28/28 [==============================] - 6s 227ms/step - loss: 0.4998 - accuracy: 0.8071 - val_loss: 0.4448 - val_accuracy: 0.8350\n",
      "Epoch 12/32\n",
      "28/28 [==============================] - ETA: 0s - loss: 0.4104 - accuracy: 0.8426\n",
      "Epoch 12: val_accuracy did not improve from 0.85000\n",
      "28/28 [==============================] - 7s 249ms/step - loss: 0.4104 - accuracy: 0.8426 - val_loss: 0.5238 - val_accuracy: 0.8200\n",
      "Epoch 13/32\n",
      "28/28 [==============================] - ETA: 0s - loss: 0.4992 - accuracy: 0.8115\n",
      "Epoch 13: val_accuracy did not improve from 0.85000\n",
      "28/28 [==============================] - 7s 252ms/step - loss: 0.4992 - accuracy: 0.8115 - val_loss: 0.4706 - val_accuracy: 0.8400\n",
      "Epoch 14/32\n",
      "28/28 [==============================] - ETA: 0s - loss: 0.4245 - accuracy: 0.8382\n",
      "Epoch 14: val_accuracy improved from 0.85000 to 0.86167, saving model to cervical_cancer_best_model.hdf5\n",
      "28/28 [==============================] - 7s 252ms/step - loss: 0.4245 - accuracy: 0.8382 - val_loss: 0.4225 - val_accuracy: 0.8617\n",
      "Epoch 15/32\n",
      "28/28 [==============================] - ETA: 0s - loss: 0.4187 - accuracy: 0.8393\n",
      "Epoch 15: val_accuracy did not improve from 0.86167\n",
      "28/28 [==============================] - 7s 263ms/step - loss: 0.4187 - accuracy: 0.8393 - val_loss: 0.4808 - val_accuracy: 0.8200\n",
      "Epoch 16/32\n",
      "28/28 [==============================] - ETA: 0s - loss: 0.3957 - accuracy: 0.8496\n",
      "Epoch 16: val_accuracy did not improve from 0.86167\n",
      "28/28 [==============================] - 7s 262ms/step - loss: 0.3957 - accuracy: 0.8496 - val_loss: 0.3863 - val_accuracy: 0.8550\n",
      "Epoch 17/32\n",
      "28/28 [==============================] - ETA: 0s - loss: 0.3631 - accuracy: 0.8664\n",
      "Epoch 17: val_accuracy improved from 0.86167 to 0.87500, saving model to cervical_cancer_best_model.hdf5\n",
      "28/28 [==============================] - 7s 256ms/step - loss: 0.3631 - accuracy: 0.8664 - val_loss: 0.3787 - val_accuracy: 0.8750\n",
      "Epoch 18/32\n",
      "28/28 [==============================] - ETA: 0s - loss: 0.3327 - accuracy: 0.8734\n",
      "Epoch 18: val_accuracy did not improve from 0.87500\n",
      "28/28 [==============================] - 7s 251ms/step - loss: 0.3327 - accuracy: 0.8734 - val_loss: 0.3737 - val_accuracy: 0.8633\n",
      "Epoch 19/32\n",
      "28/28 [==============================] - ETA: 0s - loss: 0.3927 - accuracy: 0.8602\n",
      "Epoch 19: val_accuracy did not improve from 0.87500\n",
      "28/28 [==============================] - 7s 239ms/step - loss: 0.3927 - accuracy: 0.8602 - val_loss: 0.4117 - val_accuracy: 0.8617\n",
      "Epoch 20/32\n",
      "28/28 [==============================] - ETA: 0s - loss: 0.3302 - accuracy: 0.8785\n",
      "Epoch 20: val_accuracy improved from 0.87500 to 0.88333, saving model to cervical_cancer_best_model.hdf5\n",
      "28/28 [==============================] - 7s 234ms/step - loss: 0.3302 - accuracy: 0.8785 - val_loss: 0.3579 - val_accuracy: 0.8833\n",
      "Epoch 21/32\n",
      "28/28 [==============================] - ETA: 0s - loss: 0.3108 - accuracy: 0.8873\n",
      "Epoch 21: val_accuracy did not improve from 0.88333\n",
      "28/28 [==============================] - 7s 240ms/step - loss: 0.3108 - accuracy: 0.8873 - val_loss: 0.3293 - val_accuracy: 0.8817\n",
      "Epoch 22/32\n",
      "28/28 [==============================] - ETA: 0s - loss: 0.2856 - accuracy: 0.8946\n",
      "Epoch 22: val_accuracy did not improve from 0.88333\n",
      "28/28 [==============================] - 7s 238ms/step - loss: 0.2856 - accuracy: 0.8946 - val_loss: 0.4118 - val_accuracy: 0.8600\n",
      "Epoch 23/32\n",
      "28/28 [==============================] - ETA: 0s - loss: 0.3284 - accuracy: 0.8818\n",
      "Epoch 23: val_accuracy improved from 0.88333 to 0.89333, saving model to cervical_cancer_best_model.hdf5\n",
      "28/28 [==============================] - 7s 241ms/step - loss: 0.3284 - accuracy: 0.8818 - val_loss: 0.3125 - val_accuracy: 0.8933\n",
      "Epoch 24/32\n",
      "28/28 [==============================] - ETA: 0s - loss: 0.3057 - accuracy: 0.8869\n",
      "Epoch 24: val_accuracy did not improve from 0.89333\n",
      "28/28 [==============================] - 7s 235ms/step - loss: 0.3057 - accuracy: 0.8869 - val_loss: 0.3573 - val_accuracy: 0.8767\n",
      "Epoch 25/32\n",
      "28/28 [==============================] - ETA: 0s - loss: 0.2771 - accuracy: 0.8953\n",
      "Epoch 25: val_accuracy did not improve from 0.89333\n",
      "28/28 [==============================] - 7s 242ms/step - loss: 0.2771 - accuracy: 0.8953 - val_loss: 0.3180 - val_accuracy: 0.8850\n",
      "Epoch 26/32\n",
      "28/28 [==============================] - ETA: 0s - loss: 0.2460 - accuracy: 0.9143\n",
      "Epoch 26: val_accuracy did not improve from 0.89333\n",
      "28/28 [==============================] - 7s 239ms/step - loss: 0.2460 - accuracy: 0.9143 - val_loss: 0.2877 - val_accuracy: 0.8883\n",
      "Epoch 27/32\n",
      "28/28 [==============================] - ETA: 0s - loss: 0.3085 - accuracy: 0.8832\n",
      "Epoch 27: val_accuracy did not improve from 0.89333\n",
      "28/28 [==============================] - 7s 237ms/step - loss: 0.3085 - accuracy: 0.8832 - val_loss: 0.3434 - val_accuracy: 0.8767\n",
      "Epoch 28/32\n",
      "28/28 [==============================] - ETA: 0s - loss: 0.2267 - accuracy: 0.9217\n",
      "Epoch 28: val_accuracy improved from 0.89333 to 0.90333, saving model to cervical_cancer_best_model.hdf5\n",
      "28/28 [==============================] - 7s 237ms/step - loss: 0.2267 - accuracy: 0.9217 - val_loss: 0.2968 - val_accuracy: 0.9033\n",
      "Epoch 29/32\n",
      "28/28 [==============================] - ETA: 0s - loss: 0.1885 - accuracy: 0.9283\n",
      "Epoch 29: val_accuracy improved from 0.90333 to 0.91000, saving model to cervical_cancer_best_model.hdf5\n",
      "28/28 [==============================] - 7s 232ms/step - loss: 0.1885 - accuracy: 0.9283 - val_loss: 0.2844 - val_accuracy: 0.9100\n",
      "Epoch 30/32\n",
      "28/28 [==============================] - ETA: 0s - loss: 0.2195 - accuracy: 0.9198\n",
      "Epoch 30: val_accuracy did not improve from 0.91000\n",
      "28/28 [==============================] - 7s 234ms/step - loss: 0.2195 - accuracy: 0.9198 - val_loss: 0.2936 - val_accuracy: 0.9017\n",
      "Epoch 31/32\n",
      "28/28 [==============================] - ETA: 0s - loss: 0.2180 - accuracy: 0.9180\n",
      "Epoch 31: val_accuracy did not improve from 0.91000\n",
      "28/28 [==============================] - 7s 238ms/step - loss: 0.2180 - accuracy: 0.9180 - val_loss: 0.2705 - val_accuracy: 0.9017\n",
      "Epoch 32/32\n",
      "28/28 [==============================] - ETA: 0s - loss: 0.1938 - accuracy: 0.9275\n",
      "Epoch 32: val_accuracy did not improve from 0.91000\n",
      "28/28 [==============================] - 7s 240ms/step - loss: 0.1938 - accuracy: 0.9275 - val_loss: 0.2709 - val_accuracy: 0.9050\n"
     ]
    }
   ],
   "source": [
    "# Fitting the Model\n",
    "cnn = model.fit(\n",
    "    train_data, \n",
    "    steps_per_epoch = train_data.samples//train_data.batch_size, \n",
    "    epochs = 32, \n",
    "    validation_data = val_data, \n",
    "    validation_steps = val_data.samples//val_data.batch_size,\n",
    "    callbacks = call_back \n",
    "    )"
   ]
  },
  {
   "cell_type": "code",
   "execution_count": 13,
   "id": "f02337a9",
   "metadata": {
    "papermill": {
     "duration": 0.415877,
     "end_time": "2022-04-28T16:39:11.783094",
     "exception": false,
     "start_time": "2022-04-28T16:39:11.367217",
     "status": "completed"
    },
    "scrolled": true,
    "tags": []
   },
   "outputs": [],
   "source": [
    "# Loading the Best Fit Model \n",
    "model = load_model(\"./cervical_cancer_best_model.hdf5\")"
   ]
  },
  {
   "cell_type": "markdown",
   "id": "0803c6fe",
   "metadata": {
    "papermill": {
     "duration": 0.279647,
     "end_time": "2022-04-28T16:39:12.349322",
     "exception": false,
     "start_time": "2022-04-28T16:39:12.069675",
     "status": "completed"
    },
    "tags": []
   },
   "source": [
    "### Model Accuracy"
   ]
  },
  {
   "cell_type": "code",
   "execution_count": 14,
   "id": "628a9b53",
   "metadata": {
    "papermill": {
     "duration": 0.758657,
     "end_time": "2022-04-28T16:39:13.389568",
     "exception": false,
     "start_time": "2022-04-28T16:39:12.630911",
     "status": "completed"
    },
    "tags": []
   },
   "outputs": [
    {
     "name": "stdout",
     "output_type": "stream",
     "text": [
      "The accuracy of your model is = 90.96879959106445 %\n"
     ]
    }
   ],
   "source": [
    "# Checking the Accuracy of the Model \n",
    "accuracy = model.evaluate_generator(generator= test_data)[1] \n",
    "print(f\"The accuracy of your model is = {accuracy*100} %\")"
   ]
  },
  {
   "cell_type": "code",
   "execution_count": 15,
   "id": "b6212ea4",
   "metadata": {
    "papermill": {
     "duration": 0.288866,
     "end_time": "2022-04-28T16:39:13.960671",
     "exception": false,
     "start_time": "2022-04-28T16:39:13.671805",
     "status": "completed"
    },
    "scrolled": true,
    "tags": []
   },
   "outputs": [],
   "source": [
    "h =  cnn.history;\n",
    "h.keys();"
   ]
  },
  {
   "cell_type": "code",
   "execution_count": 16,
   "id": "185eeac0",
   "metadata": {
    "papermill": {
     "duration": 0.477145,
     "end_time": "2022-04-28T16:39:14.717931",
     "exception": false,
     "start_time": "2022-04-28T16:39:14.240786",
     "status": "completed"
    },
    "tags": []
   },
   "outputs": [
    {
     "data": {
      "image/png": "[encoded data removed]",
      "text/plain": [
       "<Figure size 640x480 with 1 Axes>"
      ]
     },
     "metadata": {},
     "output_type": "display_data"
    }
   ],
   "source": [
    "# Ploting Accuracy In Training Set & Validation Set\n",
    "\n",
    "plt.plot(h['accuracy'])\n",
    "plt.plot(h['val_accuracy'] , c = \"red\")\n",
    "plt.title(\"acc vs v-acc\")\n",
    "plt.show()"
   ]
  },
  {
   "cell_type": "code",
   "execution_count": 17,
   "id": "0257e8c1",
   "metadata": {
    "papermill": {
     "duration": 0.495361,
     "end_time": "2022-04-28T16:39:15.496503",
     "exception": false,
     "start_time": "2022-04-28T16:39:15.001142",
     "status": "completed"
    },
    "tags": []
   },
   "outputs": [
    {
     "data": {
      "image/png": "[encoded data removed]",
      "text/plain": [
       "<Figure size 640x480 with 1 Axes>"
      ]
     },
     "metadata": {},
     "output_type": "display_data"
    }
   ],
   "source": [
    "# Ploting Loss In Training Set & Validation Set\n",
    "\n",
    "plt.plot(h['loss'])\n",
    "plt.plot(h['val_loss'] , c = \"red\")\n",
    "plt.title(\"loss vs v-loss\")\n",
    "plt.show()"
   ]
  },
  {
   "cell_type": "code",
   "execution_count": 18,
   "id": "1a1635b7",
   "metadata": {
    "papermill": {
     "duration": 0.795378,
     "end_time": "2022-04-28T16:39:16.592194",
     "exception": false,
     "start_time": "2022-04-28T16:39:15.796816",
     "status": "completed"
    },
    "tags": []
   },
   "outputs": [
    {
     "data": {
      "image/png": "[encoded data removed]",
      "text/plain": [
       "<Figure size 1500x500 with 2 Axes>"
      ]
     },
     "metadata": {},
     "output_type": "display_data"
    }
   ],
   "source": [
    "# Plot model performance\n",
    "acc = cnn.history['accuracy']\n",
    "val_acc = cnn.history['val_accuracy']\n",
    "loss = cnn.history['loss']\n",
    "val_loss = cnn.history['val_loss']\n",
    "epochs_range = range(1, len(cnn.epoch) + 1)\n",
    "\n",
    "plt.figure(figsize=(15,5))\n",
    "\n",
    "plt.subplot(1, 2, 1)\n",
    "plt.plot(epochs_range, acc, label='Train Set')\n",
    "plt.plot(epochs_range, val_acc, label='Val Set')\n",
    "plt.legend(loc=\"best\")\n",
    "plt.xlabel('Epochs')\n",
    "plt.ylabel('Accuracy')\n",
    "plt.title('Model Accuracy')\n",
    "\n",
    "plt.subplot(1, 2, 2)\n",
    "plt.plot(epochs_range, loss, label='Train Set')\n",
    "plt.plot(epochs_range, val_loss, label='Val Set')\n",
    "plt.legend(loc=\"best\")\n",
    "plt.xlabel('Epochs')\n",
    "plt.ylabel('Loss')\n",
    "plt.title('Model Loss')\n",
    "\n",
    "plt.tight_layout()\n",
    "plt.show()"
   ]
  },
  {
   "cell_type": "code",
   "execution_count": 19,
   "id": "8cb3d811",
   "metadata": {},
   "outputs": [
    {
     "data": {
      "text/plain": [
       "[0.3590776026248932,\n",
       " 0.5307466983795166,\n",
       " 0.6193264722824097,\n",
       " 0.7046120166778564,\n",
       " 0.7316983938217163,\n",
       " 0.7434114217758179,\n",
       " 0.7869692444801331,\n",
       " 0.784773051738739,\n",
       " 0.8129575252532959,\n",
       " 0.8232064247131348,\n",
       " 0.8071010112762451,\n",
       " 0.8426061272621155,\n",
       " 0.8114933967590332,\n",
       " 0.8382142782211304,\n",
       " 0.8393118381500244,\n",
       " 0.8495607376098633,\n",
       " 0.8663982152938843,\n",
       " 0.8733528256416321,\n",
       " 0.8601756691932678,\n",
       " 0.8784773349761963,\n",
       " 0.8872621059417725,\n",
       " 0.8945827484130859,\n",
       " 0.8817716240882874,\n",
       " 0.8868960738182068,\n",
       " 0.8953148126602173,\n",
       " 0.9143484830856323,\n",
       " 0.88323575258255,\n",
       " 0.9216691255569458,\n",
       " 0.9282577037811279,\n",
       " 0.9198389649391174,\n",
       " 0.9180088043212891,\n",
       " 0.9275256395339966]"
      ]
     },
     "execution_count": 19,
     "metadata": {},
     "output_type": "execute_result"
    }
   ],
   "source": [
    "acc"
   ]
  },
  {
   "cell_type": "code",
   "execution_count": null,
   "id": "893db664",
   "metadata": {
    "scrolled": true
   },
   "outputs": [],
   "source": []
  }
 ],
 "metadata": {
  "kernelspec": {
   "display_name": "Python 3 (ipykernel)",
   "language": "python",
   "name": "python3"
  },
  "language_info": {
   "codemirror_mode": {
    "name": "ipython",
    "version": 3
   },
   "file_extension": ".py",
   "mimetype": "text/x-python",
   "name": "python",
   "nbconvert_exporter": "python",
   "pygments_lexer": "ipython3",
   "version": "3.11.3"
  },
  "papermill": {
   "default_parameters": {},
   "duration": 1164.649685,
   "end_time": "2022-04-28T16:53:53.753639",
   "environment_variables": {},
   "exception": true,
   "input_path": "__notebook__.ipynb",
   "output_path": "__notebook__.ipynb",
   "parameters": {},
   "start_time": "2022-04-28T16:34:29.103954",
   "version": "2.3.3"
  }
 },
 "nbformat": 4,
 "nbformat_minor": 5
}
