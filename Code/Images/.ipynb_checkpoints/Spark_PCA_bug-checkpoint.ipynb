{
 "cells": [
  {
   "cell_type": "code",
   "execution_count": 1,
   "id": "57ee76f6-64ab-485b-a4b6-11b02b289767",
   "metadata": {},
   "outputs": [
    {
     "name": "stderr",
     "output_type": "stream",
     "text": [
      "bash: /home/thuannhan/miniconda3/envs/tf/lib/libtinfo.so.6: no version information available (required by bash)\n",
      "bash: /home/thuannhan/miniconda3/envs/tf/lib/libtinfo.so.6: no version information available (required by bash)\n",
      "23/08/04 03:39:03 WARN Utils: Your hostname, pop-os resolves to a loopback address: 127.0.1.1; using 192.168.1.4 instead (on interface enp3s0)\n",
      "23/08/04 03:39:03 WARN Utils: Set SPARK_LOCAL_IP if you need to bind to another address\n",
      "WARNING: An illegal reflective access operation has occurred\n",
      "WARNING: Illegal reflective access by org.apache.spark.unsafe.Platform (file:/opt/spark/jars/spark-unsafe_2.12-3.2.0.jar) to constructor java.nio.DirectByteBuffer(long,int)\n",
      "WARNING: Please consider reporting this to the maintainers of org.apache.spark.unsafe.Platform\n",
      "WARNING: Use --illegal-access=warn to enable warnings of further illegal reflective access operations\n",
      "WARNING: All illegal access operations will be denied in a future release\n",
      "Using Spark's default log4j profile: org/apache/spark/log4j-defaults.properties\n",
      "Setting default log level to \"WARN\".\n",
      "To adjust logging level use sc.setLogLevel(newLevel). For SparkR, use setLogLevel(newLevel).\n",
      "23/08/04 03:39:03 WARN NativeCodeLoader: Unable to load native-hadoop library for your platform... using builtin-java classes where applicable\n",
      "23/08/04 03:39:04 WARN Utils: Service 'SparkUI' could not bind on port 4040. Attempting port 4041.\n"
     ]
    }
   ],
   "source": [
    "import findspark\n",
    "findspark.init()\n",
    "import pyspark\n",
    "from pyspark.sql import SparkSession\n",
    "spark = SparkSession.builder.appName('SparkImage').getOrCreate()"
   ]
  },
  {
   "cell_type": "code",
   "execution_count": 2,
   "id": "7d84337e-5a0e-4924-8235-8d2792ebc4df",
   "metadata": {},
   "outputs": [],
   "source": [
    "from PIL import Image, ImageDraw\n",
    "from pyspark.sql.functions import lit\n",
    "import pyspark.sql.functions as F\n",
    "from pyspark.ml.image import ImageSchema\n",
    "from pyspark.ml.linalg import DenseVector, VectorUDT"
   ]
  },
  {
   "cell_type": "code",
   "execution_count": 3,
   "id": "284d1177-3e63-42c0-a487-c58e304080fa",
   "metadata": {},
   "outputs": [],
   "source": [
    "df0 = spark.read.format(\"image\").option(\"dropInvalid\", True).load(\"SparkData/Dyskeratotic\")\n",
    "df0.select(\"image.origin\", \"image.width\", \"image.height\", \"image.nChannels\", \"image.mode\", \"image.data\")\n",
    "df_dys = df0.withColumn(\"label\",lit(0))\n",
    "\n",
    "df1 = spark.read.format(\"image\").option(\"dropInvalid\", True).load(\"SparkData/Koilocytotic\")\n",
    "df1.select(\"image.origin\", \"image.width\", \"image.height\", \"image.nChannels\", \"image.mode\", \"image.data\")\n",
    "df_koi = df1.withColumn(\"label\",lit(1))\n",
    "\n",
    "df2 = spark.read.format(\"image\").option(\"dropInvalid\", True).load(\"SparkData/Metaplastic\")\n",
    "df2.select(\"image.origin\", \"image.width\", \"image.height\", \"image.nChannels\", \"image.mode\", \"image.data\")\n",
    "df_meta = df2.withColumn(\"label\",lit(2))\n",
    "\n",
    "df3 = spark.read.format(\"image\").option(\"dropInvalid\", True).load(\"SparkData/Parabasal\")\n",
    "df3.select(\"image.origin\", \"image.width\", \"image.height\", \"image.nChannels\", \"image.mode\", \"image.data\")\n",
    "df_para = df3.withColumn(\"label\",lit(3))\n",
    "\n",
    "df4 = spark.read.format(\"image\").option(\"dropInvalid\", True).load(\"SparkData/Superficial-Intermediate\")\n",
    "df4.select(\"image.origin\", \"image.width\", \"image.height\", \"image.nChannels\", \"image.mode\", \"image.data\")\n",
    "df_super = df4.withColumn(\"label\",lit(4))\n",
    "\n"
   ]
  },
  {
   "cell_type": "code",
   "execution_count": 4,
   "id": "d728f210-5cd3-4930-9589-23b53cc2a550",
   "metadata": {},
   "outputs": [],
   "source": [
    "from functools import reduce\n",
    "from pyspark.sql import DataFrame\n",
    "\n",
    "dfs = [df_dys,df_koi,df_meta,df_para,df_super]\n",
    "df = reduce(DataFrame.unionAll, dfs)\n"
   ]
  },
  {
   "cell_type": "code",
   "execution_count": 7,
   "id": "6a83f250-216b-468b-87d2-553fef4f8aff",
   "metadata": {},
   "outputs": [
    {
     "name": "stdout",
     "output_type": "stream",
     "text": [
      "+--------------------+-----+\n",
      "|               image|label|\n",
      "+--------------------+-----+\n",
      "|{file:///home/thu...|    0|\n",
      "|{file:///home/thu...|    0|\n",
      "|{file:///home/thu...|    0|\n",
      "|{file:///home/thu...|    0|\n",
      "|{file:///home/thu...|    0|\n",
      "+--------------------+-----+\n",
      "only showing top 5 rows\n",
      "\n"
     ]
    }
   ],
   "source": [
    "df.show(5)"
   ]
  },
  {
   "cell_type": "code",
   "execution_count": 9,
   "id": "ecc49af0-324b-42fd-8076-d6b9a80b0527",
   "metadata": {},
   "outputs": [
    {
     "name": "stdout",
     "output_type": "stream",
     "text": [
      "+--------------------+-----+\n",
      "|            features|label|\n",
      "+--------------------+-----+\n",
      "|[73.0,59.0,61.0,8...|    0|\n",
      "|[71.0,63.0,63.0,7...|    0|\n",
      "|[58.0,29.0,68.0,6...|    0|\n",
      "|[49.0,59.0,69.0,5...|    0|\n",
      "|[79.0,53.0,67.0,8...|    0|\n",
      "+--------------------+-----+\n",
      "only showing top 5 rows\n",
      "\n"
     ]
    },
    {
     "name": "stderr",
     "output_type": "stream",
     "text": [
      "                                                                                \r"
     ]
    }
   ],
   "source": [
    "ImageSchema.imageFields\n",
    "\n",
    "img2vec = F.udf(lambda x: DenseVector(ImageSchema.toNDArray(x).flatten()), VectorUDT())\n",
    "\n",
    "df = df.withColumn('features', img2vec(\"image\"))\n",
    "df = df.select(\"features\", \"label\")\n",
    "df.show(5)"
   ]
  },
  {
   "cell_type": "code",
   "execution_count": 14,
   "id": "eb918b05-e860-4df2-8ea6-1cd363d60c49",
   "metadata": {},
   "outputs": [
    {
     "data": {
      "text/plain": [
       "DataFrame[summary: string, label: string]"
      ]
     },
     "execution_count": 14,
     "metadata": {},
     "output_type": "execute_result"
    }
   ],
   "source": [
    "df.describe()"
   ]
  },
  {
   "cell_type": "code",
   "execution_count": null,
   "id": "695112b1-8101-40e1-be14-2a0c3b306eef",
   "metadata": {},
   "outputs": [],
   "source": []
  },
  {
   "cell_type": "code",
   "execution_count": null,
   "id": "caa1b10c-ad6f-4085-b265-a77a3f5e91fc",
   "metadata": {},
   "outputs": [],
   "source": []
  }
 ],
 "metadata": {
  "kernelspec": {
   "display_name": "Python 3 (ipykernel)",
   "language": "python",
   "name": "python3"
  },
  "language_info": {
   "codemirror_mode": {
    "name": "ipython",
    "version": 3
   },
   "file_extension": ".py",
   "mimetype": "text/x-python",
   "name": "python",
   "nbconvert_exporter": "python",
   "pygments_lexer": "ipython3",
   "version": "3.9.17"
  }
 },
 "nbformat": 4,
 "nbformat_minor": 5
}
