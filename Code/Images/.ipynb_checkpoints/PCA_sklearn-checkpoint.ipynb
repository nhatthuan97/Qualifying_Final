{
 "cells": [
  {
   "cell_type": "code",
   "execution_count": 3,
   "id": "3ffe5d1c-e1ba-4af8-a1b8-5546fd604176",
   "metadata": {
    "tags": []
   },
   "outputs": [],
   "source": [
    "import tensorflow.keras as keras\n",
    "import numpy as np\n",
    "from IPython.display import display\n",
    "import matplotlib.pyplot as plt\n",
    "%matplotlib inline\n",
    "from sklearn.model_selection import KFold\n",
    "from sklearn.metrics import accuracy_score\n",
    "from sklearn.metrics import hamming_loss\n",
    "import tensorflow as tf\n",
    "from tensorflow.keras.preprocessing import image\n",
    "from tensorflow.keras.applications.xception import preprocess_input, decode_predictions\n",
    "import os"
   ]
  },
  {
   "cell_type": "code",
   "execution_count": 2,
   "id": "53e9989e-4524-4f94-8c34-0c852ec721e9",
   "metadata": {
    "tags": []
   },
   "outputs": [],
   "source": [
    "def get_images(path):\n",
    "    img = image.load_img(img_path, color_mode=\"grayscale\", target_size=(77, 77))\n",
    "    x = image.img_to_array(img)\n",
    "    x = np.expand_dims(x, axis=0)\n",
    "    x = preprocess_input(x)\n",
    "    return x"
   ]
  },
  {
   "cell_type": "code",
   "execution_count": 4,
   "id": "2ea69b83-38e6-467e-a6f5-7925087d6860",
   "metadata": {
    "tags": []
   },
   "outputs": [],
   "source": [
    "def get_all_file_name(path):\n",
    "    dir_list=os.listdir(path)\n",
    "    return dir_list"
   ]
  },
  {
   "cell_type": "code",
   "execution_count": 11,
   "id": "9915e7ec-d92f-42bd-8dba-36659730171b",
   "metadata": {
    "tags": []
   },
   "outputs": [
    {
     "ename": "FileNotFoundError",
     "evalue": "[Errno 2] No such file or directory: '.\\\\SparkData\\\\Dyskeratotic)'",
     "output_type": "error",
     "traceback": [
      "\u001b[0;31m---------------------------------------------------------------------------\u001b[0m",
      "\u001b[0;31mFileNotFoundError\u001b[0m                         Traceback (most recent call last)",
      "Cell \u001b[0;32mIn[11], line 1\u001b[0m\n\u001b[0;32m----> 1\u001b[0m \u001b[38;5;28mprint\u001b[39m(get_all_file_name(\u001b[38;5;124m\"\u001b[39m\u001b[38;5;124m.\u001b[39m\u001b[38;5;124m\\\u001b[39m\u001b[38;5;124mSparkData\u001b[39m\u001b[38;5;124m\\\u001b[39m\u001b[38;5;124mDyskeratotic)\u001b[39m\u001b[38;5;124m\"\u001b[39m))\n",
      "Cell \u001b[0;32mIn[4], line 2\u001b[0m, in \u001b[0;36mget_all_file_name\u001b[0;34m(path)\u001b[0m\n\u001b[1;32m      1\u001b[0m \u001b[38;5;28;01mdef\u001b[39;00m \u001b[38;5;21mget_all_file_name\u001b[39m(path):\n\u001b[0;32m----> 2\u001b[0m     dir_list\u001b[38;5;241m=\u001b[39mos\u001b[38;5;241m.\u001b[39mlistdir(path)\n\u001b[1;32m      3\u001b[0m     \u001b[38;5;28;01mreturn\u001b[39;00m dir_list\n",
      "\u001b[0;31mFileNotFoundError\u001b[0m: [Errno 2] No such file or directory: '.\\\\SparkData\\\\Dyskeratotic)'"
     ]
    }
   ],
   "source": [
    "print(get_all_file_name(\"SparkData\\Dyskeratotic)\"))"
   ]
  },
  {
   "cell_type": "code",
   "execution_count": null,
   "id": "c026d2c2-7cbf-41f8-be89-b075bd7b0a21",
   "metadata": {},
   "outputs": [],
   "source": []
  }
 ],
 "metadata": {
  "kernelspec": {
   "display_name": "Python 3 (ipykernel)",
   "language": "python",
   "name": "python3"
  },
  "language_info": {
   "codemirror_mode": {
    "name": "ipython",
    "version": 3
   },
   "file_extension": ".py",
   "mimetype": "text/x-python",
   "name": "python",
   "nbconvert_exporter": "python",
   "pygments_lexer": "ipython3",
   "version": "3.11.3"
  }
 },
 "nbformat": 4,
 "nbformat_minor": 5
}
